{
 "cells": [
  {
   "cell_type": "code",
   "execution_count": 35,
   "id": "3df10e0f",
   "metadata": {},
   "outputs": [
    {
     "name": "stdout",
     "output_type": "stream",
     "text": [
      "hello there akhil akhil akhil\n"
     ]
    }
   ],
   "source": [
    "hi = \"hello there\"\n",
    "name = \"akhil\"\n",
    "greet = hi + (\" \" + name)*3\n",
    "print(greet)"
   ]
  },
  {
   "cell_type": "code",
   "execution_count": 5,
   "id": "50b6f2d5",
   "metadata": {},
   "outputs": [
    {
     "name": "stdout",
     "output_type": "stream",
     "text": [
      "1\n",
      "my fav num is 1 . x = 1\n",
      "my fav num is1.x =1\n",
      "my fav num is 1.x=1\n"
     ]
    }
   ],
   "source": [
    "x = 1\n",
    "print(x)\n",
    "x_str = str(x)\n",
    "print(\"my fav num is\",x,\".\",\"x =\",x)\n",
    "print(\"my fav num is\" + x_str + \".\" + \"x =\" + x_str)\n",
    "print(\"my fav num is\",x_str + \".\" + \"x=\" + x_str)"
   ]
  },
  {
   "cell_type": "code",
   "execution_count": 7,
   "id": "5bf6b8ce",
   "metadata": {},
   "outputs": [
    {
     "name": "stdout",
     "output_type": "stream",
     "text": [
      "Type anything...Hello\n",
      "HelloHelloHelloHelloHello\n"
     ]
    }
   ],
   "source": [
    "text = input(\"Type anything...\")\n",
    "print(5*text)"
   ]
  },
  {
   "cell_type": "code",
   "execution_count": 10,
   "id": "860bcca4",
   "metadata": {},
   "outputs": [
    {
     "name": "stdout",
     "output_type": "stream",
     "text": [
      "Type anything...6\n",
      "30\n"
     ]
    }
   ],
   "source": [
    "num = int(input(\"Type anything...\"))\n",
    "print(5*num)"
   ]
  },
  {
   "cell_type": "code",
   "execution_count": 14,
   "id": "5b1ecef7",
   "metadata": {},
   "outputs": [
    {
     "data": {
      "text/plain": [
       "True"
      ]
     },
     "execution_count": 14,
     "metadata": {},
     "output_type": "execute_result"
    }
   ],
   "source": [
    "\"b\" > \"a\""
   ]
  },
  {
   "cell_type": "code",
   "execution_count": 18,
   "id": "28b3621a",
   "metadata": {},
   "outputs": [
    {
     "name": "stdout",
     "output_type": "stream",
     "text": [
      "Enter a number for x 4\n",
      "Enter a number for y 4\n",
      "x and y are equal\n",
      "Therefore, x/y is 1.0\n",
      "Thanks!\n"
     ]
    }
   ],
   "source": [
    "x = float(input(\"Enter a number for x \"))\n",
    "y = float(input(\"Enter a number for y \"))\n",
    "if x == y:\n",
    "    print(\"x and y are equal\")\n",
    "    if y != 0:\n",
    "        print(\"Therefore, x/y is\",x/y)\n",
    "elif x < y:\n",
    "    print(\"x is smaller\")\n",
    "else:\n",
    "    print(\"y is smaller\")\n",
    "print(\"Thanks!\")    "
   ]
  },
  {
   "cell_type": "code",
   "execution_count": 19,
   "id": "56087293",
   "metadata": {},
   "outputs": [
    {
     "name": "stdout",
     "output_type": "stream",
     "text": [
      "0\n",
      "1\n",
      "2\n",
      "3\n",
      "4\n"
     ]
    }
   ],
   "source": [
    "n = 0\n",
    "while n < 5:\n",
    "    print(n)\n",
    "    n = n + 1"
   ]
  },
  {
   "cell_type": "code",
   "execution_count": 21,
   "id": "9aee4f6a",
   "metadata": {},
   "outputs": [
    {
     "name": "stdout",
     "output_type": "stream",
     "text": [
      "0\n",
      "1\n",
      "2\n",
      "3\n",
      "4\n"
     ]
    }
   ],
   "source": [
    "for n in range(5):\n",
    "    print(n)"
   ]
  },
  {
   "cell_type": "code",
   "execution_count": 5,
   "id": "c63676be",
   "metadata": {},
   "outputs": [
    {
     "name": "stdout",
     "output_type": "stream",
     "text": [
      "24\n"
     ]
    }
   ],
   "source": [
    "mysum = 0\n",
    "for i in range(7, 10):\n",
    "    mysum += i\n",
    "print(mysum)    "
   ]
  },
  {
   "cell_type": "code",
   "execution_count": 3,
   "id": "7cf41183",
   "metadata": {},
   "outputs": [
    {
     "name": "stdout",
     "output_type": "stream",
     "text": [
      "21\n"
     ]
    }
   ],
   "source": [
    "mysum = 0\n",
    "for i in range(5, 11, 2):\n",
    "    mysum += i\n",
    "print(mysum)  \n"
   ]
  },
  {
   "cell_type": "code",
   "execution_count": 2,
   "id": "f78b9ff2",
   "metadata": {},
   "outputs": [
    {
     "name": "stdout",
     "output_type": "stream",
     "text": [
      "0\n",
      "1\n",
      "2\n",
      "3\n",
      "4\n",
      "15\n"
     ]
    }
   ],
   "source": [
    "mysum = 0\n",
    "for i in range(10):\n",
    "    mysum += i\n",
    "    if i == 5:\n",
    "        break\n",
    "    print(i)\n",
    "print(mysum)\n"
   ]
  },
  {
   "cell_type": "code",
   "execution_count": 36,
   "id": "a5a54869",
   "metadata": {},
   "outputs": [
    {
     "name": "stdout",
     "output_type": "stream",
     "text": [
      "Please enter the number: -25\n",
      "The Perfect root of the number is 5i\n"
     ]
    }
   ],
   "source": [
    "# CHECKING IF A NUMBER IS A PERFECT SQUARE\n",
    "Num = int(input(\"Please enter the number: \"))\n",
    "ans = 0 \n",
    "if Num > 0:\n",
    "  while ans**2 < Num:\n",
    "    ans = ans + 1\n",
    "  if ans**2 == Num:\n",
    "    print(\" The square root of Num is\", ans,\"And the Number is a perfect square\")\n",
    "  else:\n",
    "    print(\"The number is not a perfect square\")   \n",
    "else:\n",
    "  while ans**2 < -Num:\n",
    "    ans = ans + 1\n",
    "  if ans**2 == -Num:\n",
    "    a = str(ans)\n",
    "    print(\"The Perfect root of the number is\",a + \"i\")\n",
    "  else:\n",
    "    print(\"The Number is not a Perfect Square\")              "
   ]
  },
  {
   "cell_type": "code",
   "execution_count": 17,
   "id": "bb967f70",
   "metadata": {},
   "outputs": [
    {
     "name": "stdout",
     "output_type": "stream",
     "text": [
      "Enter the number9\n",
      "-9\n"
     ]
    }
   ],
   "source": [
    "i = int(input(\"Enter the number\"))\n",
    "print(-i)"
   ]
  },
  {
   "cell_type": "code",
   "execution_count": 35,
   "id": "aa1dfb70",
   "metadata": {},
   "outputs": [
    {
     "name": "stdout",
     "output_type": "stream",
     "text": [
      "Enter the number x 1\n",
      "Enter the number y 7\n",
      "1\n",
      "0.0\n"
     ]
    },
    {
     "data": {
      "text/plain": [
       "0.0"
      ]
     },
     "execution_count": 35,
     "metadata": {},
     "output_type": "execute_result"
    }
   ],
   "source": [
    "import numpy\n",
    "import math\n",
    "x = int(input(\"Enter the number x \"))\n",
    "y = int(input(\"Enter the number y \"))\n",
    "print(x**y)\n",
    "print(numpy.log2(x))\n",
    "math.sin(0)\n"
   ]
  },
  {
   "cell_type": "code",
   "execution_count": 11,
   "id": "9867c2b1",
   "metadata": {},
   "outputs": [
    {
     "name": "stdout",
     "output_type": "stream",
     "text": [
      "Enter the total cost of the house : 500000\n",
      "Enter the annual salary : 80000\n",
      "Portion of Salary saved each month : 0.15\n",
      "The Number of months required to make downpayment : 105\n"
     ]
    }
   ],
   "source": [
    "# PROGRAM TO CALCULATE NUMBER OF MONTHS REQUIRED FOR DOWNPAYMENT\n",
    "total_cost = float(input(\"Enter the total cost of the house : \"))\n",
    "portion_down_payment = 0.25 * total_cost\n",
    "Num_Months = 0\n",
    "current_savings = 0.0\n",
    "annual_salary = float(input(\"Enter the annual salary : \"))\n",
    "portion_saved = float(input(\"Portion of Salary saved each month : \"))\n",
    "while current_savings < portion_down_payment:\n",
    "    current_savings =  current_savings + ( current_savings * (0.04 / 12) ) + ( portion_saved * (annual_salary / 12))\n",
    "    Num_Months = Num_Months + 1\n",
    "print(\"The Number of months required to make downpayment :\",Num_Months)    "
   ]
  },
  {
   "cell_type": "code",
   "execution_count": 10,
   "id": "83d0178f",
   "metadata": {},
   "outputs": [
    {
     "name": "stdout",
     "output_type": "stream",
     "text": [
      "Enter the total cost of the house : 1000000\n",
      "Enter the annual salary : 10000\n",
      "Enter the raise in salary every six months : 0.07\n",
      "10001\n",
      "The current saving at the end : 37784.960820899265\n",
      "It is not possible to pay the downpayment in three years\n"
     ]
    }
   ],
   "source": [
    "# PROGRAM TO CALCULATE NUMBER OF MONTHS REQUIRED FOR DOWNPAYMENT\n",
    "total_cost = float(input(\"Enter the total cost of the house : \"))\n",
    "portion_down_payment = 0.25 * total_cost\n",
    "annual_salary = float(input(\"Enter the annual salary : \"))\n",
    "t = annual_salary\n",
    "rais = float(input(\"Enter the raise in salary every six months : \"))\n",
    "portion_saved = 0.0\n",
    "incrmt = 0.0001\n",
    "num_incrmt = 0\n",
    "current_savings = 0.0\n",
    "while current_savings < portion_down_payment:\n",
    "    current_savings = 0.0\n",
    "    annual_salary = t\n",
    "    for month in range(36):\n",
    "        if (month >= 6) & (month % 6 == 0):\n",
    "            annual_salary = annual_salary + (rais * annual_salary)\n",
    "        current_savings =  current_savings + ( current_savings * (0.04 / 12) ) + ( portion_saved * (annual_salary/12) )\n",
    "        \n",
    "    portion_saved = portion_saved + incrmt \n",
    "    num_incrmt+=1\n",
    "    if num_incrmt > 10000:\n",
    "        break\n",
    "portion_saved = portion_saved - incrmt\n",
    "print(num_incrmt)\n",
    "print(\"The current saving at the end :\",current_savings)\n",
    "if num_incrmt > 10000:\n",
    "    print(\"It is not possible to pay the downpayment in three years\")\n",
    "else:    \n",
    "    print(\"The portion saved is\",portion_saved)\n",
    "  \n"
   ]
  },
  {
   "cell_type": "code",
   "execution_count": 42,
   "id": "9d00b00a",
   "metadata": {},
   "outputs": [
    {
     "name": "stdout",
     "output_type": "stream",
     "text": [
      "Enter the total cost of the house : 1000000\n",
      "Enter the annual salary : 120000\n",
      "Portion of Salary saved each month in decimal : 0.551399\n",
      "Enter the raise in salary every six months : 0.07\n",
      "The Number of months required to make downpayment : 36\n"
     ]
    }
   ],
   "source": [
    "# PROGRAM TO CALCULATE NUMBER OF MONTHS REQUIRED FOR DOWNPAYMENT WHEN THERE IS RISE IN ANNUAL SALARY\n",
    "total_cost = float(input(\"Enter the total cost of the house : \"))\n",
    "portion_down_payment = 0.25 * total_cost\n",
    "Num_Months = 0\n",
    "current_savings = 0.0\n",
    "annual_salary = float(input(\"Enter the annual salary : \"))\n",
    "portion_saved = float(input(\"Portion of Salary saved each month in decimal : \"))\n",
    "rais = float(input(\"Enter the raise in salary every six months : \"))\n",
    "while current_savings < portion_down_payment:\n",
    "    if (Num_Months >= 6) & (Num_Months % 6 == 0):\n",
    "        annual_salary = annual_salary + (rais * annual_salary)\n",
    "    current_savings =  current_savings + ( current_savings * (0.04 / 12) ) + ( portion_saved * (annual_salary/12) )\n",
    "    Num_Months = Num_Months + 1\n",
    "print(\"The Number of months required to make downpayment :\",Num_Months)    \n"
   ]
  },
  {
   "cell_type": "code",
   "execution_count": 29,
   "id": "146b65ce",
   "metadata": {},
   "outputs": [
    {
     "name": "stdout",
     "output_type": "stream",
     "text": [
      "3\n"
     ]
    },
    {
     "data": {
      "text/plain": [
       "6"
      ]
     },
     "execution_count": 29,
     "metadata": {},
     "output_type": "execute_result"
    }
   ],
   "source": [
    "# String Length Function\n",
    "s = \"abs\"\n",
    "y = \"dlhjhk\"\n",
    "print(len(s))\n",
    "len(y)"
   ]
  },
  {
   "cell_type": "code",
   "execution_count": 34,
   "id": "449e2408",
   "metadata": {},
   "outputs": [
    {
     "name": "stdout",
     "output_type": "stream",
     "text": [
      "a\n",
      "b\n",
      "c\n",
      "d\n",
      "e\n",
      "f\n",
      "g\n",
      "h\n",
      "i\n",
      "j\n",
      "j\n",
      "i\n",
      "h\n",
      "g\n",
      "f\n",
      "e\n",
      "d\n",
      "c\n",
      "b\n",
      "a\n"
     ]
    }
   ],
   "source": [
    "# Indexing into a String\n",
    "s = \"abcdefghij\"\n",
    "for i in range(10):\n",
    "    print(s[i])\n",
    "for i in range(-1,-11,-1):\n",
    "    print(s[i])"
   ]
  },
  {
   "cell_type": "code",
   "execution_count": 40,
   "id": "9091d348",
   "metadata": {},
   "outputs": [
    {
     "name": "stdout",
     "output_type": "stream",
     "text": [
      "j\n",
      "i\n",
      "h\n",
      "g\n",
      "f\n",
      "e\n",
      "d\n",
      "c\n",
      "b\n",
      "a\n"
     ]
    }
   ],
   "source": [
    "s = \"abcdefghij\"\n",
    "for i in range(9,-1,-1):\n",
    "    print(s[i])\n",
    "for i in range    "
   ]
  },
  {
   "cell_type": "code",
   "execution_count": 9,
   "id": "0f56311c",
   "metadata": {},
   "outputs": [
    {
     "name": "stdout",
     "output_type": "stream",
     "text": [
      "df\n",
      "efghij\n",
      "abcdefghij\n",
      "jihgfedcba\n",
      "jihgfedcba\n",
      "edc\n"
     ]
    }
   ],
   "source": [
    "# Slicing String\n",
    "s = \"abcdefghij\"\n",
    "print(s[3:6:2])\n",
    "print(s[4:11])\n",
    "print(s[::])\n",
    "print(s[::-1])\n",
    "print(s[-1:-11:-1])\n",
    "print(s[4:1:-1])"
   ]
  },
  {
   "cell_type": "code",
   "execution_count": 22,
   "id": "d32e6e4e",
   "metadata": {},
   "outputs": [
    {
     "ename": "NameError",
     "evalue": "name 'Y' is not defined",
     "output_type": "error",
     "traceback": [
      "\u001b[1;31m---------------------------------------------------------------------------\u001b[0m",
      "\u001b[1;31mNameError\u001b[0m                                 Traceback (most recent call last)",
      "Cell \u001b[1;32mIn[22], line 3\u001b[0m\n\u001b[0;32m      1\u001b[0m \u001b[38;5;66;03m# Strings are immutable\u001b[39;00m\n\u001b[0;32m      2\u001b[0m s \u001b[38;5;241m=\u001b[39m \u001b[38;5;124m\"\u001b[39m\u001b[38;5;124mHello\u001b[39m\u001b[38;5;124m\"\u001b[39m\n\u001b[1;32m----> 3\u001b[0m s[\u001b[38;5;241m0\u001b[39m] \u001b[38;5;241m=\u001b[39m \u001b[43mY\u001b[49m\n",
      "\u001b[1;31mNameError\u001b[0m: name 'Y' is not defined"
     ]
    }
   ],
   "source": [
    "# Strings are immutable\n",
    "s = \"Hello\"\n",
    "s[0] = Y\n"
   ]
  },
  {
   "cell_type": "code",
   "execution_count": 21,
   "id": "948f9d76",
   "metadata": {},
   "outputs": [
    {
     "name": "stdout",
     "output_type": "stream",
     "text": [
      "Hello\n",
      "Yello\n",
      "Y\n",
      "eelo\n",
      "e\n"
     ]
    }
   ],
   "source": [
    "#Changing String Object bound to a given variable\n",
    "s = \"Hello\"\n",
    "print(s)\n",
    "s = 'Y' + s[1:len(s)]  # Changing\n",
    "print(s)\n",
    "print(s[0])\n",
    "s = s[1]+'e'+ s[3:len(s)]\n",
    "print(s)\n",
    "print(s[0])"
   ]
  },
  {
   "cell_type": "code",
   "execution_count": 25,
   "id": "4fcbc753",
   "metadata": {},
   "outputs": [
    {
     "name": "stdout",
     "output_type": "stream",
     "text": [
      "abcdefghij\n",
      "0\n",
      "1\n",
      "2\n",
      "3\n",
      "4\n",
      "5\n",
      "6\n",
      "7\n",
      "8\n",
      "9\n",
      "9\n"
     ]
    }
   ],
   "source": [
    "# For loop iterating over Strings  (My own experiments with code)\n",
    "s = \"abcdefghij\"\n",
    "print(s)\n",
    "for s in range(len(s)):\n",
    "    print(s)\n",
    "print(s)    "
   ]
  },
  {
   "cell_type": "code",
   "execution_count": 31,
   "id": "52cd0eec",
   "metadata": {},
   "outputs": [
    {
     "name": "stdout",
     "output_type": "stream",
     "text": [
      "There is an i or u\n"
     ]
    }
   ],
   "source": [
    "# For loop iterating over string\n",
    "s = \"abcdefghu\"\n",
    "for index in range(len(s)):\n",
    "    if s[index] == 'i' or s[index] == 'u':\n",
    "        print(\"There is an i or u\")"
   ]
  },
  {
   "cell_type": "code",
   "execution_count": 32,
   "id": "0ba57562",
   "metadata": {},
   "outputs": [
    {
     "name": "stdout",
     "output_type": "stream",
     "text": [
      "there is an 'i' or 'u'\n"
     ]
    }
   ],
   "source": [
    "# For loop iterating over string\n",
    "s = \"abcdefghu\"\n",
    "for char in s:\n",
    "    if char == 'i' or char == 'u':\n",
    "        print(\"there is an 'i' or 'u'\")"
   ]
  },
  {
   "cell_type": "code",
   "execution_count": 2,
   "id": "c0639cc9",
   "metadata": {},
   "outputs": [
    {
     "name": "stdout",
     "output_type": "stream",
     "text": [
      "there is no 'i' or 'u'\n"
     ]
    }
   ],
   "source": [
    "s = \"abcdefghj\"\n",
    "i = 0\n",
    "for tar in s:\n",
    "    if tar == 'i' or tar == 'u':\n",
    "        print(\"there is an 'i' or 'u'\")\n",
    "        i+=1\n",
    "if i == 0:\n",
    "    print(\"there is no 'i' or 'u'\")\n",
    "        "
   ]
  },
  {
   "cell_type": "code",
   "execution_count": 11,
   "id": "28de93a5",
   "metadata": {},
   "outputs": [
    {
     "name": "stdout",
     "output_type": "stream",
     "text": [
      "Enter your Motivational Hymn! dyyuyi\n",
      "Enter the level of motivation required (1-10): 8\n",
      "Give me a d! d\n",
      "Give me a y! y\n",
      "Give me a y! y\n",
      "Give me a u! u\n",
      "Give me a y! y\n",
      "Give me a i! i\n",
      "dyyuyi\n",
      "dyyuyi\n",
      "dyyuyi\n",
      "dyyuyi\n",
      "dyyuyi\n",
      "dyyuyi\n",
      "dyyuyi\n",
      "dyyuyi\n"
     ]
    }
   ],
   "source": [
    "# Cheerleadding Program!\n",
    "word = input(\"Enter your Motivational Hymn! \")\n",
    "level = int(input(\"Enter the level of motivation required (1-10): \"))\n",
    "i = 0\n",
    "while i < len(word): \n",
    "    print(\"Give me a\",word[i] +'!',word[i])\n",
    "    i+=1\n",
    "for i in range(level):\n",
    "    print(word)"
   ]
  },
  {
   "cell_type": "code",
   "execution_count": 10,
   "id": "a3396fb5",
   "metadata": {},
   "outputs": [
    {
     "name": "stdout",
     "output_type": "stream",
     "text": [
      "Enter the word : yyyUUUuuuZZZZZXXXIIii\n",
      "U\n",
      "U\n",
      "U\n",
      "u\n",
      "u\n",
      "u\n",
      "I\n",
      "I\n",
      "i\n",
      "i\n"
     ]
    }
   ],
   "source": [
    "letters = \"abcdefghijklmnopqrstuvwABCDEFGHIJKLMNOPQRSTUVW\"\n",
    "word = input(\"Enter the word : \")\n",
    "i = 0\n",
    "while i < len(word):\n",
    "    char = word[i]\n",
    "    i+=1            \n",
    "    if char in letters:\n",
    "        print(char)"
   ]
  },
  {
   "cell_type": "code",
   "execution_count": 15,
   "id": "38b66c32",
   "metadata": {},
   "outputs": [
    {
     "name": "stdout",
     "output_type": "stream",
     "text": [
      "Enter your Motivational Hymn! Robots\n",
      "Enter the level of motivation required (1-10): 6\n",
      "Give me an R! R\n",
      "Give me an o! o\n",
      "Give me a b! b\n",
      "Give me an o! o\n",
      "Give me a t! t\n",
      "Give me an s! s\n"
     ]
    }
   ],
   "source": [
    "# Cheerleading program using For Loop\n",
    "an_letters = \"aefhilmnorsxAEFHILMNORSX\"\n",
    "word = input(\"Enter your Motivational Hymn! \")\n",
    "level = int(input(\"Enter the level of motivation required (1-10): \"))\n",
    "for i in range(len(word)):\n",
    "    if word[i] in an_letters:\n",
    "        print(\"Give me an\",word[i] + '!', word[i])\n",
    "    else:\n",
    "        print(\"Give me a\",word[i] + '!',word[i])\n",
    "    "
   ]
  },
  {
   "cell_type": "code",
   "execution_count": 16,
   "id": "58505f99",
   "metadata": {},
   "outputs": [
    {
     "name": "stdout",
     "output_type": "stream",
     "text": [
      "Enter your Motivational Hymn! Robots\n",
      "Enter the level of motivation required (1-10): 7\n",
      "Give me an  R! R\n",
      "Give me an  o! o\n",
      "Give me a  b! b\n",
      "Give me an  o! o\n",
      "Give me a  t! t\n",
      "Give me an  s! s\n"
     ]
    }
   ],
   "source": [
    "# Cheerleading program using For Loop\n",
    "an_letters = \"aefhilmnorsxAEFHILMNORSX\"\n",
    "word = input(\"Enter your Motivational Hymn! \")\n",
    "level = int(input(\"Enter the level of motivation required (1-10): \"))\n",
    "for i in word:\n",
    "    if i in an_letters:\n",
    "        print(\"Give me an \",i + '!', i)\n",
    "    else:\n",
    "        print(\"Give me a \",i + '!', i)\n",
    "        "
   ]
  },
  {
   "cell_type": "code",
   "execution_count": 53,
   "id": "db1577a2",
   "metadata": {},
   "outputs": [
    {
     "name": "stdout",
     "output_type": "stream",
     "text": [
      "Enter the number : -345\n",
      "The number is not a perfect cube\n"
     ]
    }
   ],
   "source": [
    "# Guess And Check Algorithm\n",
    "# Cube root of a given number\n",
    "num = int(input(\"Enter the number : \"))\n",
    "i = 0\n",
    "if num > 0:\n",
    "    while i <= num:\n",
    "        if i**3 == num:\n",
    "            print(\"The Cuberoot of the number is\",i)\n",
    "            break\n",
    "        i+=1\n",
    "    if i == num+1:\n",
    "        print(\"The number is not a perfect cube\")\n",
    "else:\n",
    "    while i >= num:\n",
    "        if i**3 == num:\n",
    "            print(\"The Cuberoot of the number is\",i)\n",
    "            break\n",
    "        i-=1\n",
    "    if i == num-1:\n",
    "        print(\"The number is not a perfect cube\")\n",
    "    "
   ]
  },
  {
   "cell_type": "code",
   "execution_count": 63,
   "id": "2c230b20",
   "metadata": {},
   "outputs": [
    {
     "name": "stdout",
     "output_type": "stream",
     "text": [
      "Enter the number : -3455\n",
      "The number is not a perfect cube\n"
     ]
    }
   ],
   "source": [
    "#Guess And Check Algorithm\n",
    "#Cuberoot of a given number\n",
    "#Using For Loop\n",
    "num = int(input(\"Enter the number : \"))\n",
    "c = 0\n",
    "for i in range(abs(num)+1):\n",
    "    if i**3 == abs(num):\n",
    "        if num >= 0:\n",
    "            print(\"The Cuberoot of the number is\",i)\n",
    "            c+=1\n",
    "            break\n",
    "        else:\n",
    "            print(\"The Cuberoot of the number is\",-i)\n",
    "            c+=1\n",
    "            break\n",
    "if c == 0:\n",
    "    print(\"The number is not a perfect cube\")\n",
    "            \n",
    "    "
   ]
  },
  {
   "cell_type": "markdown",
   "id": "13ca2d17",
   "metadata": {},
   "source": []
  },
  {
   "cell_type": "code",
   "execution_count": 2,
   "id": "e6bb1cd9",
   "metadata": {},
   "outputs": [
    {
     "name": "stdout",
     "output_type": "stream",
     "text": [
      "Enter the Number : -125\n",
      "The cuberoot of -125 is -5\n"
     ]
    }
   ],
   "source": [
    "#Guess And Check Algorithm\n",
    "num = int(input(\"Enter the Number : \"))\n",
    "for guess in range(abs(num)):\n",
    "    if guess**3 >= abs(num):\n",
    "        break\n",
    "if guess**3 != abs(num):\n",
    "    print(\"The number is not a perfect cube\")\n",
    "else:\n",
    "    if num < 0:\n",
    "        guess = -guess\n",
    "            \n",
    "    print(\"The cuberoot of \" + str(num) + \" is\",guess)    "
   ]
  },
  {
   "cell_type": "code",
   "execution_count": 22,
   "id": "6cebfed5",
   "metadata": {},
   "outputs": [
    {
     "name": "stdout",
     "output_type": "stream",
     "text": [
      "Enter the Number : 130\n",
      "The number is not a perfect cube\n",
      "The Approximate Cuberoot of 130 is 5.066666666666666\n"
     ]
    }
   ],
   "source": [
    "#Approximation Algorithm\n",
    "num = int(input(\"Enter the Number : \"))\n",
    "for guess in range(abs(num)):\n",
    "    if guess**3 >= abs(num):\n",
    "        break\n",
    "if guess**3 != abs(num):\n",
    "    print(\"The number is not a perfect cube\")\n",
    "    guess = guess -1\n",
    "    while abs((abs(num) - (guess**3))) > 0.1:\n",
    "        guess = ((2 *guess) + (abs(num)/(guess**2)))/3\n",
    "    if num < 0:\n",
    "        guess = -guess\n",
    "    print(\"The Approximate Cuberoot of \"+ str(num)+\" is\",guess)         \n",
    "        \n",
    "else:\n",
    "    if num < 0:\n",
    "        guess = -guess\n",
    "            \n",
    "    print(\"The cuberoot of \" + str(num) + \" is\",guess)    "
   ]
  },
  {
   "cell_type": "code",
   "execution_count": 26,
   "id": "b3ff3f30",
   "metadata": {},
   "outputs": [
    {
     "name": "stdout",
     "output_type": "stream",
     "text": [
      "Enter the Number : -9\n",
      "The number is not a perfect cube\n",
      "The Approximate Cuberoot of -9 is -2.0800838759563316\n"
     ]
    }
   ],
   "source": [
    "#Approximation Algorithm\n",
    "num = int(input(\"Enter the Number : \"))\n",
    "for guess in range(abs(num)):\n",
    "    if guess**3 >= abs(num):\n",
    "        break\n",
    "if guess**3 != abs(num):\n",
    "    print(\"The number is not a perfect cube\")\n",
    "    while abs((abs(num) - (guess**3))) > 0.0001:\n",
    "        guess = ((2 *guess) + (abs(num)/(guess**2)))/3\n",
    "    if num < 0:\n",
    "        guess = -guess\n",
    "    print(\"The Approximate Cuberoot of \"+ str(num)+\" is\",guess)         \n",
    "else:\n",
    "    if num < 0:\n",
    "        guess = -guess\n",
    "            \n",
    "    print(\"The cuberoot of \" + str(num) + \" is\",guess)    "
   ]
  },
  {
   "cell_type": "code",
   "execution_count": 24,
   "id": "56bfa430",
   "metadata": {},
   "outputs": [
    {
     "name": "stdout",
     "output_type": "stream",
     "text": [
      "Enter the number : 9\n",
      "Enter the increment value : 0.01\n",
      "Enter the required accuracy : 0.1\n",
      "0.01\n",
      "0.02\n",
      "0.03\n",
      "0.04\n",
      "0.05\n",
      "0.060000000000000005\n",
      "0.07\n",
      "0.08\n",
      "0.09\n",
      "0.09999999999999999\n",
      "0.10999999999999999\n",
      "0.11999999999999998\n",
      "0.12999999999999998\n",
      "0.13999999999999999\n",
      "0.15\n",
      "0.16\n",
      "0.17\n",
      "0.18000000000000002\n",
      "0.19000000000000003\n",
      "0.20000000000000004\n",
      "0.21000000000000005\n",
      "0.22000000000000006\n",
      "0.23000000000000007\n",
      "0.24000000000000007\n",
      "0.25000000000000006\n",
      "0.26000000000000006\n",
      "0.2700000000000001\n",
      "0.2800000000000001\n",
      "0.2900000000000001\n",
      "0.3000000000000001\n",
      "0.3100000000000001\n",
      "0.3200000000000001\n",
      "0.3300000000000001\n",
      "0.34000000000000014\n",
      "0.35000000000000014\n",
      "0.36000000000000015\n",
      "0.37000000000000016\n",
      "0.38000000000000017\n",
      "0.3900000000000002\n",
      "0.4000000000000002\n",
      "0.4100000000000002\n",
      "0.4200000000000002\n",
      "0.4300000000000002\n",
      "0.4400000000000002\n",
      "0.45000000000000023\n",
      "0.46000000000000024\n",
      "0.47000000000000025\n",
      "0.48000000000000026\n",
      "0.49000000000000027\n",
      "0.5000000000000002\n",
      "0.5100000000000002\n",
      "0.5200000000000002\n",
      "0.5300000000000002\n",
      "0.5400000000000003\n",
      "0.5500000000000003\n",
      "0.5600000000000003\n",
      "0.5700000000000003\n",
      "0.5800000000000003\n",
      "0.5900000000000003\n",
      "0.6000000000000003\n",
      "0.6100000000000003\n",
      "0.6200000000000003\n",
      "0.6300000000000003\n",
      "0.6400000000000003\n",
      "0.6500000000000004\n",
      "0.6600000000000004\n",
      "0.6700000000000004\n",
      "0.6800000000000004\n",
      "0.6900000000000004\n",
      "0.7000000000000004\n",
      "0.7100000000000004\n",
      "0.7200000000000004\n",
      "0.7300000000000004\n",
      "0.7400000000000004\n",
      "0.7500000000000004\n",
      "0.7600000000000005\n",
      "0.7700000000000005\n",
      "0.7800000000000005\n",
      "0.7900000000000005\n",
      "0.8000000000000005\n",
      "0.8100000000000005\n",
      "0.8200000000000005\n",
      "0.8300000000000005\n",
      "0.8400000000000005\n",
      "0.8500000000000005\n",
      "0.8600000000000005\n",
      "0.8700000000000006\n",
      "0.8800000000000006\n",
      "0.8900000000000006\n",
      "0.9000000000000006\n",
      "0.9100000000000006\n",
      "0.9200000000000006\n",
      "0.9300000000000006\n",
      "0.9400000000000006\n",
      "0.9500000000000006\n",
      "0.9600000000000006\n",
      "0.9700000000000006\n",
      "0.9800000000000006\n",
      "0.9900000000000007\n",
      "1.0000000000000007\n",
      "1.0100000000000007\n",
      "1.0200000000000007\n",
      "1.0300000000000007\n",
      "1.0400000000000007\n",
      "1.0500000000000007\n",
      "1.0600000000000007\n",
      "1.0700000000000007\n",
      "1.0800000000000007\n",
      "1.0900000000000007\n",
      "1.1000000000000008\n",
      "1.1100000000000008\n",
      "1.1200000000000008\n",
      "1.1300000000000008\n",
      "1.1400000000000008\n",
      "1.1500000000000008\n",
      "1.1600000000000008\n",
      "1.1700000000000008\n",
      "1.1800000000000008\n",
      "1.1900000000000008\n",
      "1.2000000000000008\n",
      "1.2100000000000009\n",
      "1.2200000000000009\n",
      "1.2300000000000009\n",
      "1.2400000000000009\n",
      "1.2500000000000009\n",
      "1.260000000000001\n",
      "1.270000000000001\n",
      "1.280000000000001\n",
      "1.290000000000001\n",
      "1.300000000000001\n",
      "1.310000000000001\n",
      "1.320000000000001\n",
      "1.330000000000001\n",
      "1.340000000000001\n",
      "1.350000000000001\n",
      "1.360000000000001\n",
      "1.370000000000001\n",
      "1.380000000000001\n",
      "1.390000000000001\n",
      "1.400000000000001\n",
      "1.410000000000001\n",
      "1.420000000000001\n",
      "1.430000000000001\n",
      "1.440000000000001\n",
      "1.450000000000001\n",
      "1.460000000000001\n",
      "1.470000000000001\n",
      "1.480000000000001\n",
      "1.490000000000001\n",
      "1.500000000000001\n",
      "1.5100000000000011\n",
      "1.5200000000000011\n",
      "1.5300000000000011\n",
      "1.5400000000000011\n",
      "1.5500000000000012\n",
      "1.5600000000000012\n",
      "1.5700000000000012\n",
      "1.5800000000000012\n",
      "1.5900000000000012\n",
      "1.6000000000000012\n",
      "1.6100000000000012\n",
      "1.6200000000000012\n",
      "1.6300000000000012\n",
      "1.6400000000000012\n",
      "1.6500000000000012\n",
      "1.6600000000000013\n",
      "1.6700000000000013\n",
      "1.6800000000000013\n",
      "1.6900000000000013\n",
      "1.7000000000000013\n",
      "1.7100000000000013\n",
      "1.7200000000000013\n",
      "1.7300000000000013\n",
      "1.7400000000000013\n",
      "1.7500000000000013\n",
      "1.7600000000000013\n",
      "1.7700000000000014\n",
      "1.7800000000000014\n",
      "1.7900000000000014\n",
      "1.8000000000000014\n",
      "1.8100000000000014\n",
      "1.8200000000000014\n",
      "1.8300000000000014\n",
      "1.8400000000000014\n",
      "1.8500000000000014\n",
      "1.8600000000000014\n",
      "1.8700000000000014\n",
      "1.8800000000000014\n",
      "1.8900000000000015\n",
      "1.9000000000000015\n",
      "1.9100000000000015\n",
      "1.9200000000000015\n",
      "1.9300000000000015\n",
      "1.9400000000000015\n",
      "1.9500000000000015\n",
      "1.9600000000000015\n",
      "1.9700000000000015\n",
      "1.9800000000000015\n",
      "1.9900000000000015\n",
      "2.0000000000000013\n",
      "2.010000000000001\n",
      "2.020000000000001\n",
      "2.0300000000000007\n",
      "2.0400000000000005\n",
      "2.0500000000000003\n",
      "2.06\n",
      "2.07\n",
      "2.0799999999999996\n",
      "The number of guesses made is 208\n",
      "The Approximate Cuberoot of 9 is 2.0799999999999996\n"
     ]
    }
   ],
   "source": [
    "#Approximation Algorithm\n",
    "num = int(input(\"Enter the number : \"))\n",
    "incrmt = float(input(\"Enter the increment value : \"))\n",
    "epsiln = float(input(\"Enter the required accuracy : \"))\n",
    "guess = 0\n",
    "num_guess = 0\n",
    "while (abs((guess**3) - (abs(num))) >= epsiln) & (guess <= abs(num)):\n",
    "    guess = guess + incrmt\n",
    "    print(guess)\n",
    "    num_guess+=1\n",
    "print(\"The number of guesses made is\",num_guess) \n",
    "if (guess**3 - abs(num)) >= epsiln:\n",
    "    print(\"Failed on cube root of\",num,\"with the current parameters\")\n",
    "else:    \n",
    "    if num < 0:\n",
    "        guess = -guess\n",
    "   \n",
    "    print(\"The Approximate Cuberoot of \" + str(num)+ \" is\",guess)    \n",
    "    "
   ]
  },
  {
   "cell_type": "markdown",
   "id": "5f2a4f14",
   "metadata": {},
   "source": []
  },
  {
   "cell_type": "code",
   "execution_count": 25,
   "id": "3753f9af",
   "metadata": {},
   "outputs": [
    {
     "name": "stdout",
     "output_type": "stream",
     "text": [
      "Enter the number : 9\n",
      "Enter the desired accuracy : 0.01\n",
      "Number of guesses : 2\n",
      "The best guess of cuberoot of 9  is 1.125\n"
     ]
    }
   ],
   "source": [
    "#Bisection Algorithm\n",
    "num = int(input(\"Enter the number : \"))\n",
    "epsiln = float(input(\"Enter the desired accuracy : \"))\n",
    "num_guesses = 0\n",
    "low = 0\n",
    "high = num\n",
    "guess = (low+high)/2\n",
    "while ((guess**3) - (abs(num))) >= epsiln:\n",
    "    if (guess**3) < num:\n",
    "        low = guess\n",
    "    else:\n",
    "        high = guess\n",
    "    guess = (low + high)/2\n",
    "    num_guesses+=1\n",
    "print(\"Number of guesses :\",num_guesses) \n",
    "print(\"The best guess of cuberoot of\",num,\" is\",guess)"
   ]
  },
  {
   "cell_type": "code",
   "execution_count": 5,
   "id": "14632285",
   "metadata": {},
   "outputs": [
    {
     "name": "stdout",
     "output_type": "stream",
     "text": [
      "Enter the number : 0.5\n",
      "Enter the desired accuracy : 0.01\n",
      "0.875\n",
      "0.8125\n",
      "0.78125\n",
      "0.796875\n",
      "Number of guesses : 4\n",
      "The best guess of cuberoot of 0.5  is 0.796875\n"
     ]
    }
   ],
   "source": [
    "#Bisection Algorithm\n",
    "num = float(input(\"Enter the number : \"))\n",
    "epsiln = float(input(\"Enter the desired accuracy : \"))\n",
    "num_guesses = 0\n",
    "if (abs(num) < 1):\n",
    "    low = abs(num)\n",
    "    high = 1\n",
    "    guess = (low + high)/2\n",
    "else:    \n",
    "    low = 0\n",
    "    high = abs(num)\n",
    "    guess = (low+high)/2\n",
    "while abs(((guess**3) - (abs(num)))) >= epsiln:\n",
    "    if (guess**3) < abs(num):\n",
    "         low = abs(guess)\n",
    "    else:\n",
    "        high = abs(guess)\n",
    "    guess = (low + high)/2\n",
    "    print(guess)\n",
    "    num_guesses+=1\n",
    "print(\"Number of guesses :\",num_guesses)\n",
    "if num < 0:\n",
    "     guess = -guess\n",
    "print(\"The best guess of cuberoot of\",num,\" is\",guess)"
   ]
  },
  {
   "cell_type": "code",
   "execution_count": 6,
   "id": "c2bf77e3",
   "metadata": {},
   "outputs": [
    {
     "name": "stdout",
     "output_type": "stream",
     "text": [
      "Hello\n"
     ]
    }
   ],
   "source": [
    "print(\"Hello\")"
   ]
  },
  {
   "cell_type": "markdown",
   "id": "6c3f953a",
   "metadata": {},
   "source": []
  },
  {
   "cell_type": "code",
   "execution_count": 12,
   "id": "272c0e95",
   "metadata": {},
   "outputs": [
    {
     "name": "stdout",
     "output_type": "stream",
     "text": [
      "inside is_even\n",
      "True\n"
     ]
    }
   ],
   "source": [
    "#Functions \n",
    "def is_even(i):\n",
    "    \"\"\"\n",
    "    Input: i, a positive int\n",
    "    Returns True if i is even, otherwise False\n",
    "    \"\"\"\n",
    "    print(\"inside is_even\")\n",
    "    return i%2 == 0\n",
    "    \n",
    "s = is_even(4)  \n",
    "print(s)\n",
    "        "
   ]
  },
  {
   "cell_type": "code",
   "execution_count": 13,
   "id": "7921624b",
   "metadata": {},
   "outputs": [
    {
     "name": "stdout",
     "output_type": "stream",
     "text": [
      "in f(x): x = 5\n",
      "5\n",
      "4\n"
     ]
    }
   ],
   "source": [
    "def f(x):\n",
    "    \"\"\"\n",
    "    Adding \n",
    "    \"\"\"\n",
    "    x = x +1\n",
    "    print('in f(x): x =',x)\n",
    "    return x\n",
    "y = 4\n",
    "z = f(y)\n",
    "print(z)\n",
    "print(y)\n",
    "     "
   ]
  },
  {
   "cell_type": "code",
   "execution_count": 15,
   "id": "723d7498",
   "metadata": {},
   "outputs": [
    {
     "name": "stdout",
     "output_type": "stream",
     "text": [
      "Enter the number : 3\n",
      "The number is even :\n",
      "False\n"
     ]
    }
   ],
   "source": [
    "# Function to check for even number\n",
    "def is_even(x):\n",
    "    print(\"The number is even :\")\n",
    "    reminder = x%2\n",
    "    return reminder == 0\n",
    "x = int(input(\"Enter the number : \"))\n",
    "z = is_even(x)\n",
    "print(z)"
   ]
  },
  {
   "cell_type": "code",
   "execution_count": 17,
   "id": "182e77c2",
   "metadata": {},
   "outputs": [
    {
     "name": "stdout",
     "output_type": "stream",
     "text": [
      "Enter the number : 6\n",
      "The number is even :\n",
      "None\n"
     ]
    }
   ],
   "source": [
    "# Function to check for even number(Without Return Command)\n",
    "def is_even(x):\n",
    "    print(\"The number is even :\")\n",
    "    reminder = x%2\n",
    "x = int(input(\"Enter the number : \"))\n",
    "z = is_even(x)\n",
    "print(z)"
   ]
  },
  {
   "cell_type": "code",
   "execution_count": 19,
   "id": "056200a9",
   "metadata": {},
   "outputs": [
    {
     "name": "stdout",
     "output_type": "stream",
     "text": [
      "The number 0 is even.\n",
      "The number 1 is odd.\n",
      "The number 2 is even.\n",
      "The number 3 is odd.\n",
      "The number 4 is even.\n",
      "The number 5 is odd.\n",
      "The number 6 is even.\n",
      "The number 7 is odd.\n",
      "The number 8 is even.\n",
      "The number 9 is odd.\n",
      "The number 10 is even.\n",
      "The number 11 is odd.\n",
      "The number 12 is even.\n",
      "The number 13 is odd.\n",
      "The number 14 is even.\n",
      "The number 15 is odd.\n",
      "The number 16 is even.\n",
      "The number 17 is odd.\n",
      "The number 18 is even.\n",
      "The number 19 is odd.\n",
      "The number 20 is even.\n"
     ]
    }
   ],
   "source": [
    "# Function to check for even number\n",
    "def is_even(x):\n",
    "    reminder = x%2\n",
    "    return reminder == 0\n",
    "for i in range(21):\n",
    "    if is_even(i):\n",
    "        print(\"The number\",i,\"is even.\")\n",
    "    else:\n",
    "        print(\"The number\",i,\"is odd.\")"
   ]
  },
  {
   "cell_type": "code",
   "execution_count": 23,
   "id": "5e0c7362",
   "metadata": {},
   "outputs": [
    {
     "name": "stdout",
     "output_type": "stream",
     "text": [
      "inside func_a\n",
      "None\n",
      "inside func_b \n",
      "7\n",
      "inside func_a\n",
      "inside func_c\n",
      "None\n"
     ]
    }
   ],
   "source": [
    "#Functions as arguments\n",
    "def func_a():\n",
    "    print('inside func_a')\n",
    "def func_b(y):\n",
    "    print('inside func_b ')\n",
    "    return y\n",
    "def func_c(z):\n",
    "    print('inside func_c')\n",
    "    return z\n",
    "print(func_a())\n",
    "print(5 + func_b(2))\n",
    "print(func_c(func_a()))\n",
    "  "
   ]
  },
  {
   "cell_type": "code",
   "execution_count": 26,
   "id": "97316951",
   "metadata": {},
   "outputs": [
    {
     "name": "stdout",
     "output_type": "stream",
     "text": [
      "2\n",
      "None\n",
      "5\n"
     ]
    }
   ],
   "source": [
    "#Situations with Scope 1\n",
    "def f(y):\n",
    "    x = 1\n",
    "    x += 1\n",
    "    print(x)\n",
    "x = 5\n",
    "print(f(x))\n",
    "print(x)"
   ]
  },
  {
   "cell_type": "code",
   "execution_count": 30,
   "id": "9deaad29",
   "metadata": {},
   "outputs": [
    {
     "name": "stdout",
     "output_type": "stream",
     "text": [
      "5\n",
      "6\n",
      "None\n",
      "5\n"
     ]
    }
   ],
   "source": [
    "#Situations with Scope 2\n",
    "def g(y):\n",
    "    \n",
    "    print(x)\n",
    "    print(x+1)\n",
    "x = 5\n",
    "print(g(x))\n",
    "print(x)"
   ]
  },
  {
   "cell_type": "code",
   "execution_count": 35,
   "id": "fad06e35",
   "metadata": {},
   "outputs": [
    {
     "ename": "UnboundLocalError",
     "evalue": "cannot access local variable 'x' where it is not associated with a value",
     "output_type": "error",
     "traceback": [
      "\u001b[1;31m---------------------------------------------------------------------------\u001b[0m",
      "\u001b[1;31mUnboundLocalError\u001b[0m                         Traceback (most recent call last)",
      "Cell \u001b[1;32mIn[35], line 6\u001b[0m\n\u001b[0;32m      4\u001b[0m     \u001b[38;5;28mprint\u001b[39m(x)\n\u001b[0;32m      5\u001b[0m x \u001b[38;5;241m=\u001b[39m \u001b[38;5;241m5\u001b[39m\n\u001b[1;32m----> 6\u001b[0m \u001b[38;5;28mprint\u001b[39m(\u001b[43mh\u001b[49m\u001b[43m(\u001b[49m\u001b[43mx\u001b[49m\u001b[43m)\u001b[49m)\n\u001b[0;32m      7\u001b[0m \u001b[38;5;28mprint\u001b[39m(x)\n",
      "Cell \u001b[1;32mIn[35], line 3\u001b[0m, in \u001b[0;36mh\u001b[1;34m(y)\u001b[0m\n\u001b[0;32m      2\u001b[0m \u001b[38;5;28;01mdef\u001b[39;00m \u001b[38;5;21mh\u001b[39m(y):\n\u001b[1;32m----> 3\u001b[0m     \u001b[43mx\u001b[49m\u001b[38;5;241m+\u001b[39m\u001b[38;5;241m=\u001b[39m\u001b[38;5;241m1\u001b[39m\n\u001b[0;32m      4\u001b[0m     \u001b[38;5;28mprint\u001b[39m(x)\n",
      "\u001b[1;31mUnboundLocalError\u001b[0m: cannot access local variable 'x' where it is not associated with a value"
     ]
    }
   ],
   "source": [
    "#Situations with Scope 3\n",
    "def h(y):\n",
    "    x+=1\n",
    "    print(x)\n",
    "x = 5\n",
    "print(h(x))\n",
    "print(x)"
   ]
  },
  {
   "cell_type": "code",
   "execution_count": 36,
   "id": "323a4b0f",
   "metadata": {},
   "outputs": [
    {
     "name": "stdout",
     "output_type": "stream",
     "text": [
      "g: x = 4\n"
     ]
    }
   ],
   "source": [
    "#Scope Details : Concept of Nested Functions\n",
    "def g(x):\n",
    "    def h():\n",
    "        x = 'abc'\n",
    "    x = x + 1\n",
    "    print('g: x =',x)\n",
    "    h()\n",
    "    return x\n",
    "x = 3\n",
    "z = g(x)"
   ]
  },
  {
   "cell_type": "code",
   "execution_count": 37,
   "id": "b69b0b28",
   "metadata": {},
   "outputs": [
    {
     "name": "stdout",
     "output_type": "stream",
     "text": [
      "6\n",
      "None\n",
      "5\n"
     ]
    }
   ],
   "source": [
    "#Situations with Scope 4\n",
    "def g(y):\n",
    "    print(x+1)\n",
    "x = 5\n",
    "print(g(x))\n",
    "print(x)"
   ]
  },
  {
   "cell_type": "code",
   "execution_count": 9,
   "id": "b4160685",
   "metadata": {},
   "outputs": [
    {
     "name": "stdout",
     "output_type": "stream",
     "text": [
      "Enter the number(0-1) : 0.70\n",
      "0.7999999999999545\n"
     ]
    }
   ],
   "source": [
    "#Program Illustrating Chaotic Behaviour\n",
    "x = float(input(\"Enter the number(0-1) : \"))\n",
    "for i in range(10):\n",
    "    y = (2*x)%1\n",
    "    x = y\n",
    "print(y)    \n"
   ]
  },
  {
   "cell_type": "code",
   "execution_count": 20,
   "id": "1a6fe86e",
   "metadata": {},
   "outputs": [
    {
     "name": "stdout",
     "output_type": "stream",
     "text": [
      "Enter the total cost of the house : 1000000\n",
      "Enter the annual salary : 150000\n",
      "Enter the desired accuracy:100\n",
      "Enter the raise in salary every six months : 0.07\n",
      "The portion saved is : 0.44091796875\n"
     ]
    }
   ],
   "source": [
    "total_cost = float(input(\"Enter the total cost of the house : \"))\n",
    "portion_down_payment = 0.25 * total_cost\n",
    "annual_salary = float(input(\"Enter the annual salary : \"))\n",
    "episln = float(input(\"Enter the desired accuracy:\"))\n",
    "t = annual_salary\n",
    "rais = float(input(\"Enter the raise in salary every six months : \"))\n",
    "low_portion_saved = 0.0\n",
    "high_portion_saved = 1.0\n",
    "current_savings = 0.0\n",
    "while abs(portion_down_payment - current_savings) > episln:\n",
    "    current_savings = 0.0\n",
    "    annual_salary = t\n",
    "    portion_saved = (low_portion_saved + high_portion_saved)/2\n",
    "    \n",
    "    for month in range(36):\n",
    "        if (month >= 6) & (month % 6 == 0):\n",
    "            annual_salary = annual_salary + (rais * annual_salary)\n",
    "        current_savings =  current_savings + ( current_savings * (0.04 / 12) ) + ( portion_saved * (annual_salary/12) )\n",
    "    if current_savings < portion_down_payment:\n",
    "        low_portion_saved = portion_saved\n",
    "    else:\n",
    "        high_portion_saved = portion_saved\n",
    "print(\"The portion saved is :\",portion_saved)  \n",
    "    \n",
    "    \n",
    "    \n",
    "  \n"
   ]
  },
  {
   "cell_type": "code",
   "execution_count": null,
   "id": "7c076133",
   "metadata": {},
   "outputs": [],
   "source": []
  },
  {
   "cell_type": "code",
   "execution_count": 2,
   "id": "5814e624",
   "metadata": {},
   "outputs": [
    {
     "name": "stdout",
     "output_type": "stream",
     "text": [
      "Loading word list from file...\n",
      "   55900 words loaded.\n"
     ]
    }
   ],
   "source": [
    "# Problem Set 2, hangman.py\n",
    "# Name: \n",
    "# Collaborators:\n",
    "# Time spent:\n",
    "\n",
    "# Hangman Game\n",
    "# -----------------------------------\n",
    "# Helper code\n",
    "# You don't need to understand this helper code,\n",
    "# but you will have to know how to use the functions\n",
    "# (so be sure to read the docstrings!)\n",
    "import random\n",
    "import string\n",
    "\n",
    "WORDLIST_FILENAME = \"words.txt\"\n",
    "\n",
    "\n",
    "def load_words():\n",
    "    \"\"\"\n",
    "    Returns a list of valid words. Words are strings of lowercase letters.\n",
    "    \n",
    "    Depending on the size of the word list, this function may\n",
    "    take a while to finish.\n",
    "    \"\"\"\n",
    "    print(\"Loading word list from file...\")\n",
    "    # inFile: file\n",
    "    inFile = open(WORDLIST_FILENAME, 'r')\n",
    "    # line: string\n",
    "    line = inFile.readline()\n",
    "    # wordlist: list of strings\n",
    "    wordlist = line.split()\n",
    "    print(\"  \", len(wordlist), \"words loaded.\")\n",
    "    return wordlist\n",
    "\n",
    "\n",
    "\n",
    "def choose_word(wordlist):\n",
    "    \"\"\"\n",
    "    wordlist (list): list of words (strings)\n",
    "    \n",
    "    Returns a word from wordlist at random\n",
    "    \"\"\"\n",
    "    return random.choice(wordlist)\n",
    "\n",
    "# end of helper code\n",
    "\n",
    "# -----------------------------------\n",
    "\n",
    "# Load the list of words into the variable wordlist\n",
    "# so that it can be accessed from anywhere in the program\n",
    "wordlist = load_words()\n",
    "\n",
    "\n",
    "def is_word_guessed(secret_word, letters_guessed):\n",
    "    '''\n",
    "    secret_word: string, the word the user is guessing; assumes all letters are\n",
    "      lowercase\n",
    "    letters_guessed: list (of letters), which letters have been guessed so far;\n",
    "      assumes that all letters are lowercase\n",
    "    returns: boolean, True if all the letters of secret_word are in letters_guessed;\n",
    "      False otherwise\n",
    "    '''\n",
    "    # FILL IN YOUR CODE HERE AND DELETE \"pass\"\n",
    "    pass\n",
    "\n",
    "\n",
    "\n",
    "def get_guessed_word(secret_word, letters_guessed):\n",
    "    '''\n",
    "    secret_word: string, the word the user is guessing\n",
    "    letters_guessed: list (of letters), which letters have been guessed so far\n",
    "    returns: string, comprised of letters, underscores (_), and spaces that represents\n",
    "      which letters in secret_word have been guessed so far.\n",
    "    '''\n",
    "    # FILL IN YOUR CODE HERE AND DELETE \"pass\"\n",
    "    pass\n",
    "\n",
    "\n",
    "\n",
    "def get_available_letters(letters_guessed):\n",
    "    '''\n",
    "    letters_guessed: list (of letters), which letters have been guessed so far\n",
    "    returns: string (of letters), comprised of letters that represents which letters have not\n",
    "      yet been guessed.\n",
    "    '''\n",
    "    # FILL IN YOUR CODE HERE AND DELETE \"pass\"\n",
    "    pass\n",
    "    \n",
    "    \n",
    "\n",
    "def hangman(secret_word):\n",
    "    '''\n",
    "    secret_word: string, the secret word to guess.\n",
    "    \n",
    "    Starts up an interactive game of Hangman.\n",
    "    \n",
    "    * At the start of the game, let the user know how many \n",
    "      letters the secret_word contains and how many guesses s/he starts with.\n",
    "      \n",
    "    * The user should start with 6 guesses\n",
    "\n",
    "    * Before each round, you should display to the user how many guesses\n",
    "      s/he has left and the letters that the user has not yet guessed.\n",
    "    \n",
    "    * Ask the user to supply one guess per round. Remember to make\n",
    "      sure that the user puts in a letter!\n",
    "    \n",
    "    * The user should receive feedback immediately after each guess \n",
    "      about whether their guess appears in the computer's word.\n",
    "\n",
    "    * After each guess, you should display to the user the \n",
    "      partially guessed word so far.\n",
    "    \n",
    "    Follows the other limitations detailed in the problem write-up.\n",
    "    '''\n",
    "    # FILL IN YOUR CODE HERE AND DELETE \"pass\"\n",
    "    pass\n",
    "\n",
    "\n",
    "\n",
    "# When you've completed your hangman function, scroll down to the bottom\n",
    "# of the file and uncomment the first two lines to test\n",
    "#(hint: you might want to pick your own\n",
    "# secret_word while you're doing your own testing)\n",
    "\n",
    "\n",
    "# -----------------------------------\n",
    "\n",
    "\n",
    "\n",
    "def match_with_gaps(my_word, other_word):\n",
    "    '''\n",
    "    my_word: string with _ characters, current guess of secret word\n",
    "    other_word: string, regular English word\n",
    "    returns: boolean, True if all the actual letters of my_word match the \n",
    "        corresponding letters of other_word, or the letter is the special symbol\n",
    "        _ , and my_word and other_word are of the same length;\n",
    "        False otherwise: \n",
    "    '''\n",
    "    # FILL IN YOUR CODE HERE AND DELETE \"pass\"\n",
    "    pass\n",
    "\n",
    "\n",
    "\n",
    "def show_possible_matches(my_word):\n",
    "    '''\n",
    "    my_word: string with _ characters, current guess of secret word\n",
    "    returns: nothing, but should print out every word in wordlist that matches my_word\n",
    "             Keep in mind that in hangman when a letter is guessed, all the positions\n",
    "             at which that letter occurs in the secret word are revealed.\n",
    "             Therefore, the hidden letter(_ ) cannot be one of the letters in the word\n",
    "             that has already been revealed.\n",
    "\n",
    "    '''\n",
    "    # FILL IN YOUR CODE HERE AND DELETE \"pass\"\n",
    "    pass\n",
    "\n",
    "\n",
    "\n",
    "def hangman_with_hints(secret_word):\n",
    "    '''\n",
    "    secret_word: string, the secret word to guess.\n",
    "    \n",
    "    Starts up an interactive game of Hangman.\n",
    "    \n",
    "    * At the start of the game, let the user know how many \n",
    "      letters the secret_word contains and how many guesses s/he starts with.\n",
    "      \n",
    "    * The user should start with 6 guesses\n",
    "    \n",
    "    * Before each round, you should display to the user how many guesses\n",
    "      s/he has left and the letters that the user has not yet guessed.\n",
    "    \n",
    "    * Ask the user to supply one guess per round. Make sure to check that the user guesses a letter\n",
    "      \n",
    "    * The user should receive feedback immediately after each guess \n",
    "      about whether their guess appears in the computer's word.\n",
    "\n",
    "    * After each guess, you should display to the user the \n",
    "      partially guessed word so far.\n",
    "      \n",
    "    * If the guess is the symbol *, print out all words in wordlist that\n",
    "      matches the current guessed word. \n",
    "    \n",
    "    Follows the other limitations detailed in the problem write-up.\n",
    "    '''\n",
    "    # FILL IN YOUR CODE HERE AND DELETE \"pass\"\n",
    "    pass\n",
    "\n",
    "\n",
    "\n",
    "# When you've completed your hangman_with_hint function, comment the two similar\n",
    "# lines above that were used to run the hangman function, and then uncomment\n",
    "# these two lines and run this file to test!\n",
    "# Hint: You might want to pick your own secret_word while you're testing.\n",
    "\n",
    "\n",
    "if __name__ == \"__main__\":\n",
    "    # pass\n",
    "\n",
    "    # To test part 2, comment out the pass line above and\n",
    "    # uncomment the following two lines.\n",
    "    \n",
    "    secret_word = choose_word(wordlist)\n",
    "    hangman(secret_word)\n",
    "\n",
    "###############\n",
    "    \n",
    "    # To test part 3 re-comment out the above lines and \n",
    "    # uncomment the following two lines. \n",
    "    \n",
    "    #secret_word = choose_word(wordlist)\n",
    "    #hangman_with_hints(secret_word)\n"
   ]
  },
  {
   "cell_type": "code",
   "execution_count": 26,
   "id": "d2eef505",
   "metadata": {},
   "outputs": [
    {
     "name": "stdout",
     "output_type": "stream",
     "text": [
      "The word guessed correctly : False\n",
      "Good Guess :\n",
      " _ _ _ _\n",
      "abcdefghijklmnopqrstuvwxyz\n"
     ]
    }
   ],
   "source": [
    "import string\n",
    "def is_word_guess(secret_word,letters_guessed):\n",
    "    \"\"\" Determine whether the word has been guessed \"\"\"\n",
    "    \n",
    "    n = 0\n",
    "    for char in secret_word:\n",
    "        if char in letters_guessed:\n",
    "            n+=1\n",
    "    return n == len(secret_word)        \n",
    "\n",
    "def get_guessed_word(secret_word,letters_guessed):\n",
    "    \"\"\"Print the guessed word\"\"\"\n",
    "    print(\"Good Guess :\")\n",
    "    lettr = []\n",
    "    for char in secret_word:\n",
    "        if char in letters_guessed:\n",
    "            lettr.append(' '+char)\n",
    "        else:\n",
    "            lettr.append(' _')\n",
    "    l = ''.join(lettr)        \n",
    "    print(l)        \n",
    "def get_available_letters(letters_guessed):\n",
    "    \"\"\"Print available letters to make guess\"\"\"\n",
    "    s = string.ascii_lowercase\n",
    "    l = list(s)\n",
    "    for i in letters_guessed:\n",
    "        if i in s:\n",
    "            l.remove(i)\n",
    "    s = ''.join(l)\n",
    "    print(s)\n",
    "    \n",
    "def user_inpt():\n",
    "    s = input(\"Please guess a letter: \")\n",
    "    if str.isalpha(s):\n",
    "        ss = str.lower(s)\n",
    "        return ss\n",
    "        \n",
    "        \n",
    "        \n",
    "        \n",
    "      \n",
    "        \n",
    "def hangman(secret_word):\n",
    "    \"\"\"Implements an interactive game of hangman between the user and the computer\"\"\"\n",
    "    print(\"Welcome to the game hangman!\")\n",
    "    l = len(secret_word)\n",
    "    n = l +2\n",
    "    print(\"Iam thinking of a word that is\",l,\"letters long.\")\n",
    "    print(\"------------\")\n",
    "    print(\"You have\",n,\"guesses left.\")\n",
    "    print(\"Available letters :\",string.ascii_lowercase)\n",
    "    i = 0\n",
    "    while i < n:\n",
    "        s = user_inpt()\n",
    "        \n",
    "        \n",
    "        \n",
    "    \n",
    "            \n",
    "            \n",
    "secret_word = 'tact'\n",
    "letters_guessed = []\n",
    "guess = is_word_guess(secret_word,letters_guessed)\n",
    "print(\"The word guessed correctly :\",guess)                    \n",
    "get_guessed_word(secret_word,letters_guessed)\n",
    "get_available_letters(letters_guessed)\n",
    "\n",
    "        \n",
    "        \n",
    "        \n",
    "    "
   ]
  },
  {
   "cell_type": "code",
   "execution_count": 20,
   "id": "32e929ba",
   "metadata": {},
   "outputs": [
    {
     "ename": "SyntaxError",
     "evalue": "incomplete input (3786347370.py, line 306)",
     "output_type": "error",
     "traceback": [
      "\u001b[1;36m  Cell \u001b[1;32mIn[20], line 306\u001b[1;36m\u001b[0m\n\u001b[1;33m    #hangman_with_hints(secret_word)\u001b[0m\n\u001b[1;37m                                    ^\u001b[0m\n\u001b[1;31mSyntaxError\u001b[0m\u001b[1;31m:\u001b[0m incomplete input\n"
     ]
    }
   ],
   "source": [
    "# Problem Set 2, hangman.py\n",
    "# Name: \n",
    "# Collaborators:\n",
    "# Time spent:\n",
    "\n",
    "# Hangman Game\n",
    "# -----------------------------------\n",
    "# Helper code\n",
    "# You don't need to understand this helper code,\n",
    "# but you will have to know how to use the functions\n",
    "# (so be sure to read the docstrings!)\n",
    "import random\n",
    "import string\n",
    "\n",
    "WORDLIST_FILENAME = \"words.txt\"\n",
    "\n",
    "\n",
    "def load_words():\n",
    "    \"\"\"\n",
    "    Returns a list of valid words. Words are strings of lowercase letters.\n",
    "    \n",
    "    Depending on the size of the word list, this function may\n",
    "    take a while to finish.\n",
    "    \"\"\"\n",
    "    print(\"Loading word list from file...\")\n",
    "    # inFile: file\n",
    "    inFile = open(WORDLIST_FILENAME, 'r')\n",
    "    # line: string\n",
    "    line = inFile.readline()\n",
    "    # wordlist: list of strings\n",
    "    wordlist = line.split()\n",
    "    print(\"  \", len(wordlist), \"words loaded.\")\n",
    "    return wordlist\n",
    "\n",
    "\n",
    "\n",
    "def choose_word(wordlist):\n",
    "    \"\"\"\n",
    "    wordlist (list): list of words (strings)\n",
    "    \n",
    "    Returns a word from wordlist at random\n",
    "    \"\"\"\n",
    "    return random.choice(wordlist)\n",
    "\n",
    "# end of helper code\n",
    "\n",
    "# -----------------------------------\n",
    "\n",
    "# Load the list of words into the variable wordlist\n",
    "# so that it can be accessed from anywhere in the program\n",
    "wordlist = load_words()\n",
    "\n",
    "\n",
    "def is_word_guessed(secret_word, letters_guessed):\n",
    "    '''\n",
    "    secret_word: string, the word the user is guessing; assumes all letters are\n",
    "      lowercase\n",
    "    letters_guessed: list (of letters), which letters have been guessed so far;\n",
    "      assumes that all letters are lowercase\n",
    "    returns: boolean, True if all the letters of secret_word are in letters_guessed;\n",
    "      False otherwise\n",
    "    '''\n",
    "    # FILL IN YOUR CODE HERE AND DELETE \"pass\"\n",
    "    n = 0\n",
    "    for i in secret_word:\n",
    "        if i in letters_guessed:\n",
    "            n+=1\n",
    "    return n == len(secret_word)       \n",
    "            \n",
    "\n",
    "\n",
    "\n",
    "def get_guessed_word(secret_word, letters_guessed):\n",
    "    '''\n",
    "    secret_word: string, the word the user is guessing\n",
    "    letters_guessed: list (of letters), which letters have been guessed so far\n",
    "    returns: string, comprised of letters, underscores (_), and spaces that represents\n",
    "      which letters in secret_word have been guessed so far.\n",
    "    '''\n",
    "    # FILL IN YOUR CODE HERE AND DELETE \"pass\"\n",
    "\n",
    "    lettr = []\n",
    "    for char in secret_word:\n",
    "        if char in letters_guessed:\n",
    "            lettr.append(' '+char)\n",
    "        else:\n",
    "            lettr.append(' _')\n",
    "    l = ''.join(lettr)        \n",
    "    print(l) \n",
    "    print(\"------------------------------\")\n",
    "    return l\n",
    "\n",
    "\n",
    "\n",
    "def get_available_letters(letters_guessed):\n",
    "    '''\n",
    "    letters_guessed: list (of letters), which letters have been guessed so far\n",
    "    returns: string (of letters), comprised of letters that represents which letters have not\n",
    "      yet been guessed.\n",
    "    '''\n",
    "    # FILL IN YOUR CODE HERE AND DELETE \"pass\"\n",
    "    s = string.ascii_lowercase\n",
    "    l = list(s)\n",
    "    for i in letters_guessed:\n",
    "        if i in s:\n",
    "            l.remove(i)\n",
    "    s = ''.join(l)\n",
    "    print(\"Available letters:\",s)\n",
    "    \n",
    "\n",
    "def hangman(secret_word):\n",
    "    '''\n",
    "    secret_word: string, the secret word to guess.\n",
    "    \n",
    "    Starts up an interactive game of Hangman.\n",
    "    \n",
    "    * At the start of the game, let the user know how many \n",
    "      letters the secret_word contains and how many guesses s/he starts with.\n",
    "      \n",
    "    * The user should start with 6 guesses\n",
    "\n",
    "    * Before each round, you should display to the user how many guesses\n",
    "      s/he has left and the letters that the user has not yet guessed.\n",
    "    \n",
    "    * Ask the user to supply one guess per round. Remember to make\n",
    "      sure that the user puts in a letter!\n",
    "    \n",
    "    * The user should receive feedback immediately after each guess \n",
    "      about whether their guess appears in the computer's word.\n",
    "\n",
    "    * After each guess, you should display to the user the \n",
    "      partially guessed word so far.\n",
    "    \n",
    "    Follows the other limitations detailed in the problem write-up.\n",
    "    '''\n",
    "    # FILL IN YOUR CODE HERE AND DELETE \"pass\"\n",
    "    print(\"Welcome to the game Hangman!\")\n",
    "    l = len(secret_word)\n",
    "    n = l + 2\n",
    "    i = 3\n",
    "    vowl = ['a','e','i','o','u']\n",
    "    print(\"I am thinking of a word that is\",l,\"letters long.\")\n",
    "    print(\"You can make\",n,\"guesses.\")\n",
    "    print(\"You also get\",i,\"warnings in total.\")\n",
    "    print(\"------------------------------\")\n",
    "    letters_guessed = []\n",
    "    letr_guess = []\n",
    "    gw = ''\n",
    "    while n!=0:\n",
    "        print(\"You have\",n,\"guesses left.\")\n",
    "        \n",
    "        get_available_letters(letr_guess)\n",
    "        letr = input(\"Please guess a letter :\")\n",
    "        if str.isalpha(letr):\n",
    "            ss = str.lower(letr)\n",
    "            if ss not in letters_guessed:\n",
    "                if ss in secret_word:\n",
    "                    letters_guessed.append(ss)\n",
    "                    letr_guess.append(ss)\n",
    "                    print(\"Good guess :\")\n",
    "                    gw = get_guessed_word(secret_word,letters_guessed)\n",
    "                    if is_word_guessed(secret_word,letters_guessed):\n",
    "                        break\n",
    "                else:\n",
    "                    print(\"Oops! That letter is not in my word:\")\n",
    "                    get_guessed_word(secret_word,letters_guessed)\n",
    "                    if ss not in letr_guess:\n",
    "                        letr_guess.append(ss) \n",
    "                \n",
    "                    if ss in vowl:\n",
    "                        n = n -2\n",
    "                    else:\n",
    "                        n = n -1\n",
    "                    \n",
    "            else:\n",
    "                i = i - 1\n",
    "                if i >= 0:\n",
    "                    print(\"Oops! You have already guessed that letter. You have\",i,\"warnings left.\")\n",
    "                    get_guessed_word(secret_word,letters_guessed)\n",
    "                else:\n",
    "                    n = n-1\n",
    "                    print(\"Oops! You have already guessed that letter. All your warnings are exhausted and your number of guesses will be reduced by one\")\n",
    "        elif letr == '*':\n",
    "            print(\"do\")\n",
    "            \n",
    "        else:\n",
    "            i = i-1\n",
    "            if i >= 0:\n",
    "            \n",
    "                print(\"OOps! That is not a valid letter. You have\",i,\"warnings left.\")\n",
    "                get_guessed_word(secret_word,letters_guessed)\n",
    "            else:\n",
    "                n = n -1\n",
    "                print(\"OOps! That is not a valid letter. All your warnings are exhausted and your number of guesses will be reduced by one\")  \n",
    "                get_guessed_word(secret_word,letters_guessed)\n",
    "        \n",
    "    if is_word_guessed(secret_word,letters_guessed):\n",
    "        \n",
    "        print(\"Congratulations, you won!\")\n",
    "        uniletr = len(letters_guessed)\n",
    "        tot_score = n * uniletr\n",
    "        print(\"Your total score for this game is :\",tot_score)   \n",
    "    else:\n",
    "         print(\"Sorry, you ran out of guesses. The word was\",secret_word+'.')\n",
    "        \n",
    "    \n",
    "        \n",
    "        \n",
    "        \n",
    "        \n",
    "    \n",
    "\n",
    "\n",
    "# When you've completed your hangman function, scroll down to the bottom\n",
    "# of the file and uncomment the first two lines to test\n",
    "#(hint: you might want to pick your own\n",
    "# secret_word while you're doing your own testing)\n",
    "\n",
    "\n",
    "# -----------------------------------\n",
    "\n",
    "\n",
    "\n",
    "def match_with_gaps(my_word, other_word):\n",
    "    '''\n",
    "    my_word: string with _ characters, current guess of secret word\n",
    "    other_word: string, regular English word\n",
    "    returns: boolean, True if all the actual letters of my_word match the \n",
    "        corresponding letters of other_word, or the letter is the special symbol\n",
    "        _ , and my_word and other_word are of the same length;\n",
    "        False otherwise: \n",
    "    '''\n",
    "    # FILL IN YOUR CODE HERE AND DELETE \"pass\"\n",
    "    \n",
    "\n",
    "\n",
    "\n",
    "def show_possible_matches(my_word):\n",
    "    '''\n",
    "    my_word: string with _ characters, current guess of secret word\n",
    "    returns: nothing, but should print out every word in wordlist that matches my_word\n",
    "             Keep in mind that in hangman when a letter is guessed, all the positions\n",
    "             at which that letter occurs in the secret word are revealed.\n",
    "             Therefore, the hidden letter(_ ) cannot be one of the letters in the word\n",
    "             that has already been revealed.\n",
    "\n",
    "    '''\n",
    "    # FILL IN YOUR CODE HERE AND DELETE \"pass\"\n",
    "    \n",
    "\n",
    "\n",
    "\n",
    "def hangman_with_hints(secret_word):\n",
    "    '''\n",
    "    secret_word: string, the secret word to guess.\n",
    "    \n",
    "    Starts up an interactive game of Hangman.\n",
    "    \n",
    "    * At the start of the game, let the user know how many \n",
    "      letters the secret_word contains and how many guesses s/he starts with.\n",
    "      \n",
    "    * The user should start with 6 guesses\n",
    "    \n",
    "    * Before each round, you should display to the user how many guesses\n",
    "      s/he has left and the letters that the user has not yet guessed.\n",
    "    \n",
    "    * Ask the user to supply one guess per round. Make sure to check that the user guesses a letter\n",
    "      \n",
    "    * The user should receive feedback immediately after each guess \n",
    "      about whether their guess appears in the computer's word.\n",
    "\n",
    "    * After each guess, you should display to the user the \n",
    "      partially guessed word so far.\n",
    "      \n",
    "    * If the guess is the symbol *, print out all words in wordlist that\n",
    "      matches the current guessed word. \n",
    "    \n",
    "    Follows the other limitations detailed in the problem write-up.\n",
    "    '''\n",
    "    # FILL IN YOUR CODE HERE AND DELETE \"pass\"\n",
    "    pass\n",
    "\n",
    "\n",
    "\n",
    "# When you've completed your hangman_with_hint function, comment the two similar\n",
    "# lines above that were used to run the hangman function, and then uncomment\n",
    "# these two lines and run this file to test!\n",
    "# Hint: You might want to pick your own secret_word while you're testing.\n",
    "\n",
    "\n",
    "if __name__ == \"__main__\":\n",
    "    # pass\n",
    "\n",
    "    # To test part 2, comment out the pass line above and\n",
    "    # uncomment the following two lines.\n",
    "    \n",
    "    #secret_word = choose_word(wordlist)\n",
    "    #hangman(secret_word)\n",
    "\n",
    "###############\n",
    "    \n",
    "    # To test part 3 re-comment out the above lines and \n",
    "    # uncomment the following two lines. \n",
    "    \n",
    "    #secret_word = choose_word(wordlist)\n",
    "    #hangman_with_hints(secret_word)\n"
   ]
  },
  {
   "cell_type": "code",
   "execution_count": 43,
   "id": "9be21c66",
   "metadata": {},
   "outputs": [
    {
     "name": "stdout",
     "output_type": "stream",
     "text": [
      "4\n",
      "a\n",
      "b\n",
      "c\n",
      "f\n",
      "['a', 'b', 'c', 'f']\n"
     ]
    }
   ],
   "source": [
    "s = ['a','b','c','f']\n",
    "print(len(s)) \n",
    "for char in s:\n",
    "    print(char)\n",
    "print((s))    "
   ]
  },
  {
   "cell_type": "code",
   "execution_count": 5,
   "id": "e2a0962a",
   "metadata": {},
   "outputs": [
    {
     "name": "stdout",
     "output_type": "stream",
     "text": [
      "abcvndef\n",
      "abcdefghijklmnopqrstuvwxyz\n"
     ]
    }
   ],
   "source": [
    "\n",
    "ss = 'abCVNdef'\n",
    "str.lower(ss)\n",
    "print(s)\n",
    "import string\n",
    "print(string.ascii_lowercase)"
   ]
  },
  {
   "cell_type": "code",
   "execution_count": 6,
   "id": "ac6bdd42",
   "metadata": {},
   "outputs": [
    {
     "name": "stdout",
     "output_type": "stream",
     "text": [
      "Help on method_descriptor:\n",
      "\n",
      "isalpha(self, /)\n",
      "    Return True if the string is an alphabetic string, False otherwise.\n",
      "    \n",
      "    A string is alphabetic if all characters in the string are alphabetic and there\n",
      "    is at least one character in the string.\n",
      "\n",
      "Help on method_descriptor:\n",
      "\n",
      "lower(self, /)\n",
      "    Return a copy of the string converted to lowercase.\n",
      "\n",
      "Akhil\n"
     ]
    }
   ],
   "source": [
    "\n",
    "help(str.isalpha)\n",
    "help(str.lower)\n",
    "if str.isalpha('abcd'):\n",
    "    print(\"Akhil\")"
   ]
  },
  {
   "cell_type": "code",
   "execution_count": 14,
   "id": "361f54b1",
   "metadata": {},
   "outputs": [
    {
     "name": "stdout",
     "output_type": "stream",
     "text": [
      "The available letters are :\n",
      "b\n",
      "c\n",
      "e\n",
      "h\n",
      "i\n",
      "j\n",
      "k\n",
      "m\n",
      "n\n",
      "o\n",
      "p\n",
      "q\n",
      "r\n",
      "s\n",
      "t\n",
      "u\n",
      "v\n",
      "w\n",
      "x\n",
      "y\n",
      "z\n"
     ]
    }
   ],
   "source": [
    "def get_available_letters(letters_guessed):\n",
    "    \"\"\"Print available letters to make guess\"\"\"\n",
    "    s = 'abcdefghijklmnopqrstuvwxyz'\n",
    "    i = 0\n",
    "    print(\"The available letters are :\")\n",
    "    while i < len(s):\n",
    "        \n",
    "        if s[i] not in letters_guessed:\n",
    "            print(s[i])\n",
    "        i+=1 \n",
    "letters_guessed = ['d','f','g','l','a']\n",
    "get_available_letters(letters_guessed)\n",
    "        "
   ]
  },
  {
   "cell_type": "code",
   "execution_count": 7,
   "id": "2365ad6d",
   "metadata": {},
   "outputs": [
    {
     "name": "stdout",
     "output_type": "stream",
     "text": [
      "The word guessed correctly : False\n",
      "Good Guess :\n",
      "t\n",
      "a\n",
      "_ \n",
      "t\n",
      "The available letters are :\n",
      "c\n",
      "d\n",
      "e\n",
      "g\n",
      "h\n",
      "j\n",
      "k\n",
      "l\n",
      "m\n",
      "n\n",
      "o\n",
      "p\n",
      "q\n",
      "r\n",
      "u\n",
      "v\n",
      "w\n",
      "x\n",
      "y\n",
      "z\n"
     ]
    }
   ],
   "source": [
    "import string\n",
    "def is_word_guess(secret_word,letters_guessed):\n",
    "    \"\"\" Determine whether the word has been guessed \"\"\"\n",
    "    \n",
    "    n = 0\n",
    "    for char in secret_word:\n",
    "        if char in letters_guessed:\n",
    "            n+=1\n",
    "    return n == len(secret_word)        \n",
    "\n",
    "def get_guessed_word(secret_word,letters_guessed):\n",
    "    \"\"\"Print the guessed word\"\"\"\n",
    "    print(\"Good Guess :\")\n",
    "    for char in secret_word:\n",
    "        if char in letters_guessed:\n",
    "            print(char        )\n",
    "            \n",
    "        else:\n",
    "            print('_ '        )\n",
    "def get_available_letters(letters_guessed):\n",
    "    \"\"\"Print available letters to make guess\"\"\"\n",
    "    s = 'abcdefghijklmnopqrstuvwxyz'\n",
    "    i = 0\n",
    "    print(\"The available letters are :\")\n",
    "    while i < len(s):\n",
    "        \n",
    "        if s[i] not in letters_guessed:\n",
    "            print(s[i])\n",
    "        i+=1 \n",
    "def user_inpt(n,secret_word):\n",
    "    l = n\n",
    "    m = 3\n",
    "    while l != 0:\n",
    "        \n",
    "        print(\"You have\",m,\"warnings left.\")\n",
    "        print(\"You have\",l,\"guesses left.\")\n",
    "        get_available_letters(letters_guessed)\n",
    "        s = input(\"Please guess a letter: \")\n",
    "        if str.isalpha(s):\n",
    "            ss = str.lower(s)\n",
    "            if ss in secret_word:\n",
    "                print(\"Good guess! :\")\n",
    "            else:\n",
    "                print(\"Oops! That letter is not in my word:\")\n",
    "                l = l-1\n",
    "            print(\"-----------------------------------------------------------------\")\n",
    "        else:\n",
    "            m = m-1\n",
    "            if m >= 0:\n",
    "            \n",
    "                print(\"OOps! That is not a valid letter. You have\",m,\"warnings left.\")\n",
    "            else:\n",
    "                l = l -1\n",
    "            print(\"-----------------------------------------------------------------\")\n",
    "    \n",
    "        \n",
    "        \n",
    "        \n",
    "      \n",
    "        \n",
    "def hangman(secret_word):\n",
    "    \"\"\"Implements an interactive game of hangman between the user and the computer\"\"\"\n",
    "    print(\"Welcome to the game hangman!\")\n",
    "    l = len(secret_word)\n",
    "    n = l +2\n",
    "    print(\"Iam thinking of a word that is\",l,\"letters long.\")\n",
    "    print(\"------------\")\n",
    "    print(\"You have\",n,\"guesses left.\")\n",
    "    print(\"Available letters :\",string.ascii_lowercase)\n",
    "    \n",
    "    user_inpt(n,secret_word)\n",
    "        \n",
    "                \n",
    "        \n",
    "        \n",
    "    \n",
    "            \n",
    "            \n",
    "secret_word = 'tact'\n",
    "letters_guessed = ['a','f','i','s','t','b']\n",
    "guess = is_word_guess(secret_word,letters_guessed)\n",
    "print(\"The word guessed correctly :\",guess)                    \n",
    "get_guessed_word(secret_word,letters_guessed)\n",
    "get_available_letters(letters_guessed)\n",
    "\n",
    "        \n",
    "        \n",
    "        \n",
    "    "
   ]
  },
  {
   "cell_type": "code",
   "execution_count": null,
   "id": "fec23aa9",
   "metadata": {},
   "outputs": [],
   "source": []
  },
  {
   "cell_type": "code",
   "execution_count": 14,
   "id": "3d00c1a1",
   "metadata": {},
   "outputs": [
    {
     "name": "stdout",
     "output_type": "stream",
     "text": [
      "4\n",
      "(4, 'a', 6, 'mit')\n",
      "(4, 'a', 6, 'mit', 5, 6)\n",
      "('a',)\n",
      "('mit',)\n",
      "('a', 6)\n",
      "(6, 'mit')\n",
      "('mit',)\n",
      "4\n"
     ]
    },
    {
     "ename": "TypeError",
     "evalue": "'tuple' object does not support item assignment",
     "output_type": "error",
     "traceback": [
      "\u001b[1;31m---------------------------------------------------------------------------\u001b[0m",
      "\u001b[1;31mTypeError\u001b[0m                                 Traceback (most recent call last)",
      "Cell \u001b[1;32mIn[14], line 14\u001b[0m\n\u001b[0;32m     12\u001b[0m \u001b[38;5;28mprint\u001b[39m\n\u001b[0;32m     13\u001b[0m \u001b[38;5;28mprint\u001b[39m(\u001b[38;5;28mlen\u001b[39m(t))\n\u001b[1;32m---> 14\u001b[0m \u001b[43mt\u001b[49m\u001b[43m[\u001b[49m\u001b[38;5;241;43m1\u001b[39;49m\u001b[43m]\u001b[49m \u001b[38;5;241m=\u001b[39m \u001b[38;5;124m'\u001b[39m\u001b[38;5;124ma\u001b[39m\u001b[38;5;124m'\u001b[39m\n",
      "\u001b[1;31mTypeError\u001b[0m: 'tuple' object does not support item assignment"
     ]
    }
   ],
   "source": [
    "#Tuples\n",
    "te = ()\n",
    "t = (4,'a',6,\"mit\")\n",
    "print(t[0])\n",
    "print(t)\n",
    "print(t + ((5,6)))\n",
    "print(t[1:2])\n",
    "print(t[3:4])\n",
    "print(t[1:3])\n",
    "print(t[2:4])\n",
    "print(\"('mit',)\")\n",
    "print\n",
    "print(len(t))\n",
    "t[1] = 'a'\n",
    " "
   ]
  },
  {
   "cell_type": "code",
   "execution_count": 24,
   "id": "4badfb82",
   "metadata": {},
   "outputs": [
    {
     "name": "stdout",
     "output_type": "stream",
     "text": [
      "x = 3 y = 7\n",
      "x = 7 y = 3\n"
     ]
    }
   ],
   "source": [
    "#Swapping variables using tuples\n",
    "x = 3\n",
    "y = 7\n",
    "print(\"x =\",x,\"y =\",y)\n",
    "(x,y) = (y,x)\n",
    "print(\"x =\",x,\"y =\",y)"
   ]
  },
  {
   "cell_type": "code",
   "execution_count": 16,
   "id": "4642287b",
   "metadata": {},
   "outputs": [
    {
     "name": "stdout",
     "output_type": "stream",
     "text": [
      "(0, 4)\n"
     ]
    }
   ],
   "source": [
    "#Using tuples to return multiple values from a function\n",
    "def quotient_and_reminder(x,y):\n",
    "    q = x//y\n",
    "    r = x%y\n",
    "    return (q,r)\n",
    "c = quotient_and_reminder(4,5)\n",
    "print(c)\n"
   ]
  },
  {
   "cell_type": "code",
   "execution_count": 46,
   "id": "9c5bbba6",
   "metadata": {},
   "outputs": [
    {
     "name": "stdout",
     "output_type": "stream",
     "text": [
      "(3, 4, 5, 6)\n",
      "4\n",
      "('Akhil', 'Sam', 'Monica')\n",
      "Minimum : 3\n",
      "Maximum : 6\n",
      "Unique Words : 3\n"
     ]
    }
   ],
   "source": [
    "#Manipulating Tuples\n",
    "def get_data(aTuple):\n",
    "    nums = ()\n",
    "    words = ()\n",
    "    for t in aTuple:\n",
    "        nums = nums + (t[0],)\n",
    "        if t[1] not in words:\n",
    "            words = words + (t[1],)\n",
    "    min_n = min(nums)\n",
    "    max_n = max(nums)\n",
    "    unique_words = len(words)\n",
    "    print(nums)\n",
    "    print(nums[1])\n",
    "    print(words)\n",
    "    return (min_n,max_n,unique_words)\n",
    "atuple = ((3,'Akhil'),(4,'Sam'),(5,'Sam'),(6,'Monica'))\n",
    "(min_n,max_n,unique_words) = get_data(atuple)\n",
    "print(\"Minimum :\",min_n)\n",
    "print(\"Maximum :\",max_n)\n",
    "print(\"Unique Words :\",unique_words)"
   ]
  },
  {
   "cell_type": "code",
   "execution_count": 51,
   "id": "6e186bec",
   "metadata": {},
   "outputs": [
    {
     "name": "stdout",
     "output_type": "stream",
     "text": [
      "[2, 'Akhil', [2, 4], (6, 7), 5]\n",
      "5\n",
      "2\n",
      "(6, 7)\n",
      "(6, 7, 1)\n",
      "[2, 4]\n",
      "[2, 4, 1]\n",
      "3\n",
      "(6, 7)\n"
     ]
    }
   ],
   "source": [
    "#Lists\n",
    "L = [2,'Akhil',[2,4],(6,7),5]\n",
    "print(L)\n",
    "print(len(L))\n",
    "print(L[0])\n",
    "print(L[3])\n",
    "print(L[3]+(1,))\n",
    "print(L[2])\n",
    "print(L[2]+[1])\n",
    "print(L[0]+1)\n",
    "i = 5\n",
    "print(L[i-2])"
   ]
  },
  {
   "cell_type": "code",
   "execution_count": 52,
   "id": "0f88abc7",
   "metadata": {},
   "outputs": [
    {
     "name": "stdout",
     "output_type": "stream",
     "text": [
      "[2, 4, 7]\n",
      "[2, 5, 7]\n"
     ]
    }
   ],
   "source": [
    "#Mutability Of List\n",
    "L = [2,4,7]\n",
    "print(L)\n",
    "L[1] = 5\n",
    "print(L)"
   ]
  },
  {
   "cell_type": "code",
   "execution_count": 12,
   "id": "9a61ab46",
   "metadata": {},
   "outputs": [
    {
     "name": "stdout",
     "output_type": "stream",
     "text": [
      "22\n",
      "7\n"
     ]
    }
   ],
   "source": [
    "#Iterating over a list\n",
    "L = [4,5,6,7]\n",
    "total = 0\n",
    "for i in range(len(L)):\n",
    "    total+= L[i]\n",
    "print(total)   \n",
    "print(L[3])"
   ]
  },
  {
   "cell_type": "code",
   "execution_count": 17,
   "id": "ffc4f93f",
   "metadata": {},
   "outputs": [
    {
     "name": "stdout",
     "output_type": "stream",
     "text": [
      "22\n",
      "4\n",
      "9\n",
      "16\n",
      "25\n",
      "36\n"
     ]
    }
   ],
   "source": [
    "#Iterating over a list\n",
    "L = [4,5,6,7]\n",
    "total = 0\n",
    "for i in L:\n",
    "    total+=i\n",
    "print(total) \n",
    "#Iterating over list of lists\n",
    "l = [[2,4],[3,9],[4,16],[5,25],[6,36]]\n",
    "for i in l:\n",
    "    print(i[1])"
   ]
  },
  {
   "cell_type": "code",
   "execution_count": 64,
   "id": "1f54011f",
   "metadata": {},
   "outputs": [
    {
     "name": "stdout",
     "output_type": "stream",
     "text": [
      "10\n",
      "55\n"
     ]
    },
    {
     "data": {
      "text/plain": [
       "str"
      ]
     },
     "execution_count": 64,
     "metadata": {},
     "output_type": "execute_result"
    }
   ],
   "source": [
    "s = 5\n",
    "print(s+5)\n",
    "e = str(s)\n",
    "\n",
    "print(e+'5')\n",
    "type('5')"
   ]
  },
  {
   "cell_type": "code",
   "execution_count": 13,
   "id": "0cc78ac2",
   "metadata": {},
   "outputs": [
    {
     "name": "stdout",
     "output_type": "stream",
     "text": [
      "[2, 3, 4, 5, 6, 7, 9]\n",
      "[2, 3, 4, 5, 6, 7, 9, (4, 'd')]\n",
      "[2, 3, 4, 5, 66, 7, 9, (4, 'd')]\n"
     ]
    }
   ],
   "source": [
    "#Operations on lists - Add\n",
    "L = [2,3,4,5,6,7]\n",
    "L.append(9)\n",
    "print(L)\n",
    "L.append((4,'d'))\n",
    "print(L)\n",
    "L[4] = 66\n",
    "print(L)"
   ]
  },
  {
   "cell_type": "code",
   "execution_count": 80,
   "id": "8dcaa25e",
   "metadata": {},
   "outputs": [
    {
     "name": "stdout",
     "output_type": "stream",
     "text": [
      "<class 'str'>\n",
      "abcde\n",
      "abcd5\n",
      "<class 'str'>\n"
     ]
    }
   ],
   "source": [
    "L = 'abcd'\n",
    "l = str(5)\n",
    "print(type(l))\n",
    "t = 'e'\n",
    "print(L+t)\n",
    "print(L+e)\n",
    "print(type(e))"
   ]
  },
  {
   "cell_type": "code",
   "execution_count": 96,
   "id": "c254397b",
   "metadata": {},
   "outputs": [
    {
     "name": "stdout",
     "output_type": "stream",
     "text": [
      "[1, 2, 3]\n",
      "[1, 2, 3, 4, 5, 6]\n",
      "[1, 2, 3, [4, 5, 6]]\n",
      "[1, 2, 3, [4, 5, 6], 4, 5, 6, [1, 2, 3, 'abc']]\n"
     ]
    }
   ],
   "source": [
    "#Operations on lists - Concatenation, Extend\n",
    "L1 = [1,2,3]\n",
    "L2 = [4,5,6]\n",
    "L3 = L1 + L2\n",
    "print(L1)\n",
    "print(L3)\n",
    "L1.append([4,5,6])\n",
    "print(L1)\n",
    "L1.extend([4,5,6,[1,2,3,'abc']])\n",
    "print(L1)"
   ]
  },
  {
   "cell_type": "code",
   "execution_count": 27,
   "id": "3b5e090e",
   "metadata": {},
   "outputs": [
    {
     "name": "stdout",
     "output_type": "stream",
     "text": [
      "3\n",
      "[1, 2, 3, (1, 2, 3)]\n"
     ]
    }
   ],
   "source": [
    "L1 = [1,2,3]\n",
    "print(len(L1))\n",
    "L1.append((1,2,3))\n",
    "print(L1)\n"
   ]
  },
  {
   "cell_type": "code",
   "execution_count": 61,
   "id": "6abef172",
   "metadata": {},
   "outputs": [
    {
     "name": "stdout",
     "output_type": "stream",
     "text": [
      "[1, 2, 3, 5]\n",
      "5\n",
      "[1, 2, 3]\n",
      "[1, 2, 6, 3, 4, 6, 7]\n",
      "None\n",
      "[1, 2, 3, 4, 6, 7]\n"
     ]
    }
   ],
   "source": [
    "#Operations on lists - Removing element at specific index\n",
    "L1 = [1,2,3,4,5]\n",
    "del(L1[3])\n",
    "print(L1)\n",
    "A = L1.pop() #Removes last element in a list\n",
    "print(A)\n",
    "print(L1)\n",
    "#Removing specific element\n",
    "L2 = [1,2,6,3,4,5,6,7]\n",
    "L2.remove(5)\n",
    "print(L2)\n",
    "B = L2.remove(6)\n",
    "print(B)\n",
    "print(L2)"
   ]
  },
  {
   "cell_type": "code",
   "execution_count": 9,
   "id": "9ff29545",
   "metadata": {},
   "outputs": [
    {
     "name": "stdout",
     "output_type": "stream",
     "text": [
      "9\n"
     ]
    },
    {
     "ename": "TypeError",
     "evalue": "can only concatenate str (not \"int\") to str",
     "output_type": "error",
     "traceback": [
      "\u001b[1;31m---------------------------------------------------------------------------\u001b[0m",
      "\u001b[1;31mTypeError\u001b[0m                                 Traceback (most recent call last)",
      "Cell \u001b[1;32mIn[9], line 4\u001b[0m\n\u001b[0;32m      2\u001b[0m s \u001b[38;5;241m=\u001b[39m \u001b[38;5;28mstr\u001b[39m(L) \u001b[38;5;66;03m#Performing str operation creates new object in memory\u001b[39;00m\n\u001b[0;32m      3\u001b[0m \u001b[38;5;28mprint\u001b[39m(L\u001b[38;5;241m+\u001b[39m\u001b[38;5;241m5\u001b[39m)\n\u001b[1;32m----> 4\u001b[0m \u001b[38;5;28mprint\u001b[39m(\u001b[43ms\u001b[49m\u001b[38;5;241;43m+\u001b[39;49m\u001b[38;5;241;43m5\u001b[39;49m)\n",
      "\u001b[1;31mTypeError\u001b[0m: can only concatenate str (not \"int\") to str"
     ]
    }
   ],
   "source": [
    "L = 4\n",
    "s = str(L) #Performing str operation creates new object in memory\n",
    "print(L+5)\n",
    "print(s+5)\n"
   ]
  },
  {
   "cell_type": "code",
   "execution_count": 18,
   "id": "275d6d4c",
   "metadata": {},
   "outputs": [
    {
     "ename": "NameError",
     "evalue": "name 'e' is not defined",
     "output_type": "error",
     "traceback": [
      "\u001b[1;31m---------------------------------------------------------------------------\u001b[0m",
      "\u001b[1;31mNameError\u001b[0m                                 Traceback (most recent call last)",
      "Cell \u001b[1;32mIn[18], line 2\u001b[0m\n\u001b[0;32m      1\u001b[0m l \u001b[38;5;241m=\u001b[39m \u001b[38;5;124m'\u001b[39m\u001b[38;5;124mabcd\u001b[39m\u001b[38;5;124m'\u001b[39m\n\u001b[1;32m----> 2\u001b[0m \u001b[38;5;28mprint\u001b[39m(l\u001b[38;5;241m+\u001b[39m\u001b[43me\u001b[49m)\n",
      "\u001b[1;31mNameError\u001b[0m: name 'e' is not defined"
     ]
    }
   ],
   "source": [
    "l = 'abcd'\n",
    "print(l+e)"
   ]
  },
  {
   "cell_type": "code",
   "execution_count": 20,
   "id": "9fe24705",
   "metadata": {},
   "outputs": [
    {
     "ename": "NameError",
     "evalue": "name 'e' is not defined",
     "output_type": "error",
     "traceback": [
      "\u001b[1;31m---------------------------------------------------------------------------\u001b[0m",
      "\u001b[1;31mNameError\u001b[0m                                 Traceback (most recent call last)",
      "Cell \u001b[1;32mIn[20], line 3\u001b[0m\n\u001b[0;32m      1\u001b[0m L \u001b[38;5;241m=\u001b[39m \u001b[38;5;124m'\u001b[39m\u001b[38;5;124mabcd\u001b[39m\u001b[38;5;124m'\u001b[39m\n\u001b[0;32m      2\u001b[0m t \u001b[38;5;241m=\u001b[39m \u001b[38;5;124m'\u001b[39m\u001b[38;5;124me\u001b[39m\u001b[38;5;124m'\u001b[39m\n\u001b[1;32m----> 3\u001b[0m \u001b[38;5;28mprint\u001b[39m(L\u001b[38;5;241m+\u001b[39m\u001b[43me\u001b[49m)\n",
      "\u001b[1;31mNameError\u001b[0m: name 'e' is not defined"
     ]
    }
   ],
   "source": [
    "L = 'abcd'\n",
    "t = 'e'\n",
    "print(L+e)"
   ]
  },
  {
   "cell_type": "code",
   "execution_count": 28,
   "id": "864c8584",
   "metadata": {},
   "outputs": [
    {
     "name": "stdout",
     "output_type": "stream",
     "text": [
      "<class 'str'>\n",
      "abcde\n",
      "abcd5\n",
      "<class 'str'>\n"
     ]
    }
   ],
   "source": [
    "L = 'abcd'\n",
    "l = str(5)\n",
    "print(type(l))\n",
    "t = 'e'\n",
    "print(L+t)\n",
    "print(L+e)\n",
    "print(type(e))"
   ]
  },
  {
   "cell_type": "code",
   "execution_count": 30,
   "id": "8279e21e",
   "metadata": {},
   "outputs": [
    {
     "name": "stdout",
     "output_type": "stream",
     "text": [
      "<class 'str'>\n"
     ]
    }
   ],
   "source": [
    "e = '5'\n",
    "print(type(e))"
   ]
  },
  {
   "cell_type": "code",
   "execution_count": 8,
   "id": "0afb6d9b",
   "metadata": {},
   "outputs": [
    {
     "name": "stdout",
     "output_type": "stream",
     "text": [
      "abc de\n",
      "abc de\n",
      "['a', 'b', 'c', ' ', 'd', 'e']\n",
      "I<3 cs<d fg<dfgg<bb\n",
      "['I', '<', '3', ' ', 'c', 's', '<', 'd', ' ', 'f', 'g', '<', 'd', 'f', 'g', 'g', '<', 'b', 'b']\n",
      "I<3 cs<d fg<dfgg<bb\n",
      "['I', '3 cs', 'd fg', 'dfgg', 'bb']\n",
      "['a', 'b', 'c', 'd', 'e']\n",
      "a_b_c_d_e\n",
      "abcde\n",
      "<class 'list'>\n",
      "<class 'str'>\n"
     ]
    }
   ],
   "source": [
    "#Converting Lists to Strings and Back\n",
    "s ='abc de'\n",
    "print(s)\n",
    "l = list(s)\n",
    "print(s)\n",
    "print(l)\n",
    "a = 'I<3 cs<d fg<dfgg<bb'\n",
    "d = list(a)\n",
    "print(a)\n",
    "print(d)\n",
    "k = ''.join(d)\n",
    "print(k)\n",
    "\n",
    "t = a.split('<') #Converting string to list\n",
    "print(t)\n",
    "p = ['a','b','c','d','e']\n",
    "e = ''.join(p) #Converting list to string\n",
    "print(p)\n",
    "f = '_'.join(p)\n",
    "print(f)\n",
    "print(e)\n",
    "print(type(d))\n",
    "print(type(f))\n"
   ]
  },
  {
   "cell_type": "code",
   "execution_count": 2,
   "id": "4c824c3e",
   "metadata": {},
   "outputs": [
    {
     "name": "stdout",
     "output_type": "stream",
     "text": [
      "Help on class str in module builtins:\n",
      "\n",
      "class str(object)\n",
      " |  str(object='') -> str\n",
      " |  str(bytes_or_buffer[, encoding[, errors]]) -> str\n",
      " |  \n",
      " |  Create a new string object from the given object. If encoding or\n",
      " |  errors is specified, then the object must expose a data buffer\n",
      " |  that will be decoded using the given encoding and error handler.\n",
      " |  Otherwise, returns the result of object.__str__() (if defined)\n",
      " |  or repr(object).\n",
      " |  encoding defaults to sys.getdefaultencoding().\n",
      " |  errors defaults to 'strict'.\n",
      " |  \n",
      " |  Methods defined here:\n",
      " |  \n",
      " |  __add__(self, value, /)\n",
      " |      Return self+value.\n",
      " |  \n",
      " |  __contains__(self, key, /)\n",
      " |      Return key in self.\n",
      " |  \n",
      " |  __eq__(self, value, /)\n",
      " |      Return self==value.\n",
      " |  \n",
      " |  __format__(self, format_spec, /)\n",
      " |      Return a formatted version of the string as described by format_spec.\n",
      " |  \n",
      " |  __ge__(self, value, /)\n",
      " |      Return self>=value.\n",
      " |  \n",
      " |  __getattribute__(self, name, /)\n",
      " |      Return getattr(self, name).\n",
      " |  \n",
      " |  __getitem__(self, key, /)\n",
      " |      Return self[key].\n",
      " |  \n",
      " |  __getnewargs__(...)\n",
      " |  \n",
      " |  __gt__(self, value, /)\n",
      " |      Return self>value.\n",
      " |  \n",
      " |  __hash__(self, /)\n",
      " |      Return hash(self).\n",
      " |  \n",
      " |  __iter__(self, /)\n",
      " |      Implement iter(self).\n",
      " |  \n",
      " |  __le__(self, value, /)\n",
      " |      Return self<=value.\n",
      " |  \n",
      " |  __len__(self, /)\n",
      " |      Return len(self).\n",
      " |  \n",
      " |  __lt__(self, value, /)\n",
      " |      Return self<value.\n",
      " |  \n",
      " |  __mod__(self, value, /)\n",
      " |      Return self%value.\n",
      " |  \n",
      " |  __mul__(self, value, /)\n",
      " |      Return self*value.\n",
      " |  \n",
      " |  __ne__(self, value, /)\n",
      " |      Return self!=value.\n",
      " |  \n",
      " |  __repr__(self, /)\n",
      " |      Return repr(self).\n",
      " |  \n",
      " |  __rmod__(self, value, /)\n",
      " |      Return value%self.\n",
      " |  \n",
      " |  __rmul__(self, value, /)\n",
      " |      Return value*self.\n",
      " |  \n",
      " |  __sizeof__(self, /)\n",
      " |      Return the size of the string in memory, in bytes.\n",
      " |  \n",
      " |  __str__(self, /)\n",
      " |      Return str(self).\n",
      " |  \n",
      " |  capitalize(self, /)\n",
      " |      Return a capitalized version of the string.\n",
      " |      \n",
      " |      More specifically, make the first character have upper case and the rest lower\n",
      " |      case.\n",
      " |  \n",
      " |  casefold(self, /)\n",
      " |      Return a version of the string suitable for caseless comparisons.\n",
      " |  \n",
      " |  center(self, width, fillchar=' ', /)\n",
      " |      Return a centered string of length width.\n",
      " |      \n",
      " |      Padding is done using the specified fill character (default is a space).\n",
      " |  \n",
      " |  count(...)\n",
      " |      S.count(sub[, start[, end]]) -> int\n",
      " |      \n",
      " |      Return the number of non-overlapping occurrences of substring sub in\n",
      " |      string S[start:end].  Optional arguments start and end are\n",
      " |      interpreted as in slice notation.\n",
      " |  \n",
      " |  encode(self, /, encoding='utf-8', errors='strict')\n",
      " |      Encode the string using the codec registered for encoding.\n",
      " |      \n",
      " |      encoding\n",
      " |        The encoding in which to encode the string.\n",
      " |      errors\n",
      " |        The error handling scheme to use for encoding errors.\n",
      " |        The default is 'strict' meaning that encoding errors raise a\n",
      " |        UnicodeEncodeError.  Other possible values are 'ignore', 'replace' and\n",
      " |        'xmlcharrefreplace' as well as any other name registered with\n",
      " |        codecs.register_error that can handle UnicodeEncodeErrors.\n",
      " |  \n",
      " |  endswith(...)\n",
      " |      S.endswith(suffix[, start[, end]]) -> bool\n",
      " |      \n",
      " |      Return True if S ends with the specified suffix, False otherwise.\n",
      " |      With optional start, test S beginning at that position.\n",
      " |      With optional end, stop comparing S at that position.\n",
      " |      suffix can also be a tuple of strings to try.\n",
      " |  \n",
      " |  expandtabs(self, /, tabsize=8)\n",
      " |      Return a copy where all tab characters are expanded using spaces.\n",
      " |      \n",
      " |      If tabsize is not given, a tab size of 8 characters is assumed.\n",
      " |  \n",
      " |  find(...)\n",
      " |      S.find(sub[, start[, end]]) -> int\n",
      " |      \n",
      " |      Return the lowest index in S where substring sub is found,\n",
      " |      such that sub is contained within S[start:end].  Optional\n",
      " |      arguments start and end are interpreted as in slice notation.\n",
      " |      \n",
      " |      Return -1 on failure.\n",
      " |  \n",
      " |  format(...)\n",
      " |      S.format(*args, **kwargs) -> str\n",
      " |      \n",
      " |      Return a formatted version of S, using substitutions from args and kwargs.\n",
      " |      The substitutions are identified by braces ('{' and '}').\n",
      " |  \n",
      " |  format_map(...)\n",
      " |      S.format_map(mapping) -> str\n",
      " |      \n",
      " |      Return a formatted version of S, using substitutions from mapping.\n",
      " |      The substitutions are identified by braces ('{' and '}').\n",
      " |  \n",
      " |  index(...)\n",
      " |      S.index(sub[, start[, end]]) -> int\n",
      " |      \n",
      " |      Return the lowest index in S where substring sub is found,\n",
      " |      such that sub is contained within S[start:end].  Optional\n",
      " |      arguments start and end are interpreted as in slice notation.\n",
      " |      \n",
      " |      Raises ValueError when the substring is not found.\n",
      " |  \n",
      " |  isalnum(self, /)\n",
      " |      Return True if the string is an alpha-numeric string, False otherwise.\n",
      " |      \n",
      " |      A string is alpha-numeric if all characters in the string are alpha-numeric and\n",
      " |      there is at least one character in the string.\n",
      " |  \n",
      " |  isalpha(self, /)\n",
      " |      Return True if the string is an alphabetic string, False otherwise.\n",
      " |      \n",
      " |      A string is alphabetic if all characters in the string are alphabetic and there\n",
      " |      is at least one character in the string.\n",
      " |  \n",
      " |  isascii(self, /)\n",
      " |      Return True if all characters in the string are ASCII, False otherwise.\n",
      " |      \n",
      " |      ASCII characters have code points in the range U+0000-U+007F.\n",
      " |      Empty string is ASCII too.\n",
      " |  \n",
      " |  isdecimal(self, /)\n",
      " |      Return True if the string is a decimal string, False otherwise.\n",
      " |      \n",
      " |      A string is a decimal string if all characters in the string are decimal and\n",
      " |      there is at least one character in the string.\n",
      " |  \n",
      " |  isdigit(self, /)\n",
      " |      Return True if the string is a digit string, False otherwise.\n",
      " |      \n",
      " |      A string is a digit string if all characters in the string are digits and there\n",
      " |      is at least one character in the string.\n",
      " |  \n",
      " |  isidentifier(self, /)\n",
      " |      Return True if the string is a valid Python identifier, False otherwise.\n",
      " |      \n",
      " |      Call keyword.iskeyword(s) to test whether string s is a reserved identifier,\n",
      " |      such as \"def\" or \"class\".\n",
      " |  \n",
      " |  islower(self, /)\n",
      " |      Return True if the string is a lowercase string, False otherwise.\n",
      " |      \n",
      " |      A string is lowercase if all cased characters in the string are lowercase and\n",
      " |      there is at least one cased character in the string.\n",
      " |  \n",
      " |  isnumeric(self, /)\n",
      " |      Return True if the string is a numeric string, False otherwise.\n",
      " |      \n",
      " |      A string is numeric if all characters in the string are numeric and there is at\n",
      " |      least one character in the string.\n",
      " |  \n",
      " |  isprintable(self, /)\n",
      " |      Return True if the string is printable, False otherwise.\n",
      " |      \n",
      " |      A string is printable if all of its characters are considered printable in\n",
      " |      repr() or if it is empty.\n",
      " |  \n",
      " |  isspace(self, /)\n",
      " |      Return True if the string is a whitespace string, False otherwise.\n",
      " |      \n",
      " |      A string is whitespace if all characters in the string are whitespace and there\n",
      " |      is at least one character in the string.\n",
      " |  \n",
      " |  istitle(self, /)\n",
      " |      Return True if the string is a title-cased string, False otherwise.\n",
      " |      \n",
      " |      In a title-cased string, upper- and title-case characters may only\n",
      " |      follow uncased characters and lowercase characters only cased ones.\n",
      " |  \n",
      " |  isupper(self, /)\n",
      " |      Return True if the string is an uppercase string, False otherwise.\n",
      " |      \n",
      " |      A string is uppercase if all cased characters in the string are uppercase and\n",
      " |      there is at least one cased character in the string.\n",
      " |  \n",
      " |  join(self, iterable, /)\n",
      " |      Concatenate any number of strings.\n",
      " |      \n",
      " |      The string whose method is called is inserted in between each given string.\n",
      " |      The result is returned as a new string.\n",
      " |      \n",
      " |      Example: '.'.join(['ab', 'pq', 'rs']) -> 'ab.pq.rs'\n",
      " |  \n",
      " |  ljust(self, width, fillchar=' ', /)\n",
      " |      Return a left-justified string of length width.\n",
      " |      \n",
      " |      Padding is done using the specified fill character (default is a space).\n",
      " |  \n",
      " |  lower(self, /)\n",
      " |      Return a copy of the string converted to lowercase.\n",
      " |  \n",
      " |  lstrip(self, chars=None, /)\n",
      " |      Return a copy of the string with leading whitespace removed.\n",
      " |      \n",
      " |      If chars is given and not None, remove characters in chars instead.\n",
      " |  \n",
      " |  partition(self, sep, /)\n",
      " |      Partition the string into three parts using the given separator.\n",
      " |      \n",
      " |      This will search for the separator in the string.  If the separator is found,\n",
      " |      returns a 3-tuple containing the part before the separator, the separator\n",
      " |      itself, and the part after it.\n",
      " |      \n",
      " |      If the separator is not found, returns a 3-tuple containing the original string\n",
      " |      and two empty strings.\n",
      " |  \n",
      " |  removeprefix(self, prefix, /)\n",
      " |      Return a str with the given prefix string removed if present.\n",
      " |      \n",
      " |      If the string starts with the prefix string, return string[len(prefix):].\n",
      " |      Otherwise, return a copy of the original string.\n",
      " |  \n",
      " |  removesuffix(self, suffix, /)\n",
      " |      Return a str with the given suffix string removed if present.\n",
      " |      \n",
      " |      If the string ends with the suffix string and that suffix is not empty,\n",
      " |      return string[:-len(suffix)]. Otherwise, return a copy of the original\n",
      " |      string.\n",
      " |  \n",
      " |  replace(self, old, new, count=-1, /)\n",
      " |      Return a copy with all occurrences of substring old replaced by new.\n",
      " |      \n",
      " |        count\n",
      " |          Maximum number of occurrences to replace.\n",
      " |          -1 (the default value) means replace all occurrences.\n",
      " |      \n",
      " |      If the optional argument count is given, only the first count occurrences are\n",
      " |      replaced.\n",
      " |  \n",
      " |  rfind(...)\n",
      " |      S.rfind(sub[, start[, end]]) -> int\n",
      " |      \n",
      " |      Return the highest index in S where substring sub is found,\n",
      " |      such that sub is contained within S[start:end].  Optional\n",
      " |      arguments start and end are interpreted as in slice notation.\n",
      " |      \n",
      " |      Return -1 on failure.\n",
      " |  \n",
      " |  rindex(...)\n",
      " |      S.rindex(sub[, start[, end]]) -> int\n",
      " |      \n",
      " |      Return the highest index in S where substring sub is found,\n",
      " |      such that sub is contained within S[start:end].  Optional\n",
      " |      arguments start and end are interpreted as in slice notation.\n",
      " |      \n",
      " |      Raises ValueError when the substring is not found.\n",
      " |  \n",
      " |  rjust(self, width, fillchar=' ', /)\n",
      " |      Return a right-justified string of length width.\n",
      " |      \n",
      " |      Padding is done using the specified fill character (default is a space).\n",
      " |  \n",
      " |  rpartition(self, sep, /)\n",
      " |      Partition the string into three parts using the given separator.\n",
      " |      \n",
      " |      This will search for the separator in the string, starting at the end. If\n",
      " |      the separator is found, returns a 3-tuple containing the part before the\n",
      " |      separator, the separator itself, and the part after it.\n",
      " |      \n",
      " |      If the separator is not found, returns a 3-tuple containing two empty strings\n",
      " |      and the original string.\n",
      " |  \n",
      " |  rsplit(self, /, sep=None, maxsplit=-1)\n",
      " |      Return a list of the substrings in the string, using sep as the separator string.\n",
      " |      \n",
      " |        sep\n",
      " |          The separator used to split the string.\n",
      " |      \n",
      " |          When set to None (the default value), will split on any whitespace\n",
      " |          character (including \\\\n \\\\r \\\\t \\\\f and spaces) and will discard\n",
      " |          empty strings from the result.\n",
      " |        maxsplit\n",
      " |          Maximum number of splits (starting from the left).\n",
      " |          -1 (the default value) means no limit.\n",
      " |      \n",
      " |      Splitting starts at the end of the string and works to the front.\n",
      " |  \n",
      " |  rstrip(self, chars=None, /)\n",
      " |      Return a copy of the string with trailing whitespace removed.\n",
      " |      \n",
      " |      If chars is given and not None, remove characters in chars instead.\n",
      " |  \n",
      " |  split(self, /, sep=None, maxsplit=-1)\n",
      " |      Return a list of the substrings in the string, using sep as the separator string.\n",
      " |      \n",
      " |        sep\n",
      " |          The separator used to split the string.\n",
      " |      \n",
      " |          When set to None (the default value), will split on any whitespace\n",
      " |          character (including \\\\n \\\\r \\\\t \\\\f and spaces) and will discard\n",
      " |          empty strings from the result.\n",
      " |        maxsplit\n",
      " |          Maximum number of splits (starting from the left).\n",
      " |          -1 (the default value) means no limit.\n",
      " |      \n",
      " |      Note, str.split() is mainly useful for data that has been intentionally\n",
      " |      delimited.  With natural text that includes punctuation, consider using\n",
      " |      the regular expression module.\n",
      " |  \n",
      " |  splitlines(self, /, keepends=False)\n",
      " |      Return a list of the lines in the string, breaking at line boundaries.\n",
      " |      \n",
      " |      Line breaks are not included in the resulting list unless keepends is given and\n",
      " |      true.\n",
      " |  \n",
      " |  startswith(...)\n",
      " |      S.startswith(prefix[, start[, end]]) -> bool\n",
      " |      \n",
      " |      Return True if S starts with the specified prefix, False otherwise.\n",
      " |      With optional start, test S beginning at that position.\n",
      " |      With optional end, stop comparing S at that position.\n",
      " |      prefix can also be a tuple of strings to try.\n",
      " |  \n",
      " |  strip(self, chars=None, /)\n",
      " |      Return a copy of the string with leading and trailing whitespace removed.\n",
      " |      \n",
      " |      If chars is given and not None, remove characters in chars instead.\n",
      " |  \n",
      " |  swapcase(self, /)\n",
      " |      Convert uppercase characters to lowercase and lowercase characters to uppercase.\n",
      " |  \n",
      " |  title(self, /)\n",
      " |      Return a version of the string where each word is titlecased.\n",
      " |      \n",
      " |      More specifically, words start with uppercased characters and all remaining\n",
      " |      cased characters have lower case.\n",
      " |  \n",
      " |  translate(self, table, /)\n",
      " |      Replace each character in the string using the given translation table.\n",
      " |      \n",
      " |        table\n",
      " |          Translation table, which must be a mapping of Unicode ordinals to\n",
      " |          Unicode ordinals, strings, or None.\n",
      " |      \n",
      " |      The table must implement lookup/indexing via __getitem__, for instance a\n",
      " |      dictionary or list.  If this operation raises LookupError, the character is\n",
      " |      left untouched.  Characters mapped to None are deleted.\n",
      " |  \n",
      " |  upper(self, /)\n",
      " |      Return a copy of the string converted to uppercase.\n",
      " |  \n",
      " |  zfill(self, width, /)\n",
      " |      Pad a numeric string with zeros on the left, to fill a field of the given width.\n",
      " |      \n",
      " |      The string is never truncated.\n",
      " |  \n",
      " |  ----------------------------------------------------------------------\n",
      " |  Static methods defined here:\n",
      " |  \n",
      " |  __new__(*args, **kwargs) from builtins.type\n",
      " |      Create and return a new object.  See help(type) for accurate signature.\n",
      " |  \n",
      " |  maketrans(...)\n",
      " |      Return a translation table usable for str.translate().\n",
      " |      \n",
      " |      If there is only one argument, it must be a dictionary mapping Unicode\n",
      " |      ordinals (integers) or characters to Unicode ordinals, strings or None.\n",
      " |      Character keys will be then converted to ordinals.\n",
      " |      If there are two arguments, they must be strings of equal length, and\n",
      " |      in the resulting dictionary, each character in x will be mapped to the\n",
      " |      character at the same position in y. If there is a third argument, it\n",
      " |      must be a string, whose characters will be mapped to None in the result.\n",
      "\n"
     ]
    }
   ],
   "source": [
    "help(str)"
   ]
  },
  {
   "cell_type": "code",
   "execution_count": 3,
   "id": "194dcc2e",
   "metadata": {},
   "outputs": [
    {
     "name": "stdout",
     "output_type": "stream",
     "text": [
      "Help on dict object:\n",
      "\n",
      "class dict(object)\n",
      " |  dict() -> new empty dictionary\n",
      " |  dict(mapping) -> new dictionary initialized from a mapping object's\n",
      " |      (key, value) pairs\n",
      " |  dict(iterable) -> new dictionary initialized as if via:\n",
      " |      d = {}\n",
      " |      for k, v in iterable:\n",
      " |          d[k] = v\n",
      " |  dict(**kwargs) -> new dictionary initialized with the name=value pairs\n",
      " |      in the keyword argument list.  For example:  dict(one=1, two=2)\n",
      " |  \n",
      " |  Built-in subclasses:\n",
      " |      StgDict\n",
      " |  \n",
      " |  Methods defined here:\n",
      " |  \n",
      " |  __contains__(self, key, /)\n",
      " |      True if the dictionary has the specified key, else False.\n",
      " |  \n",
      " |  __delitem__(self, key, /)\n",
      " |      Delete self[key].\n",
      " |  \n",
      " |  __eq__(self, value, /)\n",
      " |      Return self==value.\n",
      " |  \n",
      " |  __ge__(self, value, /)\n",
      " |      Return self>=value.\n",
      " |  \n",
      " |  __getattribute__(self, name, /)\n",
      " |      Return getattr(self, name).\n",
      " |  \n",
      " |  __getitem__(...)\n",
      " |      x.__getitem__(y) <==> x[y]\n",
      " |  \n",
      " |  __gt__(self, value, /)\n",
      " |      Return self>value.\n",
      " |  \n",
      " |  __init__(self, /, *args, **kwargs)\n",
      " |      Initialize self.  See help(type(self)) for accurate signature.\n",
      " |  \n",
      " |  __ior__(self, value, /)\n",
      " |      Return self|=value.\n",
      " |  \n",
      " |  __iter__(self, /)\n",
      " |      Implement iter(self).\n",
      " |  \n",
      " |  __le__(self, value, /)\n",
      " |      Return self<=value.\n",
      " |  \n",
      " |  __len__(self, /)\n",
      " |      Return len(self).\n",
      " |  \n",
      " |  __lt__(self, value, /)\n",
      " |      Return self<value.\n",
      " |  \n",
      " |  __ne__(self, value, /)\n",
      " |      Return self!=value.\n",
      " |  \n",
      " |  __or__(self, value, /)\n",
      " |      Return self|value.\n",
      " |  \n",
      " |  __repr__(self, /)\n",
      " |      Return repr(self).\n",
      " |  \n",
      " |  __reversed__(self, /)\n",
      " |      Return a reverse iterator over the dict keys.\n",
      " |  \n",
      " |  __ror__(self, value, /)\n",
      " |      Return value|self.\n",
      " |  \n",
      " |  __setitem__(self, key, value, /)\n",
      " |      Set self[key] to value.\n",
      " |  \n",
      " |  __sizeof__(...)\n",
      " |      D.__sizeof__() -> size of D in memory, in bytes\n",
      " |  \n",
      " |  clear(...)\n",
      " |      D.clear() -> None.  Remove all items from D.\n",
      " |  \n",
      " |  copy(...)\n",
      " |      D.copy() -> a shallow copy of D\n",
      " |  \n",
      " |  get(self, key, default=None, /)\n",
      " |      Return the value for key if key is in the dictionary, else default.\n",
      " |  \n",
      " |  items(...)\n",
      " |      D.items() -> a set-like object providing a view on D's items\n",
      " |  \n",
      " |  keys(...)\n",
      " |      D.keys() -> a set-like object providing a view on D's keys\n",
      " |  \n",
      " |  pop(...)\n",
      " |      D.pop(k[,d]) -> v, remove specified key and return the corresponding value.\n",
      " |      \n",
      " |      If the key is not found, return the default if given; otherwise,\n",
      " |      raise a KeyError.\n",
      " |  \n",
      " |  popitem(self, /)\n",
      " |      Remove and return a (key, value) pair as a 2-tuple.\n",
      " |      \n",
      " |      Pairs are returned in LIFO (last-in, first-out) order.\n",
      " |      Raises KeyError if the dict is empty.\n",
      " |  \n",
      " |  setdefault(self, key, default=None, /)\n",
      " |      Insert key with a value of default if key is not in the dictionary.\n",
      " |      \n",
      " |      Return the value for key if key is in the dictionary, else default.\n",
      " |  \n",
      " |  update(...)\n",
      " |      D.update([E, ]**F) -> None.  Update D from dict/iterable E and F.\n",
      " |      If E is present and has a .keys() method, then does:  for k in E: D[k] = E[k]\n",
      " |      If E is present and lacks a .keys() method, then does:  for k, v in E: D[k] = v\n",
      " |      In either case, this is followed by: for k in F:  D[k] = F[k]\n",
      " |  \n",
      " |  values(...)\n",
      " |      D.values() -> an object providing a view on D's values\n",
      " |  \n",
      " |  ----------------------------------------------------------------------\n",
      " |  Class methods defined here:\n",
      " |  \n",
      " |  __class_getitem__(...) from builtins.type\n",
      " |      See PEP 585\n",
      " |  \n",
      " |  fromkeys(iterable, value=None, /) from builtins.type\n",
      " |      Create a new dictionary with keys from iterable and values set to value.\n",
      " |  \n",
      " |  ----------------------------------------------------------------------\n",
      " |  Static methods defined here:\n",
      " |  \n",
      " |  __new__(*args, **kwargs) from builtins.type\n",
      " |      Create and return a new object.  See help(type) for accurate signature.\n",
      " |  \n",
      " |  ----------------------------------------------------------------------\n",
      " |  Data and other attributes defined here:\n",
      " |  \n",
      " |  __hash__ = None\n",
      "\n"
     ]
    }
   ],
   "source": [
    "help({})"
   ]
  },
  {
   "cell_type": "code",
   "execution_count": 40,
   "id": "07729529",
   "metadata": {},
   "outputs": [
    {
     "name": "stdout",
     "output_type": "stream",
     "text": [
      "['a', 'b', 'c', 'd', 'e']\n",
      "['a', 5, 'c', 'd', 'e']\n",
      " \n",
      "<class 'str'>\n"
     ]
    }
   ],
   "source": [
    "s = ['a','b','c','d','e',]\n",
    "print(s)\n",
    "s[1] = 5\n",
    "print(s)\n",
    "t = ' '\n",
    "print(t)\n",
    "print(type(t))"
   ]
  },
  {
   "cell_type": "code",
   "execution_count": 60,
   "id": "a6188ed0",
   "metadata": {},
   "outputs": [
    {
     "name": "stdout",
     "output_type": "stream",
     "text": [
      "[9, 7, 0, 2, 8, 6, 7]\n",
      "[7, 6, 8, 2, 0, 7, 9]\n",
      "[0, 2, 6, 7, 7, 8, 9]\n",
      "[0, 2, 6, 7, 7, 8, 9]\n",
      "[9, 8, 7, 7, 6, 2, 0]\n"
     ]
    }
   ],
   "source": [
    "#Other operations on Lists - Sort,Reverse\n",
    "L =[9,7,0,2,8,6,7]\n",
    "print(L)\n",
    "L.reverse() #Reverses the list and mutates the list\n",
    "print(L)\n",
    "l = sorted(L) #Does not mutate L\n",
    "print(l)\n",
    "L.sort()  #mutates list\n",
    "print(L)\n",
    "L.reverse()\n",
    "print(L)"
   ]
  },
  {
   "cell_type": "code",
   "execution_count": 62,
   "id": "8841ffb4",
   "metadata": {},
   "outputs": [
    {
     "name": "stdout",
     "output_type": "stream",
     "text": [
      "['red', 'yellow', 'orange', 'pink']\n",
      "['red', 'yellow', 'orange', 'pink']\n"
     ]
    }
   ],
   "source": [
    "#Aliasing in Lists\n",
    "warm = ['red','yellow','orange']\n",
    "hot = warm\n",
    "hot.append('pink')\n",
    "print(hot)\n",
    "print(warm)"
   ]
  },
  {
   "cell_type": "code",
   "execution_count": 63,
   "id": "59306acf",
   "metadata": {},
   "outputs": [
    {
     "name": "stdout",
     "output_type": "stream",
     "text": [
      "['blue', 'green', 'grey', 'black']\n",
      "['blue', 'green', 'grey']\n"
     ]
    }
   ],
   "source": [
    "#Cloning a list\n",
    "cool = ['blue','green','grey']\n",
    "chill = cool[:]\n",
    "chill.append('black')\n",
    "print(chill)\n",
    "print(cool)"
   ]
  },
  {
   "cell_type": "code",
   "execution_count": 65,
   "id": "59e63a8d",
   "metadata": {},
   "outputs": [
    {
     "name": "stdout",
     "output_type": "stream",
     "text": [
      "['orange', 'red', 'yellow']\n",
      "None\n",
      "['grey', 'green', 'blue']\n",
      "['blue', 'green', 'grey']\n"
     ]
    }
   ],
   "source": [
    "warm = ['red','yellow','orange']\n",
    "sortedwarm = warm.sort()# Mutates list\n",
    "print(warm)\n",
    "print(sortedwarm)\n",
    "cool = ['grey','green','blue']\n",
    "sortedcool = sorted(cool) #Dont mutate list\n",
    "print(cool)\n",
    "print(sortedcool)"
   ]
  },
  {
   "cell_type": "code",
   "execution_count": 1,
   "id": "ec191c48",
   "metadata": {},
   "outputs": [
    {
     "name": "stdout",
     "output_type": "stream",
     "text": [
      "[['yellow', 'orange'], ['red']]\n",
      "['red', 'pink']\n",
      "[['yellow', 'orange'], ['red', 'pink']]\n"
     ]
    }
   ],
   "source": [
    "#Nested lists\n",
    "warm = ['yellow','orange']\n",
    "hot = ['red']\n",
    "brightcolors = [warm]\n",
    "brightcolors.append(hot)\n",
    "print(brightcolors)\n",
    "hot.append('pink')\n",
    "print(hot)\n",
    "print(brightcolors)"
   ]
  },
  {
   "cell_type": "code",
   "execution_count": 8,
   "id": "9468a4b3",
   "metadata": {},
   "outputs": [
    {
     "name": "stdout",
     "output_type": "stream",
     "text": [
      "[2, 4]\n",
      "[2, 4]\n"
     ]
    }
   ],
   "source": [
    "#Mutation and Iteration\n",
    "def remove_dups(L3,L4):\n",
    "    for e in L3:\n",
    "        if e in L4:\n",
    "            L3.remove(e)\n",
    "    print(L3)        \n",
    "l1 = [1,2,3,4] \n",
    "l2 = [1,2,3,6]\n",
    "remove_dups(l1,l2)\n",
    "print(l1) #This code will not do what we expect it to do!Because here we modify the list as we iterate over it!\n"
   ]
  },
  {
   "cell_type": "code",
   "execution_count": 10,
   "id": "1a2008bc",
   "metadata": {},
   "outputs": [
    {
     "name": "stdout",
     "output_type": "stream",
     "text": [
      "[3, 4]\n"
     ]
    }
   ],
   "source": [
    "def remove_dups(L1,L2):\n",
    "    L1_copy = L1[:]\n",
    "    for e in L1_copy:\n",
    "        if e in L2:\n",
    "            L1.remove(e)\n",
    "l1 = [1,2,3,4]\n",
    "l2 = [1,2,5,6]\n",
    "remove_dups(l1,l2)\n",
    "print(l1)"
   ]
  },
  {
   "cell_type": "code",
   "execution_count": 18,
   "id": "82fa8f01",
   "metadata": {},
   "outputs": [
    {
     "name": "stdout",
     "output_type": "stream",
     "text": [
      "[1, 2, 3, 4, 5, 6, 7, 8]\n",
      "[2, 3]\n"
     ]
    }
   ],
   "source": [
    "cool = [1,2,3,4,5,6,7,8]\n",
    "hot = cool[1:3]\n",
    "print(cool)\n",
    "print(hot)"
   ]
  },
  {
   "cell_type": "code",
   "execution_count": 24,
   "id": "31eefb56",
   "metadata": {},
   "outputs": [
    {
     "ename": "AttributeError",
     "evalue": "'str' object has no attribute 'remove'",
     "output_type": "error",
     "traceback": [
      "\u001b[1;31m---------------------------------------------------------------------------\u001b[0m",
      "\u001b[1;31mAttributeError\u001b[0m                            Traceback (most recent call last)",
      "Cell \u001b[1;32mIn[24], line 2\u001b[0m\n\u001b[0;32m      1\u001b[0m s \u001b[38;5;241m=\u001b[39m \u001b[38;5;124m'\u001b[39m\u001b[38;5;124mabcdef\u001b[39m\u001b[38;5;124m'\u001b[39m\n\u001b[1;32m----> 2\u001b[0m \u001b[43ms\u001b[49m\u001b[38;5;241;43m.\u001b[39;49m\u001b[43mremove\u001b[49m(d)\n\u001b[0;32m      3\u001b[0m \u001b[38;5;28mprint\u001b[39m(s)\n",
      "\u001b[1;31mAttributeError\u001b[0m: 'str' object has no attribute 'remove'"
     ]
    }
   ],
   "source": [
    "s = 'abcdef'\n",
    "s.remove(d)\n",
    "print(s)"
   ]
  },
  {
   "cell_type": "code",
   "execution_count": null,
   "id": "6b006303",
   "metadata": {},
   "outputs": [],
   "source": [
    "def abc():\n",
    "    i =4\n",
    "    g =4\n",
    "    return i == g\n",
    "if abc():\n",
    "    print(\"Akhi\")"
   ]
  },
  {
   "cell_type": "code",
   "execution_count": 6,
   "id": "2d48f549",
   "metadata": {},
   "outputs": [
    {
     "name": "stdout",
     "output_type": "stream",
     "text": [
      "[7, 1, 2, 3, 4]\n",
      "[1, 2, 3]\n"
     ]
    }
   ],
   "source": [
    "s = [1,2,3,4]\n",
    "s = [7,1,2,3,4]\n",
    "\n",
    "print(s)\n",
    "ss = s[1:4]\n",
    "print(ss)"
   ]
  },
  {
   "cell_type": "code",
   "execution_count": 4,
   "id": "fe7976f7",
   "metadata": {},
   "outputs": [
    {
     "name": "stdout",
     "output_type": "stream",
     "text": [
      "(1, 2, 3, 4, 1)\n",
      "(1, 2, 3, 4)\n",
      "(1, 2, 3, 4)\n"
     ]
    }
   ],
   "source": [
    "t = (1,2,3,4)\n",
    "tt = t\n",
    "ts = tt + (1,)\n",
    "print(ts)\n",
    "print(t)\n",
    "print(tt)"
   ]
  },
  {
   "cell_type": "code",
   "execution_count": 5,
   "id": "11eebbf6",
   "metadata": {},
   "outputs": [],
   "source": [
    "#Recursion and Dictionaries - 6"
   ]
  },
  {
   "cell_type": "code",
   "execution_count": 7,
   "id": "c80f16dd",
   "metadata": {},
   "outputs": [
    {
     "name": "stdout",
     "output_type": "stream",
     "text": [
      "63\n"
     ]
    }
   ],
   "source": [
    "#Multiplication\n",
    "def mult(a,b):\n",
    "    result = 0\n",
    "    while b>0:\n",
    "        result = result + a\n",
    "        b-=1\n",
    "    return result\n",
    "result = mult(7,9)\n",
    "print(result)"
   ]
  },
  {
   "cell_type": "code",
   "execution_count": 12,
   "id": "bf9d60b8",
   "metadata": {},
   "outputs": [
    {
     "name": "stdout",
     "output_type": "stream",
     "text": [
      "12\n"
     ]
    }
   ],
   "source": [
    "#Multiplication - Recursive Solution\n",
    "def mult(a,b):\n",
    "    result = 0\n",
    "    while b>0:\n",
    "        result =  a + mult(a,b-1)\n",
    "        b-=b\n",
    "    return result\n",
    "result = mult(3,4)\n",
    "print(result)"
   ]
  },
  {
   "cell_type": "code",
   "execution_count": 20,
   "id": "ddb6eaa7",
   "metadata": {},
   "outputs": [
    {
     "name": "stdout",
     "output_type": "stream",
     "text": [
      "63\n"
     ]
    }
   ],
   "source": [
    "#Multiplication - Recursive Solution\n",
    "def mult(a,b):\n",
    "    if b == 1:\n",
    "        return a\n",
    "    else:\n",
    "        return a + mult(a,b-1)\n",
    "m = mult(9,7)\n",
    "print(m)"
   ]
  },
  {
   "cell_type": "code",
   "execution_count": 22,
   "id": "10e693dd",
   "metadata": {},
   "outputs": [
    {
     "name": "stdout",
     "output_type": "stream",
     "text": [
      "720\n",
      "120\n"
     ]
    }
   ],
   "source": [
    "#Factorial Iteration Solution\n",
    "def factoril(n):\n",
    "    res = 1\n",
    "    while n>1:\n",
    "        res = res * n\n",
    "        n-=1\n",
    "    return res\n",
    "res = factoril(6)\n",
    "print(res)\n",
    "#Using For Loop\n",
    "def fact(n):\n",
    "    res = 1\n",
    "    for i in range(1,n+1):\n",
    "        res*=i\n",
    "    return res\n",
    "print(fact(5))\n",
    "        \n",
    "        "
   ]
  },
  {
   "cell_type": "code",
   "execution_count": 18,
   "id": "abe64d66",
   "metadata": {},
   "outputs": [
    {
     "name": "stdout",
     "output_type": "stream",
     "text": [
      "120\n"
     ]
    }
   ],
   "source": [
    "#Factorial - Recursive Solution\n",
    "def factoril(n):\n",
    "    res = 1\n",
    "    while n>1:\n",
    "        res = n * factoril(n-1)\n",
    "        n-=n\n",
    "    return res\n",
    "res = factoril(5)\n",
    "print(res)"
   ]
  },
  {
   "cell_type": "code",
   "execution_count": 21,
   "id": "b828d43b",
   "metadata": {},
   "outputs": [
    {
     "name": "stdout",
     "output_type": "stream",
     "text": [
      "24\n"
     ]
    }
   ],
   "source": [
    "#Factorial - Recursive Solution\n",
    "def factoril(n):\n",
    "    if n == 1:\n",
    "        return n\n",
    "    else:\n",
    "        return n*factoril(n-1)\n",
    "res = factoril(4)\n",
    "print(res)"
   ]
  },
  {
   "cell_type": "code",
   "execution_count": 35,
   "id": "fdee9bbe",
   "metadata": {},
   "outputs": [
    {
     "name": "stdout",
     "output_type": "stream",
     "text": [
      "[574, 152, 490, 588, 887, 219, 695, 319, 508, 769, 716, 951, 946, 610, 970, 733, 482, 922, 833, 53, 714, 792, 160, 237, 992, 350, 580, 390, 980, 36, 830, 177, 348, 561, 149, 141, 894, 476, 400, 903, 701, 355, 153, 811, 823, 240, 331, 328, 614, 822, 159, 238, 604, 692, 835, 815, 146, 412, 993, 663, 772, 671, 986, 241, 679, 398, 199, 27, 242, 157, 794, 763, 608, 31, 37, 495, 780, 825, 613, 828, 885, 128, 542, 927, 666, 74, 487, 200, 917, 748, 79, 680, 488, 846, 620, 338, 330, 450, 8, 921]\n"
     ]
    }
   ],
   "source": [
    "import random\n",
    "i = 0\n",
    "l = []\n",
    "while len(l) != 100:\n",
    "    i = random.randint(1,1000)\n",
    "    if i not in l:\n",
    "        l.append(i)\n",
    "print(l)        \n",
    "    \n",
    "    \n",
    "    "
   ]
  },
  {
   "cell_type": "code",
   "execution_count": 10,
   "id": "a6e57c21",
   "metadata": {},
   "outputs": [
    {
     "name": "stdout",
     "output_type": "stream",
     "text": [
      "1\n",
      "2\n",
      "3\n",
      "4\n",
      "5\n",
      "6\n",
      "7\n",
      "8\n",
      "9\n",
      "10\n",
      "11\n",
      "12\n",
      "13\n",
      "14\n",
      "15\n",
      "16\n",
      "17\n",
      "18\n",
      "19\n",
      "20\n",
      "21\n",
      "22\n",
      "23\n",
      "24\n",
      "25\n",
      "26\n",
      "27\n",
      "28\n",
      "29\n",
      "30\n",
      "31\n",
      "32\n",
      "33\n",
      "34\n",
      "35\n",
      "36\n",
      "37\n",
      "38\n",
      "39\n",
      "40\n",
      "41\n",
      "42\n",
      "43\n",
      "44\n",
      "45\n",
      "46\n",
      "47\n",
      "48\n",
      "49\n",
      "50\n",
      "51\n",
      "52\n",
      "53\n",
      "54\n",
      "55\n",
      "56\n",
      "57\n",
      "58\n",
      "59\n",
      "60\n",
      "61\n",
      "62\n",
      "63\n",
      "64\n",
      "65\n",
      "66\n",
      "67\n",
      "68\n",
      "69\n",
      "70\n",
      "71\n",
      "72\n",
      "73\n",
      "74\n",
      "75\n",
      "76\n",
      "77\n",
      "78\n",
      "79\n",
      "80\n",
      "81\n",
      "82\n",
      "83\n",
      "84\n",
      "85\n",
      "86\n",
      "87\n",
      "88\n",
      "89\n",
      "90\n",
      "91\n",
      "92\n",
      "93\n",
      "94\n",
      "95\n",
      "96\n",
      "97\n",
      "98\n",
      "99\n",
      "101\n"
     ]
    }
   ],
   "source": [
    "l = 100\n",
    "for i in range(1,l):\n",
    "    print(i)\n",
    "    if i == 50:\n",
    "        l+=1\n",
    "print(l)    "
   ]
  },
  {
   "cell_type": "code",
   "execution_count": 16,
   "id": "cb886783",
   "metadata": {},
   "outputs": [
    {
     "ename": "SyntaxError",
     "evalue": "incomplete input (2672139675.py, line 10)",
     "output_type": "error",
     "traceback": [
      "\u001b[1;36m  Cell \u001b[1;32mIn[16], line 10\u001b[1;36m\u001b[0m\n\u001b[1;33m    \u001b[0m\n\u001b[1;37m    ^\u001b[0m\n\u001b[1;31mSyntaxError\u001b[0m\u001b[1;31m:\u001b[0m incomplete input\n"
     ]
    }
   ],
   "source": [
    "L1 = [4,3,2,1]\n",
    "L1_copy = L1[:]\n",
    "L2 = []\n",
    "L3 = []\n",
    "i = 0\n",
    "while L1_copy != L3:\n",
    "    A = L1.pop()\n",
    "    for i in  \n",
    "    \n",
    "    \n",
    "    \n",
    "    "
   ]
  },
  {
   "cell_type": "code",
   "execution_count": 17,
   "id": "d83353b8",
   "metadata": {},
   "outputs": [
    {
     "name": "stdout",
     "output_type": "stream",
     "text": [
      "[4, 3, 2, 1]\n"
     ]
    }
   ],
   "source": [
    "L1 = [4,3,2,1]\n",
    "L2 = []\n",
    "L3 = []\n",
    "L2.append(L1.pop())\n",
    "L3.append(L1.pop())\n",
    "L3.append(L2.pop())\n",
    "L2.append(L1.pop())\n",
    "L1.append(L3.pop())\n",
    "L2.append(L3.pop())\n",
    "L2.append(L1.pop())\n",
    "L3.append(L1.pop())\n",
    "L3.append(L2.pop())\n",
    "L1.append(L2.pop())\n",
    "L1.append(L3.pop())\n",
    "L3.append(L2.pop())\n",
    "L2.append(L1.pop())\n",
    "L3.append(L1.pop())\n",
    "L3.append(L2.pop())\n",
    "print(L3)\n",
    "\n",
    "\n",
    "\n"
   ]
  },
  {
   "cell_type": "code",
   "execution_count": 7,
   "id": "f2947bf8",
   "metadata": {},
   "outputs": [
    {
     "name": "stdout",
     "output_type": "stream",
     "text": [
      "move from fro to to\n",
      "move from fro to spare\n",
      "move from to to spare\n",
      "move from fro to to\n",
      "move from spare to fro\n",
      "move from spare to to\n",
      "move from fro to to\n"
     ]
    }
   ],
   "source": [
    "#The Towers Of Hanoi\n",
    "def printMove(fr, to):\n",
    "    print('move from ' + str(fr) + ' to ' + str(to))\n",
    "def Towers(n, fr, to, spare):\n",
    "    if n == 1:\n",
    "        printMove(fr, to)\n",
    "    else:\n",
    "        Towers(n-1, fr, spare, to)\n",
    "        Towers(1, fr, to, spare)\n",
    "        Towers(n-1, spare, to, fr)\n",
    "    \n",
    "Towers(3,'fro','to','spare')    \n",
    "        \n",
    "        "
   ]
  },
  {
   "cell_type": "code",
   "execution_count": 8,
   "id": "b811dec2",
   "metadata": {},
   "outputs": [],
   "source": [
    "#Calculating number of rabbits at the end of given months\n",
    "def num_rabbit(mnth):\n",
    "    "
   ]
  },
  {
   "cell_type": "code",
   "execution_count": 24,
   "id": "879a52d4",
   "metadata": {},
   "outputs": [
    {
     "name": "stdout",
     "output_type": "stream",
     "text": [
      "Enter the month : 12\n",
      "The number of rabbits is 466\n"
     ]
    }
   ],
   "source": [
    "fib_1 = 1\n",
    "fib_2 = 1\n",
    "l = int(input(\"Enter the month : \"))\n",
    "fib_num = 0\n",
    "for i in range(l-1):\n",
    "    fib_num = fib_1 + fib_2\n",
    "    fib_1 = fib_2\n",
    "    fib_2 = fib_num\n",
    "if fib_num == 0:\n",
    "    fib_num = 1\n",
    "print(\"The number of rabbits is\", fib_num*2)    "
   ]
  },
  {
   "cell_type": "code",
   "execution_count": 30,
   "id": "1e857145",
   "metadata": {},
   "outputs": [
    {
     "name": "stdout",
     "output_type": "stream",
     "text": [
      "2\n"
     ]
    }
   ],
   "source": [
    "def fun(n):\n",
    "    if n == 1:\n",
    "        return 2\n",
    "    else:\n",
    "        fib_1 = 2\n",
    "        fib_2 = 2\n",
    "        fib_num = 0\n",
    "        for i in range(n-1):\n",
    "            fib_num = fib_1 + fib_2\n",
    "            fib_1 = fib_2\n",
    "            fib_2 = fib_num \n",
    "        fib_num = fib_num - fib_1    \n",
    "        return fib_num + fun(n-1)\n",
    "print(fun(1))    \n",
    "            "
   ]
  },
  {
   "cell_type": "code",
   "execution_count": 3,
   "id": "5467c1b9",
   "metadata": {},
   "outputs": [
    {
     "name": "stdout",
     "output_type": "stream",
     "text": [
      "2\n"
     ]
    }
   ],
   "source": [
    "#Number of female rabbits\n",
    "#Fibonacci sequence\n",
    "def fib(x):\n",
    "    if x <= 1:\n",
    "        return 1\n",
    "    else:\n",
    "        return fib(x-1) + fib(x-2)\n",
    "print(fib(2))    \n",
    "    "
   ]
  },
  {
   "cell_type": "code",
   "execution_count": 12,
   "id": "527daf5c",
   "metadata": {},
   "outputs": [
    {
     "name": "stdout",
     "output_type": "stream",
     "text": [
      "Enter the string : Able was I ere I saw Elba\n",
      "The string is a palindrome\n"
     ]
    }
   ],
   "source": [
    "#Is the string of characters a palindrome\n",
    "import string\n",
    "s = input(\"Enter the string : \")\n",
    "ss = str.lower(s)\n",
    "l = []\n",
    "for i in ss:\n",
    "    l.append(i)\n",
    "l.reverse()\n",
    "t = ''.join(l)\n",
    "if t == ss:\n",
    "    print(\"The string is a palindrome\")\n",
    "else:\n",
    "    print(\"The string is not a palindrome\")\n",
    "    \n",
    "    "
   ]
  },
  {
   "cell_type": "code",
   "execution_count": 16,
   "id": "42f8c556",
   "metadata": {},
   "outputs": [
    {
     "name": "stdout",
     "output_type": "stream",
     "text": [
      "Enter the string : Able was i ere I saw Elba\n",
      "The string is a palindrome\n"
     ]
    }
   ],
   "source": [
    "import string\n",
    "s = input(\"Enter the string : \")\n",
    "ss = str.lower(s)\n",
    "a = 0\n",
    "l = len(ss)\n",
    "n = l//2\n",
    "for i in range(n):\n",
    "    if ss[i] != ss[l-1-i]:\n",
    "        a+=1\n",
    "        break\n",
    "if a == 0:\n",
    "    print(\"The string is a palindrome\")\n",
    "else:\n",
    "    print(\"The string is not a palindrome\")\n"
   ]
  },
  {
   "cell_type": "code",
   "execution_count": 31,
   "id": "4f8f0f0d",
   "metadata": {},
   "outputs": [
    {
     "name": "stdout",
     "output_type": "stream",
     "text": [
      "False\n"
     ]
    }
   ],
   "source": [
    "def ispalindrome(s):\n",
    "    l = len(s)\n",
    "    if l <= 1:\n",
    "        return True\n",
    "    else:\n",
    "        return (s[0] == s[l-1]) & ispalindrome(s[1:l-1])\n",
    "print(ispalindrome('Able was i ere i saw elba'))    "
   ]
  },
  {
   "cell_type": "code",
   "execution_count": 66,
   "id": "4d8796ac",
   "metadata": {},
   "outputs": [
    {
     "name": "stdout",
     "output_type": "stream",
     "text": [
      "bc\n",
      "abcd\n",
      "abcde\n",
      "bcd\n",
      "\n",
      "aa\n"
     ]
    }
   ],
   "source": [
    "s ='abcd'\n",
    "print(s[1:3])\n",
    "print(s)\n",
    "s = s + 'e'#Concatenating String. Strings are immutable\n",
    "print(s)\n",
    "print(s[1:-1])\n",
    "a = ''\n",
    "print(a)\n",
    "b= a + 'a'+ 'a'#Concatenating String. Strings are immutable\n",
    "print(b)"
   ]
  },
  {
   "cell_type": "code",
   "execution_count": 46,
   "id": "d336031f",
   "metadata": {},
   "outputs": [
    {
     "name": "stdout",
     "output_type": "stream",
     "text": [
      "True\n"
     ]
    }
   ],
   "source": [
    "#Is the string a paliandrome\n",
    "def isPalindrome(s):\n",
    "    def toChars(s):\n",
    "        s = s.lower()\n",
    "        ans = ''\n",
    "        for c in s:\n",
    "            if c in 'abcdefghijklmnopqrstuvwxyz':\n",
    "                ans = ans + c\n",
    "        return ans\n",
    "    def isPal(s):\n",
    "        if len(s)<= 1:\n",
    "            return True\n",
    "        else:\n",
    "            return s[0] == s[-1] and isPal(s[1:-1])\n",
    "    return isPal(toChars(s))  \n",
    "print(isPalindrome('Able was I ere I saw Elba'))"
   ]
  },
  {
   "cell_type": "code",
   "execution_count": 49,
   "id": "ee43bde9",
   "metadata": {},
   "outputs": [
    {
     "name": "stdout",
     "output_type": "stream",
     "text": [
      "(20.002, 'A')\n"
     ]
    }
   ],
   "source": [
    "#How to update/retrieve student information\n",
    "names = ['Ana','John','Denise','Katy']   #Storing Student Information\n",
    "grade = ['B','A+','A','A']\n",
    "course = [2.00,6.0001,20.002,9.01]\n",
    "def get_grade(student,names_list,grade_list,course_list):\n",
    "    i = names_list.index(student)\n",
    "    grade = grade_list[i]\n",
    "    course = course_list[i]\n",
    "    return (course, grade)\n",
    "print(get_grade('Denise',names,grade,course))"
   ]
  },
  {
   "cell_type": "code",
   "execution_count": 58,
   "id": "61e30782",
   "metadata": {},
   "outputs": [
    {
     "name": "stdout",
     "output_type": "stream",
     "text": [
      "3\n",
      "7\n"
     ]
    }
   ],
   "source": [
    "s = 'abcde'\n",
    "i = s.index('d')\n",
    "print(i)\n",
    "d = [4,5,'m']\n",
    "e = (3,'s')\n",
    "ss = [1,2,3,'a',d,'d',9,e]\n",
    "ii = ss.index(e)\n",
    "print(ii)"
   ]
  },
  {
   "cell_type": "code",
   "execution_count": 65,
   "id": "1ec97b8e",
   "metadata": {},
   "outputs": [
    {
     "name": "stdout",
     "output_type": "stream",
     "text": [
      "A+\n",
      "{'Ana': 'B', 'John': 'A+', 'Denise': 'A', 'Katy': 'A', 'Sylvan': 'A'}\n",
      "True\n",
      "False\n",
      "{'John': 'A+', 'Denise': 'A', 'Katy': 'A', 'Sylvan': 'A'}\n",
      "dict_keys(['John', 'Denise', 'Katy', 'Sylvan'])\n",
      "dict_values(['A+', 'A', 'A', 'A'])\n",
      "John\n",
      "Denise\n",
      "Katy\n",
      "Sylvan\n",
      "A+\n",
      "A\n",
      "A\n",
      "A\n"
     ]
    }
   ],
   "source": [
    "#Dictionary\n",
    "dic = {} #Empty dictionary\n",
    "grades = {'Ana':'B','John':'A+','Denise':'A','Katy':'A'}\n",
    "#Dictionary Lookup\n",
    "print(grades['John'])\n",
    "#Dictionary Operations\n",
    "grades['Sylvan'] = 'A'  #Addind an entry\n",
    "print(grades)\n",
    "print('Ana' in grades) #Testing if Key is in Dictionary\n",
    "print('Daniel' in grades)\n",
    "del(grades['Ana'])  #Delete Entry\n",
    "print(grades)\n",
    "print(grades.keys()) # gets an iterable that acts like a tuple of all keys\n",
    "print(grades.values()) # gets an iterable that acts like a tuple of all values\n",
    "for i in grades.keys():\n",
    "    print(i)\n",
    "for i in grades.values():\n",
    "    print(i)"
   ]
  },
  {
   "cell_type": "code",
   "execution_count": 83,
   "id": "e9ef0731",
   "metadata": {},
   "outputs": [
    {
     "name": "stdout",
     "output_type": "stream",
     "text": [
      "love\n",
      "is\n",
      "garden\n",
      "beauty\n",
      "butterfly\n",
      "dandelion\n",
      "wind\n",
      "lass\n",
      "The most common word : (['garden', 'beauty'], 45)\n"
     ]
    }
   ],
   "source": [
    "dic = {'love':9,'is':6,'garden':45,'beauty':45,'butterfly':25,'dandelion':25,'wind':7,'lass':8}\n",
    "for i in dic:\n",
    "    print(i)\n",
    "def maxi(dic):\n",
    "    max = 0 \n",
    "    label =[]\n",
    "    for i in dic.keys():\n",
    "        if dic[i] >= max:\n",
    "            max = dic[i]\n",
    "    for i in dic.keys():\n",
    "        if dic[i] == max:\n",
    "            label.append(i)    \n",
    "    return (label,max)   \n",
    "print(\"The most common word :\",maxi(dic))\n",
    "    "
   ]
  },
  {
   "cell_type": "code",
   "execution_count": 3,
   "id": "c0612efc",
   "metadata": {},
   "outputs": [
    {
     "name": "stdout",
     "output_type": "stream",
     "text": [
      "{'she': 5, 'loves': 3, 'you': 4, 'yeah': 5, 'think': 3, \"you've\": 1, 'lost': 1, 'your': 1, 'well': 1, 'i': 1, 'saw': 1, 'her': 1, 'yesterday': 1, 'is': 1, 'thinking': 1, 'of': 1, 'and': 1, 'told': 1, 'me': 1, 'what': 1, 'to': 1, 'do': 4}\n",
      "(['she', 'yeah'], 5)\n",
      "['she', 'loves', 'you', 'yeah', 'think', 'do']\n"
     ]
    }
   ],
   "source": [
    "#Program to count the words in lyrics\n",
    "def lyrics_to_frequencies(lyrics):\n",
    "    Dic = {}\n",
    "    for word in lyrics:\n",
    "        if word in Dic:\n",
    "            Dic[word]+=1\n",
    "        else:\n",
    "            Dic[word] = 1\n",
    "    return Dic  \n",
    "she_loves_you = ['she','loves','you','yeah','she','loves','you','yeah','yeah','she','loves','you','yeah','yeah','you','think',\"you've\",'lost','your','well','i','saw','her','yesterday','she','is','thinking','of','and','she','told','me',\n",
    "                'what','to','do','think','do','think','do','do']\n",
    "dic = lyrics_to_frequencies(she_loves_you)\n",
    "print(dic)\n",
    "def most_common_word(Dic):\n",
    "    value = Dic.values()\n",
    "    best = max(value)\n",
    "    label = []\n",
    "    for i in Dic.keys():\n",
    "        if best == Dic[i]:\n",
    "            label.append(i)\n",
    "    return (label,best)\n",
    "print(most_common_word(dic))\n",
    "def common_words(dic,n):\n",
    "    label = []\n",
    "    for i in dic.keys():\n",
    "        if dic[i] >= n:\n",
    "            label.append(i)\n",
    "    return label\n",
    "print(common_words(dic,3))\n",
    "    "
   ]
  },
  {
   "cell_type": "code",
   "execution_count": 34,
   "id": "d2e52db4",
   "metadata": {},
   "outputs": [
    {
     "name": "stdout",
     "output_type": "stream",
     "text": [
      "{'red': 3, 'blue': 7, 'yellow': 5, 'orange': 9}\n",
      "{'blue': 7, 'yellow': 5, 'orange': 9}\n",
      "l\n",
      "e\n",
      "r\n",
      "4\n",
      "3\n",
      "2\n",
      "9\n"
     ]
    }
   ],
   "source": [
    "dic = {'red':3,'blue':7,'yellow':5,'orange':9}\n",
    "print(dic)\n",
    "del(dic['red'])  #Mutating Dictionary\n",
    "print(dic)\n",
    "for i in dic:\n",
    "    print(i[1])\n",
    "lis = [['red',4],['blue',3],['yellow',2],('orange',9)]\n",
    "for i in lis:\n",
    "    print(i[1])\n"
   ]
  },
  {
   "cell_type": "code",
   "execution_count": 35,
   "id": "896edf01",
   "metadata": {},
   "outputs": [
    {
     "name": "stdout",
     "output_type": "stream",
     "text": [
      "{'she': 5, 'loves': 3, 'you': 4, 'yeah': 5, 'think': 3, \"you've\": 1, 'lost': 1, 'your': 1, 'well': 1, 'i': 1, 'saw': 1, 'her': 1, 'yesterday': 1, 'is': 1, 'thinking': 1, 'of': 1, 'and': 1, 'told': 1, 'me': 1, 'what': 1, 'to': 1, 'do': 4, 'we': 3}\n",
      "[['she', 'yeah'], 5]\n",
      "5\n",
      "[[['she', 'yeah'], 5], [['you', 'do'], 4], [['loves', 'think', 'we'], 3]]\n"
     ]
    }
   ],
   "source": [
    "def most_common_word(Dic):\n",
    "    value = Dic.values()\n",
    "    best = max(value)\n",
    "    label = []\n",
    "    for i in Dic.keys():\n",
    "        if best == Dic[i]:\n",
    "            label.append(i)\n",
    "    return [label,best]\n",
    "def words_often(freqs, minTimes):\n",
    "    result = []\n",
    "    done = False\n",
    "    while not done:\n",
    "        temp = most_common_word(freqs)\n",
    "        if temp[1] >= minTimes:\n",
    "            result.append(temp)\n",
    "            for w in temp[0]:\n",
    "                del(freqs[w])\n",
    "        else:\n",
    "            done = True\n",
    "    return result\n",
    "she_loves_you = ['she','loves','you','yeah','she','loves','you','yeah','yeah','she','loves','you','yeah','yeah','you','think',\"you've\",'lost','your','well','i','saw','her','yesterday','she','is','thinking','of','and','she','told','me',\n",
    "                'what','to','do','think','do','think','do','do','we','we','we']\n",
    "dic = lyrics_to_frequencies(she_loves_you)\n",
    "print(dic)\n",
    "temp = most_common_word(dic)\n",
    "print(temp)\n",
    "print(temp[1])\n",
    "print(words_often(dic,3))"
   ]
  },
  {
   "cell_type": "code",
   "execution_count": null,
   "id": "a2dc7960",
   "metadata": {},
   "outputs": [],
   "source": [
    "def fibnci(n,dic):\n",
    "    dic = {0:1}\n",
    "    if n <= 1:\n",
    "        return dic\n",
    "    else:\n",
    "        ress = {}\n",
    "        ress.update(fibnci(n-1))\n",
    "        \n",
    "        return res.update(fibnci(n-1))"
   ]
  },
  {
   "cell_type": "code",
   "execution_count": 40,
   "id": "5f88c29f",
   "metadata": {},
   "outputs": [
    {
     "name": "stdout",
     "output_type": "stream",
     "text": [
      "{0: 1, 1: 1, 2: 2}\n",
      "{0: 1, 1: 1, 2: 2, 3: 3}\n",
      "{0: 1, 1: 1, 2: 2, 3: 3, 4: 5}\n",
      "5\n"
     ]
    }
   ],
   "source": [
    "#Fibonacci with a dictionary\n",
    "def fib_efficient(n,d):\n",
    "    if n in d:\n",
    "        return d[n]\n",
    "    else:\n",
    "        ans = fib_efficient(n-1,d) + fib_efficient(n-2,d)\n",
    "        d[n] = ans\n",
    "        print(d)\n",
    "        return ans\n",
    "    \n",
    "d = {0:1,1:1}\n",
    "print(fib_efficient(4,d))"
   ]
  },
  {
   "cell_type": "code",
   "execution_count": 39,
   "id": "0b631a1e",
   "metadata": {},
   "outputs": [
    {
     "name": "stdout",
     "output_type": "stream",
     "text": [
      "{0: 1}\n",
      "{1: 1, 0: 1, 5: 9}\n",
      "1\n",
      "{4: 7}\n",
      "{4: 7, 5: 'akh'}\n"
     ]
    }
   ],
   "source": [
    "tic = {0:1,1:2}\n",
    "dic = {1:1}\n",
    "pic = {}\n",
    "tic.pop(1)\n",
    "print(tic)\n",
    "dic.update(tic)\n",
    "dic.update({5:9})\n",
    "print(dic)\n",
    "print(dic[0])\n",
    "pic.update({4:7})\n",
    "print(pic)\n",
    "pic[5] = 'akh'\n",
    "print(pic)"
   ]
  },
  {
   "cell_type": "code",
   "execution_count": 19,
   "id": "9d794e08",
   "metadata": {},
   "outputs": [
    {
     "name": "stdout",
     "output_type": "stream",
     "text": [
      "Help on class dict in module builtins:\n",
      "\n",
      "class dict(object)\n",
      " |  dict() -> new empty dictionary\n",
      " |  dict(mapping) -> new dictionary initialized from a mapping object's\n",
      " |      (key, value) pairs\n",
      " |  dict(iterable) -> new dictionary initialized as if via:\n",
      " |      d = {}\n",
      " |      for k, v in iterable:\n",
      " |          d[k] = v\n",
      " |  dict(**kwargs) -> new dictionary initialized with the name=value pairs\n",
      " |      in the keyword argument list.  For example:  dict(one=1, two=2)\n",
      " |  \n",
      " |  Built-in subclasses:\n",
      " |      StgDict\n",
      " |  \n",
      " |  Methods defined here:\n",
      " |  \n",
      " |  __contains__(self, key, /)\n",
      " |      True if the dictionary has the specified key, else False.\n",
      " |  \n",
      " |  __delitem__(self, key, /)\n",
      " |      Delete self[key].\n",
      " |  \n",
      " |  __eq__(self, value, /)\n",
      " |      Return self==value.\n",
      " |  \n",
      " |  __ge__(self, value, /)\n",
      " |      Return self>=value.\n",
      " |  \n",
      " |  __getattribute__(self, name, /)\n",
      " |      Return getattr(self, name).\n",
      " |  \n",
      " |  __getitem__(...)\n",
      " |      x.__getitem__(y) <==> x[y]\n",
      " |  \n",
      " |  __gt__(self, value, /)\n",
      " |      Return self>value.\n",
      " |  \n",
      " |  __init__(self, /, *args, **kwargs)\n",
      " |      Initialize self.  See help(type(self)) for accurate signature.\n",
      " |  \n",
      " |  __ior__(self, value, /)\n",
      " |      Return self|=value.\n",
      " |  \n",
      " |  __iter__(self, /)\n",
      " |      Implement iter(self).\n",
      " |  \n",
      " |  __le__(self, value, /)\n",
      " |      Return self<=value.\n",
      " |  \n",
      " |  __len__(self, /)\n",
      " |      Return len(self).\n",
      " |  \n",
      " |  __lt__(self, value, /)\n",
      " |      Return self<value.\n",
      " |  \n",
      " |  __ne__(self, value, /)\n",
      " |      Return self!=value.\n",
      " |  \n",
      " |  __or__(self, value, /)\n",
      " |      Return self|value.\n",
      " |  \n",
      " |  __repr__(self, /)\n",
      " |      Return repr(self).\n",
      " |  \n",
      " |  __reversed__(self, /)\n",
      " |      Return a reverse iterator over the dict keys.\n",
      " |  \n",
      " |  __ror__(self, value, /)\n",
      " |      Return value|self.\n",
      " |  \n",
      " |  __setitem__(self, key, value, /)\n",
      " |      Set self[key] to value.\n",
      " |  \n",
      " |  __sizeof__(...)\n",
      " |      D.__sizeof__() -> size of D in memory, in bytes\n",
      " |  \n",
      " |  clear(...)\n",
      " |      D.clear() -> None.  Remove all items from D.\n",
      " |  \n",
      " |  copy(...)\n",
      " |      D.copy() -> a shallow copy of D\n",
      " |  \n",
      " |  get(self, key, default=None, /)\n",
      " |      Return the value for key if key is in the dictionary, else default.\n",
      " |  \n",
      " |  items(...)\n",
      " |      D.items() -> a set-like object providing a view on D's items\n",
      " |  \n",
      " |  keys(...)\n",
      " |      D.keys() -> a set-like object providing a view on D's keys\n",
      " |  \n",
      " |  pop(...)\n",
      " |      D.pop(k[,d]) -> v, remove specified key and return the corresponding value.\n",
      " |      \n",
      " |      If the key is not found, return the default if given; otherwise,\n",
      " |      raise a KeyError.\n",
      " |  \n",
      " |  popitem(self, /)\n",
      " |      Remove and return a (key, value) pair as a 2-tuple.\n",
      " |      \n",
      " |      Pairs are returned in LIFO (last-in, first-out) order.\n",
      " |      Raises KeyError if the dict is empty.\n",
      " |  \n",
      " |  setdefault(self, key, default=None, /)\n",
      " |      Insert key with a value of default if key is not in the dictionary.\n",
      " |      \n",
      " |      Return the value for key if key is in the dictionary, else default.\n",
      " |  \n",
      " |  update(...)\n",
      " |      D.update([E, ]**F) -> None.  Update D from dict/iterable E and F.\n",
      " |      If E is present and has a .keys() method, then does:  for k in E: D[k] = E[k]\n",
      " |      If E is present and lacks a .keys() method, then does:  for k, v in E: D[k] = v\n",
      " |      In either case, this is followed by: for k in F:  D[k] = F[k]\n",
      " |  \n",
      " |  values(...)\n",
      " |      D.values() -> an object providing a view on D's values\n",
      " |  \n",
      " |  ----------------------------------------------------------------------\n",
      " |  Class methods defined here:\n",
      " |  \n",
      " |  __class_getitem__(...) from builtins.type\n",
      " |      See PEP 585\n",
      " |  \n",
      " |  fromkeys(iterable, value=None, /) from builtins.type\n",
      " |      Create a new dictionary with keys from iterable and values set to value.\n",
      " |  \n",
      " |  ----------------------------------------------------------------------\n",
      " |  Static methods defined here:\n",
      " |  \n",
      " |  __new__(*args, **kwargs) from builtins.type\n",
      " |      Create and return a new object.  See help(type) for accurate signature.\n",
      " |  \n",
      " |  ----------------------------------------------------------------------\n",
      " |  Data and other attributes defined here:\n",
      " |  \n",
      " |  __hash__ = None\n",
      "\n"
     ]
    }
   ],
   "source": [
    "help(dict)"
   ]
  },
  {
   "cell_type": "code",
   "execution_count": 41,
   "id": "15112f9e",
   "metadata": {},
   "outputs": [
    {
     "name": "stdout",
     "output_type": "stream",
     "text": [
      "Enter a number :6\n",
      "Enter a number :4\n",
      "1.5\n",
      "Congratulations!!\n",
      "See you again!!\n"
     ]
    }
   ],
   "source": [
    "#Testing,Debugging,Exceptions, and Assertions\n",
    "try:\n",
    "    a = int(input(\"Enter a number :\"))\n",
    "    b = int(input(\"Enter a number :\"))\n",
    "    print(a/b)\n",
    "except ValueError:\n",
    "    print(\"Bug in user input\")\n",
    "except ZeroDivisionError:\n",
    "    print(\"Can't divide by zero\")\n",
    "except:\n",
    "    print(\"Something went very wrong.\")\n",
    "else:\n",
    "    print(\"Congratulations!!\")\n",
    "finally:\n",
    "    print(\"See you again!!\")\n",
    "\n"
   ]
  },
  {
   "cell_type": "code",
   "execution_count": null,
   "id": "2ac4284e",
   "metadata": {},
   "outputs": [],
   "source": [
    "#Raising an Exception\n",
    "def get_ratios(L1, L2):\n",
    "    \"\"\"Assumes : L1 and L2 are lists of equal length of numbers\n",
    "       Returns : a list containing L1[i]/L2[i] \"\"\"\n",
    "    ratios = []\n",
    "    for i in range(len(L1)):\n",
    "        try:\n",
    "            ratios.append(L1[i]/L2[i])\n",
    "        except ZeroDivisionError:\n",
    "            ratios.append(float('nan'))  #nan = not a number\n",
    "        except:\n",
    "            raise ValueError('get_ratios called with bad arg')\n",
    "    return ratios        "
   ]
  },
  {
   "cell_type": "code",
   "execution_count": 35,
   "id": "8acf7745",
   "metadata": {},
   "outputs": [
    {
     "name": "stdout",
     "output_type": "stream",
     "text": [
      "warning: no grades data\n",
      "[[['peter', 'parker'], [80.0, 70.0, 85.0], 78.33333333333333], [['bruce', 'wayne'], [100.0, 80.0, 74.0], 84.66666666666667], [['deadpool'], [], 0.0]]\n"
     ]
    }
   ],
   "source": [
    "test_grades = [[['peter','parker'],[80.0,70.0,85.0]],\n",
    "              [['bruce','wayne'],[100.0,80.0,74.0]],[['deadpool'],[]]]\n",
    "#print(test_grades[0].append(75.0))\n",
    "#print(test_grades[0])\n",
    "def New_grade1(test_grades):\n",
    "    s = 0\n",
    "    av = 0\n",
    "    try:\n",
    "        for i in test_grades:\n",
    "            for j in i[1]:       #Finding average using Loop\n",
    "                s+=j\n",
    "            av = s/3   \n",
    "            i.append(av)\n",
    "            return test_grades\n",
    "        \n",
    "    except:        \n",
    "        print(\"There is some error!!\")\n",
    "        \n",
    "#print(New_grade1(test_grades))\n",
    "def New_grade2(test_grades):\n",
    "    stat = []\n",
    "    for i in test_grades:\n",
    "        stat.append([i[0],i[1],avg(i[1])])\n",
    "    return stat\n",
    "def avg(grades):\n",
    "    try:\n",
    "        return sum(grades)/len(grades)\n",
    "    except ZeroDivisionError:\n",
    "        print('warning: no grades data')\n",
    "        return 0.0    #If we dont specify, it will return 'None' by default\n",
    "        \n",
    "print(New_grade2(test_grades))\n",
    "        \n",
    "            \n"
   ]
  },
  {
   "cell_type": "code",
   "execution_count": 26,
   "id": "22930e2c",
   "metadata": {},
   "outputs": [
    {
     "name": "stdout",
     "output_type": "stream",
     "text": [
      "Help on class list in module builtins:\n",
      "\n",
      "class list(object)\n",
      " |  list(iterable=(), /)\n",
      " |  \n",
      " |  Built-in mutable sequence.\n",
      " |  \n",
      " |  If no argument is given, the constructor creates a new empty list.\n",
      " |  The argument must be an iterable if specified.\n",
      " |  \n",
      " |  Methods defined here:\n",
      " |  \n",
      " |  __add__(self, value, /)\n",
      " |      Return self+value.\n",
      " |  \n",
      " |  __contains__(self, key, /)\n",
      " |      Return key in self.\n",
      " |  \n",
      " |  __delitem__(self, key, /)\n",
      " |      Delete self[key].\n",
      " |  \n",
      " |  __eq__(self, value, /)\n",
      " |      Return self==value.\n",
      " |  \n",
      " |  __ge__(self, value, /)\n",
      " |      Return self>=value.\n",
      " |  \n",
      " |  __getattribute__(self, name, /)\n",
      " |      Return getattr(self, name).\n",
      " |  \n",
      " |  __getitem__(...)\n",
      " |      x.__getitem__(y) <==> x[y]\n",
      " |  \n",
      " |  __gt__(self, value, /)\n",
      " |      Return self>value.\n",
      " |  \n",
      " |  __iadd__(self, value, /)\n",
      " |      Implement self+=value.\n",
      " |  \n",
      " |  __imul__(self, value, /)\n",
      " |      Implement self*=value.\n",
      " |  \n",
      " |  __init__(self, /, *args, **kwargs)\n",
      " |      Initialize self.  See help(type(self)) for accurate signature.\n",
      " |  \n",
      " |  __iter__(self, /)\n",
      " |      Implement iter(self).\n",
      " |  \n",
      " |  __le__(self, value, /)\n",
      " |      Return self<=value.\n",
      " |  \n",
      " |  __len__(self, /)\n",
      " |      Return len(self).\n",
      " |  \n",
      " |  __lt__(self, value, /)\n",
      " |      Return self<value.\n",
      " |  \n",
      " |  __mul__(self, value, /)\n",
      " |      Return self*value.\n",
      " |  \n",
      " |  __ne__(self, value, /)\n",
      " |      Return self!=value.\n",
      " |  \n",
      " |  __repr__(self, /)\n",
      " |      Return repr(self).\n",
      " |  \n",
      " |  __reversed__(self, /)\n",
      " |      Return a reverse iterator over the list.\n",
      " |  \n",
      " |  __rmul__(self, value, /)\n",
      " |      Return value*self.\n",
      " |  \n",
      " |  __setitem__(self, key, value, /)\n",
      " |      Set self[key] to value.\n",
      " |  \n",
      " |  __sizeof__(self, /)\n",
      " |      Return the size of the list in memory, in bytes.\n",
      " |  \n",
      " |  append(self, object, /)\n",
      " |      Append object to the end of the list.\n",
      " |  \n",
      " |  clear(self, /)\n",
      " |      Remove all items from list.\n",
      " |  \n",
      " |  copy(self, /)\n",
      " |      Return a shallow copy of the list.\n",
      " |  \n",
      " |  count(self, value, /)\n",
      " |      Return number of occurrences of value.\n",
      " |  \n",
      " |  extend(self, iterable, /)\n",
      " |      Extend list by appending elements from the iterable.\n",
      " |  \n",
      " |  index(self, value, start=0, stop=9223372036854775807, /)\n",
      " |      Return first index of value.\n",
      " |      \n",
      " |      Raises ValueError if the value is not present.\n",
      " |  \n",
      " |  insert(self, index, object, /)\n",
      " |      Insert object before index.\n",
      " |  \n",
      " |  pop(self, index=-1, /)\n",
      " |      Remove and return item at index (default last).\n",
      " |      \n",
      " |      Raises IndexError if list is empty or index is out of range.\n",
      " |  \n",
      " |  remove(self, value, /)\n",
      " |      Remove first occurrence of value.\n",
      " |      \n",
      " |      Raises ValueError if the value is not present.\n",
      " |  \n",
      " |  reverse(self, /)\n",
      " |      Reverse *IN PLACE*.\n",
      " |  \n",
      " |  sort(self, /, *, key=None, reverse=False)\n",
      " |      Sort the list in ascending order and return None.\n",
      " |      \n",
      " |      The sort is in-place (i.e. the list itself is modified) and stable (i.e. the\n",
      " |      order of two equal elements is maintained).\n",
      " |      \n",
      " |      If a key function is given, apply it once to each list item and sort them,\n",
      " |      ascending or descending, according to their function values.\n",
      " |      \n",
      " |      The reverse flag can be set to sort in descending order.\n",
      " |  \n",
      " |  ----------------------------------------------------------------------\n",
      " |  Class methods defined here:\n",
      " |  \n",
      " |  __class_getitem__(...) from builtins.type\n",
      " |      See PEP 585\n",
      " |  \n",
      " |  ----------------------------------------------------------------------\n",
      " |  Static methods defined here:\n",
      " |  \n",
      " |  __new__(*args, **kwargs) from builtins.type\n",
      " |      Create and return a new object.  See help(type) for accurate signature.\n",
      " |  \n",
      " |  ----------------------------------------------------------------------\n",
      " |  Data and other attributes defined here:\n",
      " |  \n",
      " |  __hash__ = None\n",
      "\n"
     ]
    }
   ],
   "source": [
    "help(list)"
   ]
  },
  {
   "cell_type": "code",
   "execution_count": 40,
   "id": "9c053d8c",
   "metadata": {},
   "outputs": [
    {
     "ename": "AssertionError",
     "evalue": "no grades data",
     "output_type": "error",
     "traceback": [
      "\u001b[1;31m---------------------------------------------------------------------------\u001b[0m",
      "\u001b[1;31mAssertionError\u001b[0m                            Traceback (most recent call last)",
      "Cell \u001b[1;32mIn[40], line 12\u001b[0m\n\u001b[0;32m     10\u001b[0m         stat\u001b[38;5;241m.\u001b[39mappend([i[\u001b[38;5;241m0\u001b[39m],i[\u001b[38;5;241m1\u001b[39m],avg(i[\u001b[38;5;241m1\u001b[39m])])\n\u001b[0;32m     11\u001b[0m     \u001b[38;5;28;01mreturn\u001b[39;00m stat\n\u001b[1;32m---> 12\u001b[0m \u001b[38;5;28mprint\u001b[39m(\u001b[43mNew_grade2\u001b[49m\u001b[43m(\u001b[49m\u001b[43mtest_grades\u001b[49m\u001b[43m)\u001b[49m)\n",
      "Cell \u001b[1;32mIn[40], line 10\u001b[0m, in \u001b[0;36mNew_grade2\u001b[1;34m(test_grades)\u001b[0m\n\u001b[0;32m      8\u001b[0m stat \u001b[38;5;241m=\u001b[39m []\n\u001b[0;32m      9\u001b[0m \u001b[38;5;28;01mfor\u001b[39;00m i \u001b[38;5;129;01min\u001b[39;00m test_grades:\n\u001b[1;32m---> 10\u001b[0m     stat\u001b[38;5;241m.\u001b[39mappend([i[\u001b[38;5;241m0\u001b[39m],i[\u001b[38;5;241m1\u001b[39m],\u001b[43mavg\u001b[49m\u001b[43m(\u001b[49m\u001b[43mi\u001b[49m\u001b[43m[\u001b[49m\u001b[38;5;241;43m1\u001b[39;49m\u001b[43m]\u001b[49m\u001b[43m)\u001b[49m])\n\u001b[0;32m     11\u001b[0m \u001b[38;5;28;01mreturn\u001b[39;00m stat\n",
      "Cell \u001b[1;32mIn[40], line 5\u001b[0m, in \u001b[0;36mavg\u001b[1;34m(grades)\u001b[0m\n\u001b[0;32m      4\u001b[0m \u001b[38;5;28;01mdef\u001b[39;00m \u001b[38;5;21mavg\u001b[39m(grades):\n\u001b[1;32m----> 5\u001b[0m     \u001b[38;5;28;01massert\u001b[39;00m \u001b[38;5;129;01mnot\u001b[39;00m \u001b[38;5;28mlen\u001b[39m(grades) \u001b[38;5;241m==\u001b[39m \u001b[38;5;241m0\u001b[39m, \u001b[38;5;124m'\u001b[39m\u001b[38;5;124mno grades data\u001b[39m\u001b[38;5;124m'\u001b[39m\n\u001b[0;32m      6\u001b[0m     \u001b[38;5;28;01mreturn\u001b[39;00m \u001b[38;5;28msum\u001b[39m(grades)\u001b[38;5;241m/\u001b[39m\u001b[38;5;28mlen\u001b[39m(grades)\n",
      "\u001b[1;31mAssertionError\u001b[0m: no grades data"
     ]
    }
   ],
   "source": [
    "#Assertions\n",
    "test_grades = [[['peter','parker'],[80.0,70.0,85.0]],\n",
    "              [['bruce','wayne'],[100.0,80.0,74.0]],[['deadpool'],[]]]\n",
    "def avg(grades):\n",
    "    assert not len(grades) == 0, 'no grades data'\n",
    "    return sum(grades)/len(grades)\n",
    "def New_grade2(test_grades):\n",
    "    stat = []\n",
    "    for i in test_grades:\n",
    "        stat.append([i[0],i[1],avg(i[1])])\n",
    "    return stat\n",
    "print(New_grade2(test_grades))\n",
    "        "
   ]
  },
  {
   "cell_type": "code",
   "execution_count": 17,
   "id": "2c482d35",
   "metadata": {},
   "outputs": [
    {
     "name": "stdout",
     "output_type": "stream",
     "text": [
      "a _ _ l e\n"
     ]
    }
   ],
   "source": [
    "s = 'a _ _ l e'\n",
    "t = s.strip(\" _\")\n",
    "print(t)"
   ]
  },
  {
   "cell_type": "code",
   "execution_count": 33,
   "id": "ac904791",
   "metadata": {},
   "outputs": [
    {
     "name": "stdout",
     "output_type": "stream",
     "text": [
      "Loading word list from file...\n",
      "   55900 words loaded.\n",
      "['t_', '_', 't']\n",
      "4\n",
      "0\n",
      "tact tart taut teat tent test text that tilt tint toot tort tout trot tuft twit\n"
     ]
    }
   ],
   "source": [
    "import string\n",
    "\n",
    "WORDLIST_FILENAME = \"words.txt\"\n",
    "\n",
    "\n",
    "def load_words():\n",
    "    \"\"\"\n",
    "    Returns a list of valid words. Words are strings of lowercase letters.\n",
    "    \n",
    "    Depending on the size of the word list, this function may\n",
    "    take a while to finish.\n",
    "    \"\"\"\n",
    "    print(\"Loading word list from file...\")\n",
    "    # inFile: file\n",
    "    inFile = open(WORDLIST_FILENAME, 'r')\n",
    "    # line: string\n",
    "    line = inFile.readline()\n",
    "    # wordlist: list of strings\n",
    "    wordlist = line.split()\n",
    "    print(\"  \", len(wordlist), \"words loaded.\")\n",
    "    return wordlist\n",
    "word = load_words()\n",
    "s = 't_ _ t'\n",
    "e = s.split(' ')\n",
    "ss=''.join(e)\n",
    "print(e)\n",
    "print(len(ss))\n",
    "colletion = []\n",
    "print(len(colletion))\n",
    "for i in word:\n",
    "    if len(i) == len(ss):\n",
    "        t = []\n",
    "        tt =''\n",
    "        for j in range(len(ss)):\n",
    "            if ss[j] == i[j]:\n",
    "                t.append(ss[j])\n",
    "            else:\n",
    "                t.append('_')\n",
    "            tt = ''.join(t)\n",
    "        if tt == ss:\n",
    "            colletion.append(i)\n",
    "print(' '.join(colletion))            \n",
    "            \n",
    "                \n",
    "                \n",
    "                \n",
    "            \n",
    "\n",
    "    \n",
    "    \n",
    "    "
   ]
  },
  {
   "cell_type": "code",
   "execution_count": 38,
   "id": "23a9deed",
   "metadata": {},
   "outputs": [
    {
     "name": "stdout",
     "output_type": "stream",
     "text": [
      "Loading word list from file...\n",
      "   55900 words loaded.\n",
      "Possible word matches are:\n",
      "tact tart taut teat tent test text that tilt tint toot tort tout trot tuft twit\n"
     ]
    }
   ],
   "source": [
    "import string\n",
    "\n",
    "WORDLIST_FILENAME = \"words.txt\"\n",
    "\n",
    "\n",
    "def load_words():\n",
    "    \"\"\"\n",
    "    Returns a list of valid words. Words are strings of lowercase letters.\n",
    "    \n",
    "    Depending on the size of the word list, this function may\n",
    "    take a while to finish.\n",
    "    \"\"\"\n",
    "    print(\"Loading word list from file...\")\n",
    "    # inFile: file\n",
    "    inFile = open(WORDLIST_FILENAME, 'r')\n",
    "    # line: string\n",
    "    line = inFile.readline()\n",
    "    # wordlist: list of strings\n",
    "    wordlist = line.split()\n",
    "    print(\"  \", len(wordlist), \"words loaded.\")\n",
    "    return wordlist\n",
    "\n",
    "def match_with_gaps(my_word, other_word):\n",
    "    '''\n",
    "    my_word: string with _ characters, current guess of secret word\n",
    "    other_word: string, regular English word\n",
    "    returns: boolean, True if all the actual letters of my_word match the \n",
    "        corresponding letters of other_word, or the letter is the special symbol\n",
    "        _ , and my_word and other_word are of the same length;\n",
    "        False otherwise: \n",
    "    '''\n",
    "    # FILL IN YOUR CODE HERE AND DELETE \"pass\"\n",
    "    t = []\n",
    "    tt = ''\n",
    "    for j in range(len(my_word)):\n",
    "        if my_word[j] == other_word[j]:\n",
    "            t.append(my_word[j])\n",
    "        else:\n",
    "            t.append('_')\n",
    "        tt = ''.join(t)\n",
    "    if tt == my_word:\n",
    "        return True\n",
    "    else:\n",
    "        return False\n",
    "    \n",
    "    \n",
    "\n",
    "\n",
    "\n",
    "def show_possible_matches(my_word):\n",
    "    '''\n",
    "    my_word: string with _ characters, current guess of secret word\n",
    "    returns: nothing, but should print out every word in wordlist that matches my_word\n",
    "             Keep in mind that in hangman when a letter is guessed, all the positions\n",
    "             at which that letter occurs in the secret word are revealed.\n",
    "             Therefore, the hidden letter(_ ) cannot be one of the letters in the word\n",
    "             that has already been revealed.\n",
    "\n",
    "    '''\n",
    "    # FILL IN YOUR CODE HERE AND DELETE \"pass\n",
    "    word = load_words()\n",
    "    s = []\n",
    "    ss = ''\n",
    "    s = my_word.split(' ')\n",
    "    ss = ''.join(s)\n",
    "    collection = []\n",
    "    for i in word:\n",
    "        if len(i) == len(ss):\n",
    "            if match_with_gaps(ss,i):\n",
    "                collection.append(i)\n",
    "    if len(collection) == 0:\n",
    "        print(\"No matches found\")\n",
    "    else:  \n",
    "        print(\"Possible word matches are:\")\n",
    "        print(' '.join(collection))            \n",
    "    \n",
    "my_word = ' t _ _ t'\n",
    "show_possible_matches(my_word)\n",
    "\n",
    "\n"
   ]
  },
  {
   "cell_type": "code",
   "execution_count": 1,
   "id": "11f71a25",
   "metadata": {},
   "outputs": [
    {
     "name": "stdout",
     "output_type": "stream",
     "text": [
      "3\n",
      "0\n"
     ]
    }
   ],
   "source": [
    "#Object Oriented Programming\n",
    "#Ways to interact with a list object : L[i],L[i:j],+,len(),min(),max(),del(L[i]),L.append(),L.extend(),L.count(),L.index(),\n",
    "#L.insert(),L.pop(),L.remove(),L.reverse(),L.sort()\n",
    "#Implementing the class\n",
    "class Coordinate(object):\n",
    "    def __init__(self,x,y):\n",
    "        self.x = x\n",
    "        self.y = y\n",
    "c = Coordinate(3,4)\n",
    "origin = Coordinate(0,0)\n",
    "print(c.x)\n",
    "print(origin.x)\n",
    "\n"
   ]
  },
  {
   "cell_type": "code",
   "execution_count": 2,
   "id": "8c502230",
   "metadata": {},
   "outputs": [
    {
     "name": "stdout",
     "output_type": "stream",
     "text": [
      "5.0\n"
     ]
    }
   ],
   "source": [
    "class Coordinate(object):\n",
    "    def __init__(self,x,y):\n",
    "        self.x = x\n",
    "        self.y = y\n",
    "    def distance(self,other):\n",
    "        x_diff_sq = (self.x - other.x)**2\n",
    "        y_diff_sq = (self.y - other.y)**2\n",
    "        return (x_diff_sq + y_diff_sq)**0.5\n",
    "c = Coordinate(3,4)\n",
    "zero = Coordinate(0,0)\n",
    "print(c.distance(zero))"
   ]
  },
  {
   "cell_type": "code",
   "execution_count": 1,
   "id": "50c25fc4",
   "metadata": {},
   "outputs": [
    {
     "name": "stdout",
     "output_type": "stream",
     "text": [
      "5.0\n"
     ]
    }
   ],
   "source": [
    "class Coordinate(object):\n",
    "    def __init__(self,x,y):\n",
    "        self.x = x\n",
    "        self.y = y\n",
    "    def distance(self,other):\n",
    "        x_diff_sq = (self.x - other.x)**2\n",
    "        y_diff_sq = (self.y - other.y)**2\n",
    "        return (x_diff_sq + y_diff_sq)**0.5\n",
    "c = Coordinate(3,4)\n",
    "zero = Coordinate(0,0)\n",
    "print(Coordinate.distance(c,zero))"
   ]
  },
  {
   "cell_type": "code",
   "execution_count": 2,
   "id": "3bf36ce9",
   "metadata": {},
   "outputs": [
    {
     "name": "stdout",
     "output_type": "stream",
     "text": [
      "<__main__.Coordinate object at 0x00000241E94A59D0>\n"
     ]
    }
   ],
   "source": [
    "#Print representation of an object\n",
    "c = Coordinate(3,4)\n",
    "print(c)"
   ]
  },
  {
   "cell_type": "code",
   "execution_count": 3,
   "id": "702624ba",
   "metadata": {},
   "outputs": [
    {
     "name": "stdout",
     "output_type": "stream",
     "text": [
      "<4,5>\n"
     ]
    }
   ],
   "source": [
    "class Coordinate(object):\n",
    "    def __init__(self,x,y):\n",
    "        self.x = x\n",
    "        self.y = y\n",
    "    def distance(self,other):\n",
    "        x_diff_sq = (self.x - other.x)**2\n",
    "        y_diff_sq = (self.y - other.y)**2\n",
    "        return (x_diff_sq + y_diff_sq)**0.5\n",
    "    def __str__(self):\n",
    "        return \"<\"+str(self.x)+\",\"+str(self.y)+\">\"\n",
    "c = Coordinate(4,5)\n",
    "print(c)\n",
    "    "
   ]
  },
  {
   "cell_type": "code",
   "execution_count": 10,
   "id": "b212731d",
   "metadata": {},
   "outputs": [
    {
     "name": "stdout",
     "output_type": "stream",
     "text": [
      "<3,4>\n",
      "<class '__main__.Coordinate'>\n",
      "<class '__main__.Coordinate'>\n",
      "<class 'type'>\n",
      "True\n",
      "False\n"
     ]
    }
   ],
   "source": [
    "d = 1\n",
    "c = Coordinate(3,4)\n",
    "print(c)\n",
    "print(type(c))\n",
    "print(Coordinate)\n",
    "print(type(Coordinate))\n",
    "print(isinstance(c,Coordinate))\n",
    "print(isinstance(d,Coordinate))"
   ]
  },
  {
   "cell_type": "code",
   "execution_count": 20,
   "id": "6ade7489",
   "metadata": {},
   "outputs": [
    {
     "name": "stdout",
     "output_type": "stream",
     "text": [
      "<10,10>\n"
     ]
    }
   ],
   "source": [
    "class Coordinate(object):\n",
    "    def __init__(self,x,y):\n",
    "        self.x = x\n",
    "        self.y = y\n",
    "    def distance(self,other):\n",
    "        x_diff_sq = (self.x - other.x)**2\n",
    "        y_diff_sq = (self.y - other.y)**2\n",
    "        return (x_diff_sq + y_diff_sq)**0.5\n",
    "    def __str__(self):\n",
    "        return \"<\"+str(self.x)+\",\"+str(self.y)+\">\"\n",
    "    def __add__(self,other):\n",
    "        sum_x = self.x + other.x\n",
    "        sum_y = self.y + other.y\n",
    "        return \"<\"+str(sum_x)+\",\"+str(sum_y)+\">\"\n",
    "c = Coordinate(4,5)\n",
    "d = Coordinate(6,5)\n",
    "print(c+d)"
   ]
  },
  {
   "cell_type": "code",
   "execution_count": 19,
   "id": "afd306ee",
   "metadata": {},
   "outputs": [
    {
     "name": "stdout",
     "output_type": "stream",
     "text": [
      "<10,11>\n"
     ]
    }
   ],
   "source": [
    "class Coordinate(object):\n",
    "    def __init__(self,x,y):\n",
    "        self.x = x\n",
    "        self.y = y\n",
    "    def distance(self,other):\n",
    "        x_diff_sq = (self.x - other.x)**2\n",
    "        y_diff_sq = (self.y - other.y)**2\n",
    "        return (x_diff_sq + y_diff_sq)**0.5\n",
    "    def __str__(self):\n",
    "        return \"<\"+str(self.x)+\",\"+str(self.y)+\">\"\n",
    "    def __add__(self,other):\n",
    "        sum_x = self.x + other.x\n",
    "        sum_y = self.y + other.y\n",
    "        e = Coordinate(sum_x,sum_y)\n",
    "        return e \n",
    "c = Coordinate(4,6)\n",
    "d = Coordinate(6,5)\n",
    "print(c+d)"
   ]
  },
  {
   "cell_type": "code",
   "execution_count": 17,
   "id": "0c9c8ea9",
   "metadata": {},
   "outputs": [
    {
     "name": "stdout",
     "output_type": "stream",
     "text": [
      "<class 'str'>\n"
     ]
    }
   ],
   "source": [
    "class Coordinate(object):\n",
    "    def __init__(self,x,y):\n",
    "        self.x = x\n",
    "        self.y = y\n",
    "    def distance(self,other):\n",
    "        x_diff_sq = (self.x - other.x)**2\n",
    "        y_diff_sq = (self.y - other.y)**2\n",
    "        return (x_diff_sq + y_diff_sq)**0.5\n",
    "    def __str__(self):\n",
    "        return \"<\"+str(self.x)+\",\"+str(self.y)+\">\"\n",
    "    def __add__(self,other):\n",
    "        sum_x = self.x + other.x\n",
    "        sum_y = self.y + other.y\n",
    "        return \"<\"+str(sum_x)+\",\"+str(sum_y)+\">\"\n",
    "c = Coordinate(4,5)\n",
    "d = Coordinate(6,5)\n",
    "print(type(c+d))"
   ]
  },
  {
   "cell_type": "code",
   "execution_count": 18,
   "id": "2cc43950",
   "metadata": {},
   "outputs": [
    {
     "name": "stdout",
     "output_type": "stream",
     "text": [
      "<class '__main__.Coordinate'>\n"
     ]
    }
   ],
   "source": [
    "class Coordinate(object):\n",
    "    def __init__(self,x,y):\n",
    "        self.x = x\n",
    "        self.y = y\n",
    "    def distance(self,other):\n",
    "        x_diff_sq = (self.x - other.x)**2\n",
    "        y_diff_sq = (self.y - other.y)**2\n",
    "        return (x_diff_sq + y_diff_sq)**0.5\n",
    "    def __str__(self):\n",
    "        return \"<\"+str(self.x)+\",\"+str(self.y)+\">\"\n",
    "    def __add__(self,other):\n",
    "        sum_x = self.x + other.x\n",
    "        sum_y = self.y + other.y\n",
    "        e = Coordinate(sum_x,sum_y)\n",
    "        return e \n",
    "c = Coordinate(4,6)\n",
    "d = Coordinate(6,5)\n",
    "print(type(c+d))"
   ]
  },
  {
   "cell_type": "code",
   "execution_count": 19,
   "id": "fa4e47c6",
   "metadata": {},
   "outputs": [
    {
     "name": "stdout",
     "output_type": "stream",
     "text": [
      "3/4\n",
      "0.75\n",
      "32/16\n",
      "32/16\n",
      "2.0\n",
      "2.0\n",
      "2.0\n"
     ]
    }
   ],
   "source": [
    "class Fraction(object):\n",
    "    \"\"\" A number represented as a fraction\n",
    "    \"\"\"\n",
    "    def __init__(self,num,denum):\n",
    "        \"\"\"num and denum are integers \"\"\"\n",
    "        assert type(num) == int and type(denum) == int\n",
    "        self.num = num\n",
    "        self.denum = denum\n",
    "    def __str__(self):\n",
    "        \"\"\"Returns a string representation of self\"\"\"\n",
    "        return str(self.num)+\"/\"+str(self.denum)\n",
    "    def __add__(self,other):\n",
    "        \"\"\"Returns a new fraction representing the addition\"\"\"\n",
    "        a = (self.num * other.denum) + (self.denum * other.num)\n",
    "        b = self.denum * other.denum\n",
    "        return Fraction(a,b)\n",
    "    def __sub__(self,other):\n",
    "        \"\"\"Returns a new fraction representing the substraction\"\"\"\n",
    "        a = self.num*other.denum - self.denum*other.num\n",
    "        b = self.denum*other.denum\n",
    "        return Fraction(a,b)\n",
    "    def __float__(self):\n",
    "        \"\"\"Returns a float value of the fraction\"\"\"\n",
    "        return self.num/self.denum\n",
    "    def inverse(self):\n",
    "        \"\"\"Returns a new fraction representing inverse value\"\"\"\n",
    "        return Fraction(self.denum,self.num)\n",
    "        \n",
    "c = Fraction(5,4)\n",
    "c.__init__(3,4)\n",
    "print(c)\n",
    "print(c.__float__())\n",
    "d = Fraction(5,4)\n",
    "print(c+d)\n",
    "print(c.__add__(d))\n",
    "print((c+d).__float__())\n",
    "print((c.__add__(d)).__float__())\n",
    "print(Fraction.__float__(c+d))\n",
    "##c = Fraction(3.14,2.8)   # assertion error\n",
    "## print(c*d) # Error as multiplication of objects is not defined\n",
    "    \n",
    "        "
   ]
  },
  {
   "cell_type": "code",
   "execution_count": 29,
   "id": "018e85f7",
   "metadata": {},
   "outputs": [
    {
     "name": "stdout",
     "output_type": "stream",
     "text": [
      "14\n",
      "4\n",
      "6\n",
      "4\n",
      "6\n"
     ]
    }
   ],
   "source": [
    "class Coordinate(object):\n",
    "    def __init__(self,x,y):\n",
    "        self.a = x\n",
    "        self.b = y\n",
    "        x = x +10\n",
    "        print(x)\n",
    "        print(self.a)\n",
    "        print(self.b)\n",
    "    def distance(self,other):\n",
    "        x_diff_sq = (self.x - other.x)**2\n",
    "        y_diff_sq = (self.y - other.y)**2\n",
    "        return (x_diff_sq + y_diff_sq)**0.5\n",
    "    def __str__(self):\n",
    "        return \"<\"+str(self.x)+\",\"+str(self.y)+\">\"\n",
    "    def __add__(self,other):\n",
    "        sum_x = self.x + other.x\n",
    "        sum_y = self.y + other.y\n",
    "        e = Coordinate(sum_x,sum_y)\n",
    "        return e \n",
    "c = Coordinate(4,6)\n",
    "print(c.a)\n",
    "print(c.b)\n"
   ]
  },
  {
   "cell_type": "code",
   "execution_count": 40,
   "id": "e17bd644",
   "metadata": {},
   "outputs": [
    {
     "ename": "NameError",
     "evalue": "name 'm' is not defined",
     "output_type": "error",
     "traceback": [
      "\u001b[1;31m---------------------------------------------------------------------------\u001b[0m",
      "\u001b[1;31mNameError\u001b[0m                                 Traceback (most recent call last)",
      "Cell \u001b[1;32mIn[40], line 6\u001b[0m\n\u001b[0;32m      4\u001b[0m         \u001b[38;5;28mself\u001b[39m\u001b[38;5;241m.\u001b[39mb \u001b[38;5;241m=\u001b[39m y\n\u001b[0;32m      5\u001b[0m         \u001b[38;5;28;01mreturn\u001b[39;00m \u001b[38;5;28mself\u001b[39m\n\u001b[1;32m----> 6\u001b[0m Coordinate\u001b[38;5;241m.\u001b[39minitial(\u001b[43mm\u001b[49m,\u001b[38;5;241m100\u001b[39m,\u001b[38;5;241m4\u001b[39m)  \n\u001b[0;32m      7\u001b[0m \u001b[38;5;28mprint\u001b[39m(m\u001b[38;5;241m.\u001b[39ma)\n\u001b[0;32m      8\u001b[0m \u001b[38;5;28mprint\u001b[39m(\u001b[38;5;28mtype\u001b[39m(m))\n",
      "\u001b[1;31mNameError\u001b[0m: name 'm' is not defined"
     ]
    }
   ],
   "source": [
    "class Coordinate(object):\n",
    "    def initial(self,x,y):\n",
    "        self.a = x\n",
    "        self.b = y\n",
    "        return self\n",
    "Coordinate.initial(m,100,4)  \n",
    "print(m.a)\n",
    "print(type(m))\n"
   ]
  },
  {
   "cell_type": "code",
   "execution_count": null,
   "id": "2b06479e",
   "metadata": {},
   "outputs": [],
   "source": [
    "class Animal(object):\n",
    "    def __init__(self,age):\n",
    "        self.age = age\n",
    "        self.name = None\n",
    "    def get_age(self):\n",
    "        return self.age\n",
    "    def get_name(self):\n",
    "        return self.name\n",
    "    def set_age(self,newage):\n",
    "        self.age = newage\n",
    "    def set_name(self, newname = \"\"):\n",
    "        self.name = newname\n",
    "    def __str__(self):\n",
    "        return \"Animal:\"+str(self.name)+\":\"+str(self.age)"
   ]
  },
  {
   "cell_type": "code",
   "execution_count": 4,
   "id": "6b58d793",
   "metadata": {},
   "outputs": [
    {
     "ename": "NameError",
     "evalue": "name 'm' is not defined",
     "output_type": "error",
     "traceback": [
      "\u001b[1;31m---------------------------------------------------------------------------\u001b[0m",
      "\u001b[1;31mNameError\u001b[0m                                 Traceback (most recent call last)",
      "Cell \u001b[1;32mIn[4], line 1\u001b[0m\n\u001b[1;32m----> 1\u001b[0m \u001b[43mm\u001b[49m\u001b[38;5;241m.\u001b[39mage \u001b[38;5;241m=\u001b[39m\u001b[38;5;241m2\u001b[39m\n\u001b[0;32m      2\u001b[0m \u001b[38;5;28mprint\u001b[39m(m\u001b[38;5;241m.\u001b[39mage)\n",
      "\u001b[1;31mNameError\u001b[0m: name 'm' is not defined"
     ]
    }
   ],
   "source": [
    "m.age =2\n",
    "print(m.age)"
   ]
  },
  {
   "cell_type": "code",
   "execution_count": 14,
   "id": "385cd0e3",
   "metadata": {},
   "outputs": [
    {
     "name": "stdout",
     "output_type": "stream",
     "text": [
      "None\n",
      "[1, 2, 3, 4, 9]\n",
      "[1, 2, 3, 4, 9]\n"
     ]
    }
   ],
   "source": [
    "def lis(d):\n",
    "    print(d.append(9))\n",
    "    return d\n",
    "e = [1,2,3,4]\n",
    "print(lis(e))\n",
    "print(e)"
   ]
  },
  {
   "cell_type": "code",
   "execution_count": 15,
   "id": "2cb1c727",
   "metadata": {},
   "outputs": [
    {
     "name": "stdout",
     "output_type": "stream",
     "text": [
      "[1, 2, 3, 1, 2, 3]\n",
      "[1, 2, 3, 1, 2, 3]\n"
     ]
    }
   ],
   "source": [
    "a = [1,2,3]\n",
    "b = a\n",
    "b += [1,2,3]\n",
    "print(a)\n",
    "print(b)"
   ]
  },
  {
   "cell_type": "code",
   "execution_count": 17,
   "id": "89c180be",
   "metadata": {},
   "outputs": [
    {
     "name": "stdout",
     "output_type": "stream",
     "text": [
      "[1, 2, 3]\n",
      "[1, 2, 3, 1, 2, 3]\n"
     ]
    }
   ],
   "source": [
    "a = [1,2,3]\n",
    "b = a\n",
    "b = b + [1,2,3]\n",
    "print(a)\n",
    "print(b)"
   ]
  },
  {
   "cell_type": "code",
   "execution_count": 18,
   "id": "39e65b09",
   "metadata": {},
   "outputs": [
    {
     "name": "stdout",
     "output_type": "stream",
     "text": [
      "(1, 2, 3)\n",
      "(1, 2, 3, 1, 2, 3)\n"
     ]
    }
   ],
   "source": [
    "a = (1,2,3)\n",
    "b = a\n",
    "b += (1,2,3)\n",
    "print(a)\n",
    "print(b)"
   ]
  },
  {
   "cell_type": "code",
   "execution_count": 22,
   "id": "2b0531ee",
   "metadata": {},
   "outputs": [
    {
     "name": "stdout",
     "output_type": "stream",
     "text": [
      "None\n",
      "Chuckky\n",
      "Chuckky\n"
     ]
    }
   ],
   "source": [
    "class Animal(object):\n",
    "    def __init__(self,age):\n",
    "        self.age = age\n",
    "        self.name = None\n",
    "    def get_age(self):\n",
    "        return self.age\n",
    "    def get_name(self):\n",
    "        return self.name\n",
    "    def set_age(self,newage):\n",
    "        self.age = newage\n",
    "    def set_name(self, newname = \"\"):\n",
    "        self.name = newname\n",
    "    def __str__(self):\n",
    "        return \"Animal:\"+str(self.name)+\":\"+str(self.age)\n",
    "class Cat(Animal):\n",
    "    def speak(self):\n",
    "        print(\"Meow\")\n",
    "    def __str__(self):\n",
    "        return \"Cat:\"+str(self.name)+\":\"+str(self.age)\n",
    "cc =Cat(5)\n",
    "print(cc.name)\n",
    "cc.set_name(\"Chuckky\")\n",
    "print(cc.get_name())\n",
    "print(cc.name)"
   ]
  },
  {
   "cell_type": "code",
   "execution_count": 23,
   "id": "c81a4989",
   "metadata": {},
   "outputs": [
    {
     "name": "stdout",
     "output_type": "stream",
     "text": [
      "Jack\n",
      "30\n",
      "Jill\n",
      "25\n",
      "person :Jack:30\n",
      "Hello\n",
      "5 year difference\n"
     ]
    }
   ],
   "source": [
    "class Animal(object):\n",
    "    def __init__(self,age):\n",
    "        self.age = age\n",
    "        self.name = None\n",
    "    def get_age(self):\n",
    "        return self.age\n",
    "    def get_name(self):\n",
    "        return self.name\n",
    "    def set_age(self,newage):\n",
    "        self.age = newage\n",
    "    def set_name(self, newname = \"\"):\n",
    "        self.name = newname\n",
    "    def __str__(self):\n",
    "        return \"Animal:\"+str(self.name)+\":\"+str(self.age)\n",
    "class Person(Animal):\n",
    "    def __init__(self,name,age):\n",
    "        Animal.__init__(self,age)\n",
    "        self.set_name(name)\n",
    "        self.friends = []\n",
    "    def get_friends(self):\n",
    "        return self.friends\n",
    "    def add_friend(self, fname):\n",
    "        if fname not in self.friends:\n",
    "            self.friends.append(fname)\n",
    "    def speak(self):\n",
    "        print(\"Hello\")\n",
    "    def age_diff(self,other):\n",
    "        diff = self.age - other.age\n",
    "        print(abs(diff),\"year difference\")\n",
    "    def __str__(self):\n",
    "        return \"person :\"+str(self.name)+\":\"+str(self.age)\n",
    "P1 = Person(\"Jack\",30)\n",
    "P2 = Person(\"Jill\",25)\n",
    "print(P1.get_name())\n",
    "print(P1.get_age())\n",
    "print(P2.get_name())\n",
    "print(P2.get_age())\n",
    "print(P1)\n",
    "P1.speak()\n",
    "P1.age_diff(P2)\n",
    "\n",
    "    "
   ]
  },
  {
   "cell_type": "code",
   "execution_count": 32,
   "id": "07c5142d",
   "metadata": {},
   "outputs": [
    {
     "name": "stdout",
     "output_type": "stream",
     "text": [
      "student :Alice:20:CS\n",
      "student :Beth:18:None\n",
      "Alice says\n",
      "I should eat\n",
      "Beth says\n",
      "I have homework\n"
     ]
    }
   ],
   "source": [
    "import random\n",
    "class Animal(object):\n",
    "    def __init__(self,age):\n",
    "        self.age = age\n",
    "        self.name = None\n",
    "    def get_age(self):\n",
    "        return self.age\n",
    "    def get_name(self):\n",
    "        return self.name\n",
    "    def set_age(self,newage):\n",
    "        self.age = newage\n",
    "    def set_name(self, newname = \"\"):\n",
    "        self.name = newname\n",
    "    def __str__(self):\n",
    "        return \"Animal:\"+str(self.name)+\":\"+str(self.age)\n",
    "class Person(Animal):\n",
    "    def __init__(self,name,age):\n",
    "        Animal.__init__(self,age)\n",
    "        self.set_name(name)\n",
    "        self.friends = []\n",
    "    def get_friends(self):\n",
    "        return self.friends\n",
    "    def add_friend(self, fname):\n",
    "        if fname not in self.friends:\n",
    "            self.friends.append(fname)\n",
    "    def speak(self):\n",
    "        print(\"Hello\")\n",
    "    def age_diff(self,other):\n",
    "        diff = self.age - other.age\n",
    "        print(abs(diff),\"year difference\")\n",
    "    def __str__(self):\n",
    "        return \"person :\"+str(self.name)+\":\"+str(self.age)\n",
    "class Student(Person):\n",
    "    def __init__(self,name,age, major = None):\n",
    "        Person.__init__(self,name,age)\n",
    "        self.major = major\n",
    "    def change_major(self,major):\n",
    "        self.major = major\n",
    "    def speak(self):\n",
    "        r = random.random()\n",
    "        if r < 0.25:\n",
    "            print(\"I have homework\")\n",
    "        elif 0.25 <= r < 0.50:\n",
    "            print(\"I need sleep\")\n",
    "        elif 0.5 <= r < 0.75:\n",
    "            print(\"I should eat\")\n",
    "        else:\n",
    "            print(\"I am watching TV\")\n",
    "    def __str__(self):\n",
    "        return \"student :\"+str(self.name)+\":\"+str(self.age)+\":\"+str(self.major)\n",
    "s1 = Student(\"Alice\",20,'CS')\n",
    "s2 = Student(\"Beth\",18)\n",
    "print(s1)\n",
    "print(s2)\n",
    "print(s1.get_name(),\"says\")\n",
    "s1.speak()\n",
    "print(s2.get_name(),\"says\")\n",
    "s2.speak()\n",
    "    \n",
    "    \n",
    "    "
   ]
  },
  {
   "cell_type": "code",
   "execution_count": 1,
   "id": "f6058565",
   "metadata": {},
   "outputs": [
    {
     "name": "stdout",
     "output_type": "stream",
     "text": [
      "r1 rabbit :001\n",
      "r2 rabbit :002\n",
      "r3 rabbit :003\n",
      "r1 parent1 None\n",
      "r1 parent2 None\n",
      "-----testing rabbit addition-----\n",
      "r1: rabbit :001\n",
      "r2: rabbit :002\n",
      "r4: rabbit :004\n",
      "r4 parent1: rabbit :001\n",
      "r4 parent2 rabbit :002\n",
      "-----testing rabbit equality-----\n",
      "r3: rabbit :003\n",
      "r4: rabbit :004\n",
      "r5: rabbit :005\n",
      "r6: rabbit :006\n",
      "r5 parent1 : rabbit :003\n",
      "r5 parent2 : rabbit :004\n",
      "r6 parent1 : rabbit :004\n",
      "r6 parent2 : rabbit :003\n",
      "r5 and r6 have same parents? True\n",
      "r4 and r6 have same parents? False\n"
     ]
    }
   ],
   "source": [
    "class Animal(object):\n",
    "    def __init__(self,age):\n",
    "        self.age = age\n",
    "        self.name = None\n",
    "    def get_age(self):\n",
    "        return self.age\n",
    "    def get_name(self):\n",
    "        return self.name\n",
    "    def set_age(self,newage):\n",
    "        self.age = newage\n",
    "    def set_name(self, newname = \"\"):\n",
    "        self.name = newname\n",
    "    def __str__(self):\n",
    "        return \"Animal:\"+str(self.name)+\":\"+str(self.age)\n",
    "class Rabbit(Animal):\n",
    "    tag = 1\n",
    "    def __init__(self,age,parent1 = None, parent2 = None):\n",
    "        Animal.__init__(self,age)\n",
    "        self.parent1 = parent1\n",
    "        self.parent2 = parent2\n",
    "        self.rid = Rabbit.tag\n",
    "        Rabbit.tag+=1\n",
    "    def get_rid(self):\n",
    "        return str(self.rid).zfill(3)\n",
    "    def get_parent1(self):\n",
    "        return self.parent1\n",
    "    def get_parent2(self):\n",
    "        return self.parent2\n",
    "    def __add__(self, other):\n",
    "        return Rabbit(0, self, other)\n",
    "    def __eq__(self, other):\n",
    "        parents_same = self.parent1.rid == other.parent1.rid \\\n",
    "        and self.parent2.rid == other.parent2.rid\n",
    "        parents_opposite = self.parent2.rid == other.parent1.rid \\\n",
    "        and self.parent1.rid == other.parent2.rid\n",
    "        return parents_same or parents_opposite\n",
    "    def __str__(self):\n",
    "        return \"rabbit :\" + self.get_rid()\n",
    "r1 = Rabbit(3)\n",
    "r2 = Rabbit(4)\n",
    "r3 = Rabbit(5)\n",
    "print(\"r1\",r1)\n",
    "print(\"r2\",r2)\n",
    "print(\"r3\",r3)\n",
    "print(\"r1 parent1\", r1.get_parent1())\n",
    "print(\"r1 parent2\", r1.get_parent2())\n",
    "print(\"-----testing rabbit addition-----\")\n",
    "r4 = r1 + r2 #r1.__add__(r2)\n",
    "print(\"r1:\", r1)\n",
    "print(\"r2:\", r2)\n",
    "print(\"r4:\", r4)\n",
    "print(\"r4 parent1:\", r4.get_parent1())\n",
    "print(\"r4 parent2\", r4.get_parent2())\n",
    "print(\"-----testing rabbit equality-----\")\n",
    "r5 = r3 + r4\n",
    "r6 = r4 + r3\n",
    "print(\"r3:\",r3)\n",
    "print(\"r4:\",r4)\n",
    "print(\"r5:\",r5)\n",
    "print(\"r6:\",r6)\n",
    "print(\"r5 parent1 :\", r5.get_parent1())\n",
    "print(\"r5 parent2 :\", r5.get_parent2())\n",
    "print(\"r6 parent1 :\", r6.get_parent1())\n",
    "print(\"r6 parent2 :\",r6.get_parent2())\n",
    "print(\"r5 and r6 have same parents?\",r5.__eq__(r6))\n",
    "print(\"r4 and r6 have same parents?\",r4.__eq__(r6))\n",
    "\n",
    "    \n",
    "    "
   ]
  },
  {
   "cell_type": "code",
   "execution_count": 12,
   "id": "03301392",
   "metadata": {},
   "outputs": [
    {
     "name": "stdout",
     "output_type": "stream",
     "text": [
      "     *\n",
      "    **\n",
      "   ***\n",
      "  ****\n",
      " *****\n",
      "******\n",
      " *****\n",
      "  ****\n",
      "   ***\n",
      "    **\n",
      "     *\n",
      "      \n"
     ]
    }
   ],
   "source": [
    "s='     *'\n",
    "while len(s) <=6:\n",
    "    print(s)\n",
    "    s=s+'*'\n",
    "    if s == '*******':\n",
    "        break\n",
    "    s=s[1:]\n",
    "s=s[1:]    \n",
    "while len(s)<=6:\n",
    "    s=' '+s\n",
    "    s=s[:-1]\n",
    "    print(s)\n",
    "    if s == '      ':\n",
    "        break"
   ]
  },
  {
   "cell_type": "code",
   "execution_count": 16,
   "id": "a5918442",
   "metadata": {},
   "outputs": [
    {
     "name": "stdout",
     "output_type": "stream",
     "text": [
      "    *\n",
      "   **\n",
      "  ***\n",
      " ****\n",
      "*****\n",
      " ****\n",
      "  ***\n",
      "   **\n",
      "    *\n"
     ]
    }
   ],
   "source": [
    "s='     '\n",
    "while s!='*****':\n",
    "    s=s+'*'\n",
    "    s=s[1:]\n",
    "    print(s)   \n",
    "while s!='    *':\n",
    "    s=' '+s\n",
    "    s=s[:-1]\n",
    "    print(s)\n"
   ]
  },
  {
   "cell_type": "code",
   "execution_count": 1,
   "id": "c040ae77",
   "metadata": {},
   "outputs": [
    {
     "name": "stdout",
     "output_type": "stream",
     "text": [
      "  *  \n"
     ]
    }
   ],
   "source": [
    "ss ='  *  '\n",
    "i=2\n",
    "print(ss)\n",
    "ss =ss[i:-i]\n",
    "ss=' *'+ss+'* '"
   ]
  },
  {
   "cell_type": "markdown",
   "id": "21fe79ad",
   "metadata": {},
   "source": [
    "### `Break` and `continue` statements\n",
    "You can use the `break` statement within the body of the loop to immediately stop the execution and break out of the loop.\n",
    "Sometimes you may not want to end the loop entirely, but simply skip the remaining statements in the loop and continue to the next loop. You can do this using the `continue` statement."
   ]
  },
  {
   "cell_type": "code",
   "execution_count": null,
   "id": "fee530b3",
   "metadata": {},
   "outputs": [],
   "source": []
  }
 ],
 "metadata": {
  "kernelspec": {
   "display_name": "Python 3 (ipykernel)",
   "language": "python",
   "name": "python3"
  },
  "language_info": {
   "codemirror_mode": {
    "name": "ipython",
    "version": 3
   },
   "file_extension": ".py",
   "mimetype": "text/x-python",
   "name": "python",
   "nbconvert_exporter": "python",
   "pygments_lexer": "ipython3",
   "version": "3.11.2"
  }
 },
 "nbformat": 4,
 "nbformat_minor": 5
}
