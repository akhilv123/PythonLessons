{
 "cells": [
  {
   "cell_type": "code",
   "execution_count": 3,
   "id": "55bab5b3",
   "metadata": {},
   "outputs": [
    {
     "name": "stdout",
     "output_type": "stream",
     "text": [
      "hello there ana ana ana\n"
     ]
    }
   ],
   "source": [
    "hi = \"hello there\"\n",
    "name = \"ana\"\n",
    "greet = hi + (\" \" + name)*3\n",
    "print(greet)"
   ]
  },
  {
   "cell_type": "code",
   "execution_count": 5,
   "id": "9b9c5ced",
   "metadata": {},
   "outputs": [
    {
     "name": "stdout",
     "output_type": "stream",
     "text": [
      "1\n",
      "my fav num is 1 . x = 1\n",
      "my fav num is1.x =1\n",
      "my fav num is 1.x=1\n"
     ]
    }
   ],
   "source": [
    "x = 1\n",
    "print(x)\n",
    "x_str = str(x)\n",
    "print(\"my fav num is\",x,\".\",\"x =\",x)\n",
    "print(\"my fav num is\" + x_str + \".\" + \"x =\" + x_str)\n",
    "print(\"my fav num is\",x_str + \".\" + \"x=\" + x_str)"
   ]
  },
  {
   "cell_type": "code",
   "execution_count": 7,
   "id": "7eff4e7a",
   "metadata": {},
   "outputs": [
    {
     "name": "stdout",
     "output_type": "stream",
     "text": [
      "Type anything...Hello\n",
      "HelloHelloHelloHelloHello\n"
     ]
    }
   ],
   "source": [
    "text = input(\"Type anything...\")\n",
    "print(5*text)"
   ]
  },
  {
   "cell_type": "code",
   "execution_count": 10,
   "id": "4ac450cf",
   "metadata": {},
   "outputs": [
    {
     "name": "stdout",
     "output_type": "stream",
     "text": [
      "Type anything...6\n",
      "30\n"
     ]
    }
   ],
   "source": [
    "num = int(input(\"Type anything...\"))\n",
    "print(5*num)"
   ]
  },
  {
   "cell_type": "code",
   "execution_count": 14,
   "id": "94c6e422",
   "metadata": {},
   "outputs": [
    {
     "data": {
      "text/plain": [
       "True"
      ]
     },
     "execution_count": 14,
     "metadata": {},
     "output_type": "execute_result"
    }
   ],
   "source": [
    "\"b\" > \"a\""
   ]
  },
  {
   "cell_type": "code",
   "execution_count": 18,
   "id": "d6199959",
   "metadata": {},
   "outputs": [
    {
     "name": "stdout",
     "output_type": "stream",
     "text": [
      "Enter a number for x 4\n",
      "Enter a number for y 4\n",
      "x and y are equal\n",
      "Therefore, x/y is 1.0\n",
      "Thanks!\n"
     ]
    }
   ],
   "source": [
    "x = float(input(\"Enter a number for x \"))\n",
    "y = float(input(\"Enter a number for y \"))\n",
    "if x == y:\n",
    "    print(\"x and y are equal\")\n",
    "    if y != 0:\n",
    "        print(\"Therefore, x/y is\",x/y)\n",
    "elif x < y:\n",
    "    print(\"x is smaller\")\n",
    "else:\n",
    "    print(\"y is smaller\")\n",
    "print(\"Thanks!\")    "
   ]
  },
  {
   "cell_type": "code",
   "execution_count": 19,
   "id": "579f502a",
   "metadata": {},
   "outputs": [
    {
     "name": "stdout",
     "output_type": "stream",
     "text": [
      "0\n",
      "1\n",
      "2\n",
      "3\n",
      "4\n"
     ]
    }
   ],
   "source": [
    "n = 0\n",
    "while n < 5:\n",
    "    print(n)\n",
    "    n = n + 1"
   ]
  },
  {
   "cell_type": "code",
   "execution_count": 20,
   "id": "d2245a00",
   "metadata": {},
   "outputs": [
    {
     "name": "stdout",
     "output_type": "stream",
     "text": [
      "0\n",
      "1\n",
      "2\n",
      "3\n",
      "4\n"
     ]
    }
   ],
   "source": [
    "for n in range(5):\n",
    "    print(n)"
   ]
  },
  {
   "cell_type": "code",
   "execution_count": 24,
   "id": "7cc15bf0",
   "metadata": {},
   "outputs": [
    {
     "name": "stdout",
     "output_type": "stream",
     "text": [
      "8\n",
      "[1, 2, 3, 4]\n",
      "8\n"
     ]
    }
   ],
   "source": [
    "def liss(l):\n",
    "    t = 8\n",
    "    print(t)\n",
    "    return (l,t)\n",
    "k = [1,2,3,4]\n",
    "u =liss(k)\n",
    "print(u[0])\n",
    "t = u[1]\n",
    "print(t)\n"
   ]
  },
  {
   "cell_type": "code",
   "execution_count": 26,
   "id": "8818d393",
   "metadata": {},
   "outputs": [
    {
     "name": "stdout",
     "output_type": "stream",
     "text": [
      "15\n",
      "10\n"
     ]
    }
   ],
   "source": [
    "def grt(j):\n",
    "    j=j+5\n",
    "    return j\n",
    "x =10\n",
    "print(grt(x))\n",
    "print(x)"
   ]
  },
  {
   "cell_type": "code",
   "execution_count": 27,
   "id": "52675f8b",
   "metadata": {},
   "outputs": [
    {
     "name": "stdout",
     "output_type": "stream",
     "text": [
      "None\n",
      "[1, 2, 3, 4, 9]\n",
      "[1, 2, 3, 4, 9]\n"
     ]
    }
   ],
   "source": [
    "def lis(d):\n",
    "    print(d.append(9))\n",
    "    return d\n",
    "e = [1,2,3,4]\n",
    "print(lis(e))\n",
    "print(e)"
   ]
  },
  {
   "cell_type": "code",
   "execution_count": 28,
   "id": "a6eb4a44",
   "metadata": {},
   "outputs": [
    {
     "name": "stdout",
     "output_type": "stream",
     "text": [
      "None\n",
      "[1, 2, 3, 4, 9]\n",
      "[1, 2, 3, 4, 9]\n"
     ]
    }
   ],
   "source": [
    "def lis(d = []):\n",
    "    print(d.append(9))\n",
    "    return d\n",
    "e = [1,2,3,4]\n",
    "print(lis(e))\n",
    "print(e)"
   ]
  },
  {
   "cell_type": "code",
   "execution_count": 29,
   "id": "a3b1cd61",
   "metadata": {},
   "outputs": [
    {
     "ename": "NameError",
     "evalue": "name 'nam' is not defined",
     "output_type": "error",
     "traceback": [
      "\u001b[1;31m---------------------------------------------------------------------------\u001b[0m",
      "\u001b[1;31mNameError\u001b[0m                                 Traceback (most recent call last)",
      "Cell \u001b[1;32mIn[29], line 2\u001b[0m\n\u001b[0;32m      1\u001b[0m name \u001b[38;5;241m=\u001b[39m \u001b[38;5;124m\"\u001b[39m\u001b[38;5;124mAkhil\u001b[39m\u001b[38;5;124m\"\u001b[39m\n\u001b[1;32m----> 2\u001b[0m \u001b[43mnam\u001b[49m(name)\n\u001b[0;32m      3\u001b[0m \u001b[38;5;28;01mdef\u001b[39;00m \u001b[38;5;21mnam\u001b[39m(n):\n\u001b[0;32m      4\u001b[0m     \u001b[38;5;28mprint\u001b[39m(n)\n",
      "\u001b[1;31mNameError\u001b[0m: name 'nam' is not defined"
     ]
    }
   ],
   "source": [
    "name = \"Akhil\"\n",
    "nam(name)\n",
    "def nam(n):\n",
    "    print(n)\n",
    "    "
   ]
  },
  {
   "cell_type": "code",
   "execution_count": 33,
   "id": "6ac6a809",
   "metadata": {},
   "outputs": [
    {
     "name": "stdout",
     "output_type": "stream",
     "text": [
      "Akhi\n"
     ]
    }
   ],
   "source": [
    "name = \"Akhi\"\n",
    "def nam(n = \" \"):\n",
    "    print(n)\n",
    "nam(name)    "
   ]
  },
  {
   "cell_type": "code",
   "execution_count": 43,
   "id": "928e5966",
   "metadata": {},
   "outputs": [
    {
     "ename": "UnboundLocalError",
     "evalue": "cannot access local variable 'e' where it is not associated with a value",
     "output_type": "error",
     "traceback": [
      "\u001b[1;31m---------------------------------------------------------------------------\u001b[0m",
      "\u001b[1;31mUnboundLocalError\u001b[0m                         Traceback (most recent call last)",
      "Cell \u001b[1;32mIn[43], line 8\u001b[0m\n\u001b[0;32m      6\u001b[0m     \u001b[38;5;28;01mreturn\u001b[39;00m g\n\u001b[0;32m      7\u001b[0m f \u001b[38;5;241m=\u001b[39m \u001b[38;5;241m4\u001b[39m\n\u001b[1;32m----> 8\u001b[0m \u001b[38;5;28mprint\u001b[39m(\u001b[43mad\u001b[49m\u001b[43m(\u001b[49m\u001b[43mf\u001b[49m\u001b[43m)\u001b[49m)\n",
      "Cell \u001b[1;32mIn[43], line 3\u001b[0m, in \u001b[0;36mad\u001b[1;34m(g)\u001b[0m\n\u001b[0;32m      2\u001b[0m \u001b[38;5;28;01mdef\u001b[39;00m \u001b[38;5;21mad\u001b[39m(g):\n\u001b[1;32m----> 3\u001b[0m     \u001b[38;5;28mprint\u001b[39m(\u001b[43me\u001b[49m)\n\u001b[0;32m      4\u001b[0m     e \u001b[38;5;241m=\u001b[39m e\u001b[38;5;241m*\u001b[39me\u001b[38;5;241m+\u001b[39me\u001b[38;5;241m+\u001b[39m\u001b[38;5;241m5\u001b[39m\n\u001b[0;32m      5\u001b[0m     \u001b[38;5;28mprint\u001b[39m(e)\n",
      "\u001b[1;31mUnboundLocalError\u001b[0m: cannot access local variable 'e' where it is not associated with a value"
     ]
    }
   ],
   "source": [
    "e = 10\n",
    "def ad(g):\n",
    "    print(e)\n",
    "    e = e*e+e+5\n",
    "    print(e)\n",
    "    return g\n",
    "f = 4\n",
    "print(ad(f))"
   ]
  },
  {
   "cell_type": "code",
   "execution_count": 108,
   "id": "163b4385",
   "metadata": {},
   "outputs": [
    {
     "name": "stdout",
     "output_type": "stream",
     "text": [
      "10\n",
      "115\n",
      "4\n"
     ]
    }
   ],
   "source": [
    "e = 10\n",
    "def ad(g):\n",
    "    print(e)\n",
    "    t = e*e+e+5\n",
    "    print(t)\n",
    "    return g\n",
    "f = 4\n",
    "print(ad(f))"
   ]
  },
  {
   "cell_type": "code",
   "execution_count": null,
   "id": "3519ac51",
   "metadata": {},
   "outputs": [],
   "source": []
  },
  {
   "cell_type": "code",
   "execution_count": 60,
   "id": "ae5a10ed",
   "metadata": {},
   "outputs": [
    {
     "name": "stdout",
     "output_type": "stream",
     "text": [
      "10\n"
     ]
    },
    {
     "ename": "UnboundLocalError",
     "evalue": "cannot access local variable 't' where it is not associated with a value",
     "output_type": "error",
     "traceback": [
      "\u001b[1;31m---------------------------------------------------------------------------\u001b[0m",
      "\u001b[1;31mUnboundLocalError\u001b[0m                         Traceback (most recent call last)",
      "Cell \u001b[1;32mIn[60], line 9\u001b[0m\n\u001b[0;32m      7\u001b[0m     \u001b[38;5;28;01mreturn\u001b[39;00m g\n\u001b[0;32m      8\u001b[0m f \u001b[38;5;241m=\u001b[39m \u001b[38;5;241m5\u001b[39m\n\u001b[1;32m----> 9\u001b[0m \u001b[38;5;28mprint\u001b[39m(\u001b[43mad\u001b[49m\u001b[43m(\u001b[49m\u001b[43mf\u001b[49m\u001b[43m)\u001b[49m)\n\u001b[0;32m     10\u001b[0m t \u001b[38;5;241m=\u001b[39m \u001b[38;5;241m10\u001b[39m\n",
      "Cell \u001b[1;32mIn[60], line 5\u001b[0m, in \u001b[0;36mad\u001b[1;34m(g)\u001b[0m\n\u001b[0;32m      2\u001b[0m \u001b[38;5;28;01mdef\u001b[39;00m \u001b[38;5;21mad\u001b[39m(g):\n\u001b[0;32m      3\u001b[0m     \u001b[38;5;28mprint\u001b[39m(e)\n\u001b[1;32m----> 5\u001b[0m     t \u001b[38;5;241m=\u001b[39m \u001b[43mt\u001b[49m\u001b[38;5;241m+\u001b[39me\u001b[38;5;241m*\u001b[39me\u001b[38;5;241m+\u001b[39me\u001b[38;5;241m+\u001b[39m\u001b[38;5;241m5\u001b[39m\u001b[38;5;241m+\u001b[39mf\n\u001b[0;32m      6\u001b[0m     \u001b[38;5;28mprint\u001b[39m(t)\n\u001b[0;32m      7\u001b[0m     \u001b[38;5;28;01mreturn\u001b[39;00m g\n",
      "\u001b[1;31mUnboundLocalError\u001b[0m: cannot access local variable 't' where it is not associated with a value"
     ]
    }
   ],
   "source": [
    "e = 10\n",
    "def ad(g):\n",
    "    print(e)\n",
    "    \n",
    "    t = t+e*e+e+5+f\n",
    "    print(t)\n",
    "    return g\n",
    "f = 5\n",
    "print(ad(f))\n",
    "t = 10"
   ]
  },
  {
   "cell_type": "code",
   "execution_count": 46,
   "id": "ca9f50ea",
   "metadata": {},
   "outputs": [
    {
     "ename": "NameError",
     "evalue": "name 'na' is not defined",
     "output_type": "error",
     "traceback": [
      "\u001b[1;31m---------------------------------------------------------------------------\u001b[0m",
      "\u001b[1;31mNameError\u001b[0m                                 Traceback (most recent call last)",
      "Cell \u001b[1;32mIn[46], line 3\u001b[0m\n\u001b[0;32m      1\u001b[0m \u001b[38;5;28;01mdef\u001b[39;00m \u001b[38;5;21mnam\u001b[39m(n \u001b[38;5;241m=\u001b[39m \u001b[38;5;124m\"\u001b[39m\u001b[38;5;124m \u001b[39m\u001b[38;5;124m\"\u001b[39m):\n\u001b[0;32m      2\u001b[0m     \u001b[38;5;28mprint\u001b[39m(n)\n\u001b[1;32m----> 3\u001b[0m nam(\u001b[43mna\u001b[49m)\n\u001b[0;32m      4\u001b[0m na \u001b[38;5;241m=\u001b[39m \u001b[38;5;124m\"\u001b[39m\u001b[38;5;124mAkh\u001b[39m\u001b[38;5;124m\"\u001b[39m\n",
      "\u001b[1;31mNameError\u001b[0m: name 'na' is not defined"
     ]
    }
   ],
   "source": [
    "\n",
    "def nam(n = \" \"):\n",
    "    print(n)\n",
    "nam(na)\n",
    "na = \"Akh\""
   ]
  },
  {
   "cell_type": "code",
   "execution_count": 47,
   "id": "430d8b80",
   "metadata": {},
   "outputs": [
    {
     "ename": "UnboundLocalError",
     "evalue": "cannot access local variable 'e' where it is not associated with a value",
     "output_type": "error",
     "traceback": [
      "\u001b[1;31m---------------------------------------------------------------------------\u001b[0m",
      "\u001b[1;31mUnboundLocalError\u001b[0m                         Traceback (most recent call last)",
      "Cell \u001b[1;32mIn[47], line 6\u001b[0m\n\u001b[0;32m      4\u001b[0m     \u001b[38;5;28mprint\u001b[39m(e)\n\u001b[0;32m      5\u001b[0m a \u001b[38;5;241m=\u001b[39m \u001b[38;5;241m5\u001b[39m\n\u001b[1;32m----> 6\u001b[0m \u001b[43masd\u001b[49m\u001b[43m(\u001b[49m\u001b[43ma\u001b[49m\u001b[43m)\u001b[49m\n",
      "Cell \u001b[1;32mIn[47], line 3\u001b[0m, in \u001b[0;36masd\u001b[1;34m(m)\u001b[0m\n\u001b[0;32m      2\u001b[0m \u001b[38;5;28;01mdef\u001b[39;00m \u001b[38;5;21masd\u001b[39m(m):\n\u001b[1;32m----> 3\u001b[0m     e \u001b[38;5;241m=\u001b[39m \u001b[43me\u001b[49m\u001b[38;5;241m+\u001b[39mm \u001b[38;5;241m+\u001b[39m\u001b[38;5;241m10\u001b[39m\n\u001b[0;32m      4\u001b[0m     \u001b[38;5;28mprint\u001b[39m(e)\n",
      "\u001b[1;31mUnboundLocalError\u001b[0m: cannot access local variable 'e' where it is not associated with a value"
     ]
    }
   ],
   "source": [
    "e = 10\n",
    "def asd(m):\n",
    "    e = e+m +10\n",
    "    print(e)\n",
    "a = 5\n",
    "asd(a)"
   ]
  },
  {
   "cell_type": "code",
   "execution_count": 48,
   "id": "304725a0",
   "metadata": {},
   "outputs": [
    {
     "name": "stdout",
     "output_type": "stream",
     "text": [
      "35\n"
     ]
    }
   ],
   "source": [
    "e = 10\n",
    "def asd(m):\n",
    "    e = 20\n",
    "    e = e+m +10\n",
    "    print(e)\n",
    "a = 5\n",
    "asd(a)"
   ]
  },
  {
   "cell_type": "code",
   "execution_count": 65,
   "id": "b6202348",
   "metadata": {},
   "outputs": [
    {
     "ename": "UnboundLocalError",
     "evalue": "cannot access local variable 'e' where it is not associated with a value",
     "output_type": "error",
     "traceback": [
      "\u001b[1;31m---------------------------------------------------------------------------\u001b[0m",
      "\u001b[1;31mUnboundLocalError\u001b[0m                         Traceback (most recent call last)",
      "Cell \u001b[1;32mIn[65], line 7\u001b[0m\n\u001b[0;32m      5\u001b[0m     \u001b[38;5;28mprint\u001b[39m(e)\n\u001b[0;32m      6\u001b[0m a \u001b[38;5;241m=\u001b[39m \u001b[38;5;241m5\u001b[39m\n\u001b[1;32m----> 7\u001b[0m \u001b[43masd\u001b[49m\u001b[43m(\u001b[49m\u001b[43ma\u001b[49m\u001b[43m)\u001b[49m\n",
      "Cell \u001b[1;32mIn[65], line 3\u001b[0m, in \u001b[0;36masd\u001b[1;34m(m)\u001b[0m\n\u001b[0;32m      2\u001b[0m \u001b[38;5;28;01mdef\u001b[39;00m \u001b[38;5;21masd\u001b[39m(m):\n\u001b[1;32m----> 3\u001b[0m     \u001b[38;5;28mprint\u001b[39m(\u001b[43me\u001b[49m)\n\u001b[0;32m      4\u001b[0m     e \u001b[38;5;241m=\u001b[39mm \u001b[38;5;241m+\u001b[39m\u001b[38;5;241m10\u001b[39m\n\u001b[0;32m      5\u001b[0m     \u001b[38;5;28mprint\u001b[39m(e)\n",
      "\u001b[1;31mUnboundLocalError\u001b[0m: cannot access local variable 'e' where it is not associated with a value"
     ]
    }
   ],
   "source": [
    "e = 10\n",
    "def asd(m):\n",
    "    print(e)\n",
    "    e =m +10\n",
    "    print(e)\n",
    "a = 5\n",
    "asd(a)"
   ]
  },
  {
   "cell_type": "code",
   "execution_count": 66,
   "id": "2834dc61",
   "metadata": {},
   "outputs": [
    {
     "name": "stdout",
     "output_type": "stream",
     "text": [
      "15\n"
     ]
    }
   ],
   "source": [
    "e = 10\n",
    "def asd(m):\n",
    "    e =m +10\n",
    "    print(e)\n",
    "a = 5\n",
    "asd(a)"
   ]
  },
  {
   "cell_type": "code",
   "execution_count": 81,
   "id": "96b36299",
   "metadata": {},
   "outputs": [
    {
     "name": "stdout",
     "output_type": "stream",
     "text": [
      "100\n"
     ]
    }
   ],
   "source": [
    "ff = 100\n",
    "def ss(c):\n",
    "    print(ff)\n",
    "ss(10)    "
   ]
  },
  {
   "cell_type": "code",
   "execution_count": 86,
   "id": "14f1ee8d",
   "metadata": {},
   "outputs": [
    {
     "ename": "UnboundLocalError",
     "evalue": "cannot access local variable 'ff' where it is not associated with a value",
     "output_type": "error",
     "traceback": [
      "\u001b[1;31m---------------------------------------------------------------------------\u001b[0m",
      "\u001b[1;31mUnboundLocalError\u001b[0m                         Traceback (most recent call last)",
      "Cell \u001b[1;32mIn[86], line 5\u001b[0m\n\u001b[0;32m      3\u001b[0m     ff \u001b[38;5;241m=\u001b[39m ff\n\u001b[0;32m      4\u001b[0m     \u001b[38;5;28mprint\u001b[39m(ff)\n\u001b[1;32m----> 5\u001b[0m \u001b[43mss\u001b[49m\u001b[43m(\u001b[49m\u001b[38;5;241;43m10\u001b[39;49m\u001b[43m)\u001b[49m    \n",
      "Cell \u001b[1;32mIn[86], line 3\u001b[0m, in \u001b[0;36mss\u001b[1;34m(c)\u001b[0m\n\u001b[0;32m      2\u001b[0m \u001b[38;5;28;01mdef\u001b[39;00m \u001b[38;5;21mss\u001b[39m(c):\n\u001b[1;32m----> 3\u001b[0m     ff \u001b[38;5;241m=\u001b[39m \u001b[43mff\u001b[49m\n\u001b[0;32m      4\u001b[0m     \u001b[38;5;28mprint\u001b[39m(ff)\n",
      "\u001b[1;31mUnboundLocalError\u001b[0m: cannot access local variable 'ff' where it is not associated with a value"
     ]
    }
   ],
   "source": [
    "ff = 100\n",
    "def ss(c):\n",
    "    ff = ff\n",
    "    print(ff)\n",
    "ss(10)    "
   ]
  },
  {
   "cell_type": "code",
   "execution_count": 87,
   "id": "7d29beae",
   "metadata": {},
   "outputs": [
    {
     "name": "stdout",
     "output_type": "stream",
     "text": [
      "10\n"
     ]
    }
   ],
   "source": [
    "ff = 100\n",
    "def ss(c):\n",
    "    ff = 10\n",
    "    ff = ff\n",
    "    print(ff)\n",
    "ss(10)    "
   ]
  },
  {
   "cell_type": "code",
   "execution_count": 82,
   "id": "f4ef9d94",
   "metadata": {},
   "outputs": [
    {
     "ename": "UnboundLocalError",
     "evalue": "cannot access local variable 'ff' where it is not associated with a value",
     "output_type": "error",
     "traceback": [
      "\u001b[1;31m---------------------------------------------------------------------------\u001b[0m",
      "\u001b[1;31mUnboundLocalError\u001b[0m                         Traceback (most recent call last)",
      "Cell \u001b[1;32mIn[82], line 4\u001b[0m\n\u001b[0;32m      2\u001b[0m     ff \u001b[38;5;241m=\u001b[39m ff\n\u001b[0;32m      3\u001b[0m     \u001b[38;5;28mprint\u001b[39m(ff)\n\u001b[1;32m----> 4\u001b[0m \u001b[43mss\u001b[49m\u001b[43m(\u001b[49m\u001b[38;5;241;43m10\u001b[39;49m\u001b[43m)\u001b[49m    \n",
      "Cell \u001b[1;32mIn[82], line 2\u001b[0m, in \u001b[0;36mss\u001b[1;34m(c)\u001b[0m\n\u001b[0;32m      1\u001b[0m \u001b[38;5;28;01mdef\u001b[39;00m \u001b[38;5;21mss\u001b[39m(c):\n\u001b[1;32m----> 2\u001b[0m     ff \u001b[38;5;241m=\u001b[39m \u001b[43mff\u001b[49m\n\u001b[0;32m      3\u001b[0m     \u001b[38;5;28mprint\u001b[39m(ff)\n",
      "\u001b[1;31mUnboundLocalError\u001b[0m: cannot access local variable 'ff' where it is not associated with a value"
     ]
    }
   ],
   "source": [
    "def ss(c):\n",
    "    ff = ff\n",
    "    print(ff)\n",
    "ss(10)    "
   ]
  },
  {
   "cell_type": "code",
   "execution_count": 67,
   "id": "da72b78a",
   "metadata": {},
   "outputs": [
    {
     "ename": "UnboundLocalError",
     "evalue": "cannot access local variable 'ff' where it is not associated with a value",
     "output_type": "error",
     "traceback": [
      "\u001b[1;31m---------------------------------------------------------------------------\u001b[0m",
      "\u001b[1;31mUnboundLocalError\u001b[0m                         Traceback (most recent call last)",
      "Cell \u001b[1;32mIn[67], line 4\u001b[0m\n\u001b[0;32m      2\u001b[0m     ff \u001b[38;5;241m=\u001b[39m ff \u001b[38;5;241m+\u001b[39m\u001b[38;5;241m100\u001b[39m\u001b[38;5;241m+\u001b[39mc\n\u001b[0;32m      3\u001b[0m     \u001b[38;5;28mprint\u001b[39m(ff)\n\u001b[1;32m----> 4\u001b[0m \u001b[43mss\u001b[49m\u001b[43m(\u001b[49m\u001b[38;5;241;43m10\u001b[39;49m\u001b[43m)\u001b[49m    \n",
      "Cell \u001b[1;32mIn[67], line 2\u001b[0m, in \u001b[0;36mss\u001b[1;34m(c)\u001b[0m\n\u001b[0;32m      1\u001b[0m \u001b[38;5;28;01mdef\u001b[39;00m \u001b[38;5;21mss\u001b[39m(c):\n\u001b[1;32m----> 2\u001b[0m     ff \u001b[38;5;241m=\u001b[39m \u001b[43mff\u001b[49m \u001b[38;5;241m+\u001b[39m\u001b[38;5;241m100\u001b[39m\u001b[38;5;241m+\u001b[39mc\n\u001b[0;32m      3\u001b[0m     \u001b[38;5;28mprint\u001b[39m(ff)\n",
      "\u001b[1;31mUnboundLocalError\u001b[0m: cannot access local variable 'ff' where it is not associated with a value"
     ]
    }
   ],
   "source": [
    "def ss(c):\n",
    "    ff = ff +100+c\n",
    "    print(ff)\n",
    "ss(10)    "
   ]
  },
  {
   "cell_type": "code",
   "execution_count": 83,
   "id": "32d2e421",
   "metadata": {},
   "outputs": [
    {
     "name": "stdout",
     "output_type": "stream",
     "text": [
      "10\n"
     ]
    },
    {
     "ename": "UnboundLocalError",
     "evalue": "cannot access local variable 'ff' where it is not associated with a value",
     "output_type": "error",
     "traceback": [
      "\u001b[1;31m---------------------------------------------------------------------------\u001b[0m",
      "\u001b[1;31mUnboundLocalError\u001b[0m                         Traceback (most recent call last)",
      "Cell \u001b[1;32mIn[83], line 6\u001b[0m\n\u001b[0;32m      4\u001b[0m     \u001b[38;5;28mprint\u001b[39m(ff)\n\u001b[0;32m      5\u001b[0m \u001b[38;5;28mprint\u001b[39m(ff)    \n\u001b[1;32m----> 6\u001b[0m \u001b[43mss\u001b[49m\u001b[43m(\u001b[49m\u001b[38;5;241;43m10\u001b[39;49m\u001b[43m)\u001b[49m    \n",
      "Cell \u001b[1;32mIn[83], line 3\u001b[0m, in \u001b[0;36mss\u001b[1;34m(c)\u001b[0m\n\u001b[0;32m      2\u001b[0m \u001b[38;5;28;01mdef\u001b[39;00m \u001b[38;5;21mss\u001b[39m(c):\n\u001b[1;32m----> 3\u001b[0m     ff \u001b[38;5;241m=\u001b[39m \u001b[43mff\u001b[49m \u001b[38;5;241m+\u001b[39m\u001b[38;5;241m100\u001b[39m\u001b[38;5;241m+\u001b[39mc\n\u001b[0;32m      4\u001b[0m     \u001b[38;5;28mprint\u001b[39m(ff)\n",
      "\u001b[1;31mUnboundLocalError\u001b[0m: cannot access local variable 'ff' where it is not associated with a value"
     ]
    }
   ],
   "source": [
    "ff = 10\n",
    "def ss(c):\n",
    "    ff = ff +100+c\n",
    "    print(ff)\n",
    "print(ff)    \n",
    "ss(10)    "
   ]
  },
  {
   "cell_type": "code",
   "execution_count": 85,
   "id": "26bc33ee",
   "metadata": {},
   "outputs": [
    {
     "name": "stdout",
     "output_type": "stream",
     "text": [
      "10\n",
      "10\n",
      "120\n"
     ]
    }
   ],
   "source": [
    "ff = 10\n",
    "def ss(c):\n",
    "    tt = ff\n",
    "    tt= tt +100+c\n",
    "    print(ff)\n",
    "    print(tt)\n",
    "print(ff)    \n",
    "ss(10)    "
   ]
  },
  {
   "cell_type": "code",
   "execution_count": 73,
   "id": "f0686671",
   "metadata": {},
   "outputs": [
    {
     "name": "stdout",
     "output_type": "stream",
     "text": [
      "110\n"
     ]
    }
   ],
   "source": [
    "ff = 10\n",
    "def ss(c):\n",
    "    ff = 100+c\n",
    "    print(ff)\n",
    "ss(10)    "
   ]
  },
  {
   "cell_type": "code",
   "execution_count": 78,
   "id": "4a93e088",
   "metadata": {},
   "outputs": [
    {
     "ename": "UnboundLocalError",
     "evalue": "cannot access local variable 'ff' where it is not associated with a value",
     "output_type": "error",
     "traceback": [
      "\u001b[1;31m---------------------------------------------------------------------------\u001b[0m",
      "\u001b[1;31mUnboundLocalError\u001b[0m                         Traceback (most recent call last)",
      "Cell \u001b[1;32mIn[78], line 6\u001b[0m\n\u001b[0;32m      4\u001b[0m     ff \u001b[38;5;241m=\u001b[39m \u001b[38;5;241m100\u001b[39m\u001b[38;5;241m+\u001b[39mc\n\u001b[0;32m      5\u001b[0m     \u001b[38;5;28mprint\u001b[39m(ff)\n\u001b[1;32m----> 6\u001b[0m \u001b[43mss\u001b[49m\u001b[43m(\u001b[49m\u001b[38;5;241;43m10\u001b[39;49m\u001b[43m)\u001b[49m    \n",
      "Cell \u001b[1;32mIn[78], line 3\u001b[0m, in \u001b[0;36mss\u001b[1;34m(c)\u001b[0m\n\u001b[0;32m      2\u001b[0m \u001b[38;5;28;01mdef\u001b[39;00m \u001b[38;5;21mss\u001b[39m(c):\n\u001b[1;32m----> 3\u001b[0m     \u001b[38;5;28mprint\u001b[39m(\u001b[43mff\u001b[49m)\n\u001b[0;32m      4\u001b[0m     ff \u001b[38;5;241m=\u001b[39m \u001b[38;5;241m100\u001b[39m\u001b[38;5;241m+\u001b[39mc\n\u001b[0;32m      5\u001b[0m     \u001b[38;5;28mprint\u001b[39m(ff)\n",
      "\u001b[1;31mUnboundLocalError\u001b[0m: cannot access local variable 'ff' where it is not associated with a value"
     ]
    }
   ],
   "source": [
    "ff = 10\n",
    "def ss(c):\n",
    "    print(ff)\n",
    "    ff = 100+c\n",
    "    print(ff)\n",
    "ss(10)    "
   ]
  },
  {
   "cell_type": "code",
   "execution_count": 79,
   "id": "ada5511d",
   "metadata": {},
   "outputs": [
    {
     "name": "stdout",
     "output_type": "stream",
     "text": [
      "20\n",
      "110\n"
     ]
    }
   ],
   "source": [
    "ff = 10\n",
    "def ss(c):\n",
    "    ff = 20\n",
    "    print(ff)\n",
    "    ff = 100+c\n",
    "    print(ff)\n",
    "ss(10)    "
   ]
  },
  {
   "cell_type": "code",
   "execution_count": 75,
   "id": "70a827ba",
   "metadata": {},
   "outputs": [
    {
     "ename": "UnboundLocalError",
     "evalue": "cannot access local variable 'ff' where it is not associated with a value",
     "output_type": "error",
     "traceback": [
      "\u001b[1;31m---------------------------------------------------------------------------\u001b[0m",
      "\u001b[1;31mUnboundLocalError\u001b[0m                         Traceback (most recent call last)",
      "Cell \u001b[1;32mIn[75], line 5\u001b[0m\n\u001b[0;32m      3\u001b[0m     ff \u001b[38;5;241m=\u001b[39m ff\u001b[38;5;241m+\u001b[39m\u001b[38;5;241m100\u001b[39m\u001b[38;5;241m+\u001b[39mc\n\u001b[0;32m      4\u001b[0m     \u001b[38;5;28mprint\u001b[39m(ff)\n\u001b[1;32m----> 5\u001b[0m \u001b[43mss\u001b[49m\u001b[43m(\u001b[49m\u001b[38;5;241;43m10\u001b[39;49m\u001b[43m)\u001b[49m    \n",
      "Cell \u001b[1;32mIn[75], line 3\u001b[0m, in \u001b[0;36mss\u001b[1;34m(c)\u001b[0m\n\u001b[0;32m      2\u001b[0m \u001b[38;5;28;01mdef\u001b[39;00m \u001b[38;5;21mss\u001b[39m(c):\n\u001b[1;32m----> 3\u001b[0m     ff \u001b[38;5;241m=\u001b[39m \u001b[43mff\u001b[49m\u001b[38;5;241m+\u001b[39m\u001b[38;5;241m100\u001b[39m\u001b[38;5;241m+\u001b[39mc\n\u001b[0;32m      4\u001b[0m     \u001b[38;5;28mprint\u001b[39m(ff)\n",
      "\u001b[1;31mUnboundLocalError\u001b[0m: cannot access local variable 'ff' where it is not associated with a value"
     ]
    }
   ],
   "source": [
    "ff = 10\n",
    "def ss(c):\n",
    "    ff = ff+100+c\n",
    "    print(ff)\n",
    "ss(10)    "
   ]
  },
  {
   "cell_type": "code",
   "execution_count": 74,
   "id": "9b2638d9",
   "metadata": {},
   "outputs": [
    {
     "name": "stdout",
     "output_type": "stream",
     "text": [
      "125\n"
     ]
    }
   ],
   "source": [
    "ff = 10\n",
    "def ss(c):\n",
    "    ff = 100+c\n",
    "    ff = ff + 15\n",
    "    print(ff)\n",
    "ss(10)    "
   ]
  },
  {
   "cell_type": "code",
   "execution_count": 76,
   "id": "bc2b7515",
   "metadata": {},
   "outputs": [
    {
     "ename": "UnboundLocalError",
     "evalue": "cannot access local variable 'ff' where it is not associated with a value",
     "output_type": "error",
     "traceback": [
      "\u001b[1;31m---------------------------------------------------------------------------\u001b[0m",
      "\u001b[1;31mUnboundLocalError\u001b[0m                         Traceback (most recent call last)",
      "Cell \u001b[1;32mIn[76], line 7\u001b[0m\n\u001b[0;32m      5\u001b[0m     ff \u001b[38;5;241m=\u001b[39m ff \u001b[38;5;241m+\u001b[39m \u001b[38;5;241m15\u001b[39m\n\u001b[0;32m      6\u001b[0m     \u001b[38;5;28mprint\u001b[39m(ff)\n\u001b[1;32m----> 7\u001b[0m \u001b[43mss\u001b[49m\u001b[43m(\u001b[49m\u001b[38;5;241;43m10\u001b[39;49m\u001b[43m)\u001b[49m    \n",
      "Cell \u001b[1;32mIn[76], line 3\u001b[0m, in \u001b[0;36mss\u001b[1;34m(c)\u001b[0m\n\u001b[0;32m      2\u001b[0m \u001b[38;5;28;01mdef\u001b[39;00m \u001b[38;5;21mss\u001b[39m(c):\n\u001b[1;32m----> 3\u001b[0m     \u001b[38;5;28mprint\u001b[39m(\u001b[43mff\u001b[49m)\n\u001b[0;32m      4\u001b[0m     ff \u001b[38;5;241m=\u001b[39m \u001b[38;5;241m100\u001b[39m\u001b[38;5;241m+\u001b[39mc\n\u001b[0;32m      5\u001b[0m     ff \u001b[38;5;241m=\u001b[39m ff \u001b[38;5;241m+\u001b[39m \u001b[38;5;241m15\u001b[39m\n",
      "\u001b[1;31mUnboundLocalError\u001b[0m: cannot access local variable 'ff' where it is not associated with a value"
     ]
    }
   ],
   "source": [
    "ff = 10\n",
    "def ss(c):\n",
    "    print(ff)\n",
    "    ff = 100+c\n",
    "    ff = ff + 15\n",
    "    print(ff)\n",
    "ss(10)    "
   ]
  },
  {
   "cell_type": "code",
   "execution_count": 102,
   "id": "78586cb8",
   "metadata": {},
   "outputs": [
    {
     "name": "stdout",
     "output_type": "stream",
     "text": [
      "1\n",
      "3\n"
     ]
    }
   ],
   "source": [
    "\n",
    "def ss(c):\n",
    "    fy =1\n",
    "    print(fy)\n",
    "    fy =3\n",
    "    print(fy)\n",
    "ss(10)    "
   ]
  },
  {
   "cell_type": "code",
   "execution_count": 95,
   "id": "47bb1e78",
   "metadata": {},
   "outputs": [
    {
     "ename": "UnboundLocalError",
     "evalue": "cannot access local variable 'ff' where it is not associated with a value",
     "output_type": "error",
     "traceback": [
      "\u001b[1;31m---------------------------------------------------------------------------\u001b[0m",
      "\u001b[1;31mUnboundLocalError\u001b[0m                         Traceback (most recent call last)",
      "Cell \u001b[1;32mIn[95], line 5\u001b[0m\n\u001b[0;32m      3\u001b[0m     \u001b[38;5;28mprint\u001b[39m(ff)\n\u001b[0;32m      4\u001b[0m     ff \u001b[38;5;241m=\u001b[39m \u001b[38;5;241m100\u001b[39m\n\u001b[1;32m----> 5\u001b[0m \u001b[43mss\u001b[49m\u001b[43m(\u001b[49m\u001b[38;5;241;43m10\u001b[39;49m\u001b[43m)\u001b[49m    \n",
      "Cell \u001b[1;32mIn[95], line 3\u001b[0m, in \u001b[0;36mss\u001b[1;34m(c)\u001b[0m\n\u001b[0;32m      2\u001b[0m \u001b[38;5;28;01mdef\u001b[39;00m \u001b[38;5;21mss\u001b[39m(c):\n\u001b[1;32m----> 3\u001b[0m     \u001b[38;5;28mprint\u001b[39m(\u001b[43mff\u001b[49m)\n\u001b[0;32m      4\u001b[0m     ff \u001b[38;5;241m=\u001b[39m \u001b[38;5;241m100\u001b[39m\n",
      "\u001b[1;31mUnboundLocalError\u001b[0m: cannot access local variable 'ff' where it is not associated with a value"
     ]
    }
   ],
   "source": [
    "ff = 10\n",
    "def ss(c):\n",
    "    print(ff)\n",
    "    ff = 100\n",
    "ss(10)    "
   ]
  },
  {
   "cell_type": "code",
   "execution_count": 70,
   "id": "e06d0525",
   "metadata": {},
   "outputs": [
    {
     "name": "stdout",
     "output_type": "stream",
     "text": [
      "10\n",
      "120\n"
     ]
    }
   ],
   "source": [
    "ff = 10\n",
    "def ss(c):\n",
    "    tt = ff+100+c\n",
    "    print(ff)\n",
    "    print(tt)\n",
    "ss(10)    "
   ]
  },
  {
   "cell_type": "code",
   "execution_count": 105,
   "id": "e4d4c1a2",
   "metadata": {},
   "outputs": [
    {
     "ename": "UnboundLocalError",
     "evalue": "cannot access local variable 'ffd' where it is not associated with a value",
     "output_type": "error",
     "traceback": [
      "\u001b[1;31m---------------------------------------------------------------------------\u001b[0m",
      "\u001b[1;31mUnboundLocalError\u001b[0m                         Traceback (most recent call last)",
      "Cell \u001b[1;32mIn[105], line 7\u001b[0m\n\u001b[0;32m      5\u001b[0m     \u001b[38;5;28mprint\u001b[39m(ffd)\n\u001b[0;32m      6\u001b[0m     \u001b[38;5;28mprint\u001b[39m(tt)\n\u001b[1;32m----> 7\u001b[0m \u001b[43mss\u001b[49m\u001b[43m(\u001b[49m\u001b[38;5;241;43m10\u001b[39;49m\u001b[43m)\u001b[49m    \n",
      "Cell \u001b[1;32mIn[105], line 3\u001b[0m, in \u001b[0;36mss\u001b[1;34m(c)\u001b[0m\n\u001b[0;32m      2\u001b[0m \u001b[38;5;28;01mdef\u001b[39;00m \u001b[38;5;21mss\u001b[39m(c):\n\u001b[1;32m----> 3\u001b[0m     tt \u001b[38;5;241m=\u001b[39m \u001b[43mffd\u001b[49m\u001b[38;5;241m+\u001b[39m\u001b[38;5;241m100\u001b[39m\u001b[38;5;241m+\u001b[39mc\n\u001b[0;32m      4\u001b[0m     ffd \u001b[38;5;241m=\u001b[39m tt\n\u001b[0;32m      5\u001b[0m     \u001b[38;5;28mprint\u001b[39m(ffd)\n",
      "\u001b[1;31mUnboundLocalError\u001b[0m: cannot access local variable 'ffd' where it is not associated with a value"
     ]
    }
   ],
   "source": [
    "ffd = 10\n",
    "def ss(c):\n",
    "    tt = ffd+100+c\n",
    "    ffd = tt\n",
    "    print(ffd)\n",
    "    print(tt)\n",
    "ss(10)    "
   ]
  },
  {
   "cell_type": "code",
   "execution_count": 107,
   "id": "6e9d87ed",
   "metadata": {},
   "outputs": [
    {
     "ename": "UnboundLocalError",
     "evalue": "cannot access local variable 'fff' where it is not associated with a value",
     "output_type": "error",
     "traceback": [
      "\u001b[1;31m---------------------------------------------------------------------------\u001b[0m",
      "\u001b[1;31mUnboundLocalError\u001b[0m                         Traceback (most recent call last)",
      "Cell \u001b[1;32mIn[107], line 6\u001b[0m\n\u001b[0;32m      4\u001b[0m     \u001b[38;5;28mprint\u001b[39m(fff)\n\u001b[0;32m      5\u001b[0m     \u001b[38;5;28mprint\u001b[39m(tt)\n\u001b[1;32m----> 6\u001b[0m \u001b[43mss\u001b[49m\u001b[43m(\u001b[49m\u001b[38;5;241;43m10\u001b[39;49m\u001b[43m)\u001b[49m    \n",
      "Cell \u001b[1;32mIn[107], line 2\u001b[0m, in \u001b[0;36mss\u001b[1;34m(c)\u001b[0m\n\u001b[0;32m      1\u001b[0m \u001b[38;5;28;01mdef\u001b[39;00m \u001b[38;5;21mss\u001b[39m(c):\n\u001b[1;32m----> 2\u001b[0m     tt \u001b[38;5;241m=\u001b[39m \u001b[43mfff\u001b[49m\u001b[38;5;241m+\u001b[39m\u001b[38;5;241m100\u001b[39m\u001b[38;5;241m+\u001b[39mc\n\u001b[0;32m      3\u001b[0m     fff \u001b[38;5;241m=\u001b[39m tt\n\u001b[0;32m      4\u001b[0m     \u001b[38;5;28mprint\u001b[39m(fff)\n",
      "\u001b[1;31mUnboundLocalError\u001b[0m: cannot access local variable 'fff' where it is not associated with a value"
     ]
    }
   ],
   "source": [
    "\n",
    "def ss(c):\n",
    "    tt = fff+100+c\n",
    "    fff = tt\n",
    "    print(fff)\n",
    "    print(tt)\n",
    "ss(10)    "
   ]
  },
  {
   "cell_type": "code",
   "execution_count": 89,
   "id": "f137a79a",
   "metadata": {},
   "outputs": [
    {
     "name": "stdout",
     "output_type": "stream",
     "text": [
      "200\n",
      "100\n"
     ]
    }
   ],
   "source": [
    "\n",
    "def subb(kk):\n",
    "    kk = kk + 100\n",
    "    print(kk)\n",
    "xx=100\n",
    "subb(xx)\n",
    "print(xx)"
   ]
  },
  {
   "cell_type": "code",
   "execution_count": 94,
   "id": "3c9ed752",
   "metadata": {},
   "outputs": [
    {
     "name": "stdout",
     "output_type": "stream",
     "text": [
      "200\n",
      "100\n"
     ]
    }
   ],
   "source": [
    "def subb(xx):\n",
    "    xx = xx + 100\n",
    "    print(xx)\n",
    "xx=100\n",
    "subb(xx)\n",
    "print(xx)"
   ]
  },
  {
   "cell_type": "code",
   "execution_count": 92,
   "id": "c682fa5f",
   "metadata": {},
   "outputs": [
    {
     "name": "stdout",
     "output_type": "stream",
     "text": [
      "304\n"
     ]
    }
   ],
   "source": [
    "def abc(h):\n",
    "    d = 100\n",
    "    d = d+h+200\n",
    "    print(d)\n",
    "abc(4)    "
   ]
  },
  {
   "cell_type": "code",
   "execution_count": 93,
   "id": "eda78519",
   "metadata": {},
   "outputs": [
    {
     "name": "stdout",
     "output_type": "stream",
     "text": [
      "8\n",
      "[1, 2, 3, 4]\n",
      "8\n"
     ]
    }
   ],
   "source": [
    "def liss(l):\n",
    "    t = 8\n",
    "    print(t)\n",
    "    return (l,t)\n",
    "f = 10   \n",
    "bb = f\n",
    "cc = 10\n",
    "name = \"Akhil\"\n",
    "eman = name\n",
    "lk = (1,2,3)\n",
    "nn = lk\n",
    "jh = {'as' : 1,'bs':2}\n",
    "i = jh\n",
    "k = [1,2,3,4]\n",
    "m = k\n",
    "u =liss(k)\n",
    "print(u[0])\n",
    "t = u[1]\n",
    "print(t)"
   ]
  },
  {
   "cell_type": "code",
   "execution_count": 114,
   "id": "2fe47cd6",
   "metadata": {},
   "outputs": [
    {
     "name": "stdout",
     "output_type": "stream",
     "text": [
      "110\n",
      "10\n"
     ]
    }
   ],
   "source": [
    "same = 10\n",
    "name =same\n",
    "isinstance(\"name\",object)\n",
    "t = same\n",
    "same = same +100\n",
    "print(same)\n",
    "print(name)\n"
   ]
  },
  {
   "cell_type": "code",
   "execution_count": 115,
   "id": "ada6322a",
   "metadata": {},
   "outputs": [
    {
     "name": "stdout",
     "output_type": "stream",
     "text": [
      "[1, 2, 3]\n",
      "10\n",
      "([1, 2, 3], 10, 15)\n",
      "[1, 2, 3]\n",
      "10\n"
     ]
    }
   ],
   "source": [
    "def grt(j):\n",
    "    t =j+5\n",
    "    f = [1,2,3]\n",
    "    print(f)\n",
    "    print(j)\n",
    "    return (f,j,t)\n",
    "x =10\n",
    "s =grt(x)\n",
    "print(s)\n",
    "print(s[0])\n",
    "print(x)"
   ]
  },
  {
   "cell_type": "code",
   "execution_count": 116,
   "id": "95bf361d",
   "metadata": {},
   "outputs": [
    {
     "name": "stdout",
     "output_type": "stream",
     "text": [
      "10\n",
      "4\n",
      "10\n"
     ]
    }
   ],
   "source": [
    "e = 10\n",
    "def ad(g):\n",
    "    \n",
    "    t = e*e+e+5\n",
    "    print(e)\n",
    "    return g\n",
    "f = 4\n",
    "print(ad(f))\n",
    "print(e)"
   ]
  }
 ],
 "metadata": {
  "kernelspec": {
   "display_name": "Python 3 (ipykernel)",
   "language": "python",
   "name": "python3"
  },
  "language_info": {
   "codemirror_mode": {
    "name": "ipython",
    "version": 3
   },
   "file_extension": ".py",
   "mimetype": "text/x-python",
   "name": "python",
   "nbconvert_exporter": "python",
   "pygments_lexer": "ipython3",
   "version": "3.11.2"
  }
 },
 "nbformat": 4,
 "nbformat_minor": 5
}
